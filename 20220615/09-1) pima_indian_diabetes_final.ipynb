{
 "cells": [
  {
   "cell_type": "code",
   "execution_count": 1,
   "id": "110d6c84",
   "metadata": {},
   "outputs": [],
   "source": [
    "# 피마 인디언 당뇨병 예측"
   ]
  },
  {
   "cell_type": "markdown",
   "id": "62ed74ec",
   "metadata": {},
   "source": [
    "* Pregnancies: 임신횟수\n",
    "\n",
    "\n",
    "* Glucose: 포도당 부하 검사 수치\n",
    "\n",
    "\n",
    "* BloodPressure: 혈압\n",
    "\n",
    "\n",
    "* SkinThickness: 팔 삼두근 뒤쪽의 피하지방 측정값(mm)\n",
    "\n",
    "\n",
    "* Insulin: 혈청 인슐린\n",
    "\n",
    "\n",
    "* BMI: 체질량지수(체중(kg)/키(m))^2)\n",
    "\n",
    "\n",
    "* DiabetesPedigreeFunction: 당뇨 내력 가중치값\n",
    "\n",
    "\n",
    "* Age: 나이\n",
    "\n",
    "\n",
    "* Outcome: 클래스 결정 값(0또는 1)"
   ]
  },
  {
   "cell_type": "code",
   "execution_count": 4,
   "id": "be307444",
   "metadata": {},
   "outputs": [],
   "source": [
    "import numpy as np\n",
    "import pandas as pd\n",
    "import matplotlib.pyplot as plt\n",
    "%matplotlib inline\n",
    "\n",
    "from sklearn.model_selection import train_test_split\n",
    "from sklearn.metrics import accuracy_score, precision_score, recall_score\n",
    "from sklearn.metrics import f1_score, confusion_matrix, precision_recall_curve, roc_auc_score, roc_curve"
   ]
  },
  {
   "cell_type": "code",
   "execution_count": 7,
   "id": "2de2cb5b",
   "metadata": {},
   "outputs": [],
   "source": [
    "from sklearn.linear_model import LogisticRegression\n",
    "from sklearn.tree import DecisionTreeClassifier\n",
    "from sklearn.ensemble import RandomForestClassifier\n",
    "\n",
    "diabetes_df = pd.read_csv('./data/diabetes.csv')"
   ]
  },
  {
   "cell_type": "code",
   "execution_count": 8,
   "id": "3adbc0c4",
   "metadata": {},
   "outputs": [
    {
     "name": "stdout",
     "output_type": "stream",
     "text": [
      "<class 'pandas.core.frame.DataFrame'>\n",
      "RangeIndex: 768 entries, 0 to 767\n",
      "Data columns (total 9 columns):\n",
      " #   Column                    Non-Null Count  Dtype  \n",
      "---  ------                    --------------  -----  \n",
      " 0   Pregnancies               768 non-null    int64  \n",
      " 1   Glucose                   768 non-null    int64  \n",
      " 2   BloodPressure             768 non-null    int64  \n",
      " 3   SkinThickness             768 non-null    int64  \n",
      " 4   Insulin                   768 non-null    int64  \n",
      " 5   BMI                       768 non-null    float64\n",
      " 6   DiabetesPedigreeFunction  768 non-null    float64\n",
      " 7   Age                       768 non-null    int64  \n",
      " 8   Outcome                   768 non-null    int64  \n",
      "dtypes: float64(2), int64(7)\n",
      "memory usage: 54.1 KB\n"
     ]
    }
   ],
   "source": [
    "diabetes_df.info()"
   ]
  },
  {
   "cell_type": "code",
   "execution_count": 11,
   "id": "9bf15659",
   "metadata": {},
   "outputs": [
    {
     "data": {
      "text/plain": [
       "0    500\n",
       "1    268\n",
       "Name: Outcome, dtype: int64"
      ]
     },
     "execution_count": 11,
     "metadata": {},
     "output_type": "execute_result"
    }
   ],
   "source": [
    "diabetes_df['Outcome'].value_counts()"
   ]
  },
  {
   "cell_type": "code",
   "execution_count": 12,
   "id": "32186b02",
   "metadata": {},
   "outputs": [],
   "source": [
    "def get_con_matrix(y_test,pred):\n",
    "    confusion = confusion_matrix(y_test,pred)\n",
    "    accuracy = accuracy_score(y_test,pred)\n",
    "    p_score = precision_score(y_test,pred)\n",
    "    r_score = recall_score(y_test,pred)\n",
    "    roc_auc = roc_auc_score(y_test,pred)\n",
    "    #f1 score 추가\n",
    "    f1 = f1_score(y_test,pred)\n",
    "    print('오차 행렬')\n",
    "    print(confusion)\n",
    "    #f1 score print추가\n",
    "    print('accuracy: {0:.4f}, precision:{1:.4f}, recall:{2:.4f}, f1:{3:.4f}, roc_auc:{4:.4f}'.format(accuracy,\n",
    "                                                                                                    p_score,\n",
    "                                                                                                    r_score,\n",
    "                                                                                                    f1,\n",
    "                                                                                                    roc_auc))\n",
    "    "
   ]
  },
  {
   "cell_type": "code",
   "execution_count": 15,
   "id": "55059faa",
   "metadata": {},
   "outputs": [],
   "source": [
    "X = diabetes_df.drop(['Outcome'],axis=1)\n",
    "y = diabetes_df.iloc[:,-1]"
   ]
  },
  {
   "cell_type": "code",
   "execution_count": 54,
   "id": "00bea08c",
   "metadata": {},
   "outputs": [
    {
     "name": "stdout",
     "output_type": "stream",
     "text": [
      "오차 행렬\n",
      "[[90 10]\n",
      " [25 29]]\n",
      "accuracy: 0.7727, precision:0.7436, recall:0.5370, f1:0.6237, roc_auc:0.7185\n",
      "오차 행렬\n",
      "[[79 21]\n",
      " [19 35]]\n",
      "accuracy: 0.7403, precision:0.6250, recall:0.6481, f1:0.6364, roc_auc:0.7191\n",
      "오차 행렬\n",
      "[[83 17]\n",
      " [21 33]]\n",
      "accuracy: 0.7532, precision:0.6600, recall:0.6111, f1:0.6346, roc_auc:0.7206\n"
     ]
    },
    {
     "name": "stderr",
     "output_type": "stream",
     "text": [
      "C:\\Users\\user\\anaconda3\\lib\\site-packages\\sklearn\\linear_model\\_logistic.py:763: ConvergenceWarning: lbfgs failed to converge (status=1):\n",
      "STOP: TOTAL NO. of ITERATIONS REACHED LIMIT.\n",
      "\n",
      "Increase the number of iterations (max_iter) or scale the data as shown in:\n",
      "    https://scikit-learn.org/stable/modules/preprocessing.html\n",
      "Please also refer to the documentation for alternative solver options:\n",
      "    https://scikit-learn.org/stable/modules/linear_model.html#logistic-regression\n",
      "  n_iter_i = _check_optimize_result(\n"
     ]
    }
   ],
   "source": [
    "# train_test_split\n",
    "\n",
    "X_train, X_test, y_train, y_test = train_test_split(X,y, test_size=0.2,                                                  \n",
    "                                                   stratify=y)\n",
    "\n",
    "# fitting 시작\n",
    "# from sklearn.linear_model import LogisticRegression\n",
    "\n",
    "lr_clf = LogisticRegression()\n",
    "lr_clf.fit(X_train,y_train)\n",
    "pred_lr = lr_clf.predict(X_test)\n",
    "get_con_matrix(y_test,pred_lr)\n",
    "\n",
    "# from sklearn.tree import DecisionTreeClassifier\n",
    "dt_clf = DecisionTreeClassifier()\n",
    "dt_clf.fit(X_train,y_train)\n",
    "pred_dt = dt_clf.predict(X_test)\n",
    "get_con_matrix(y_test,pred_dt)\n",
    "\n",
    "# from sklearn.ensemble import RandomForestClassifier\n",
    "rf_clf = RandomForestClassifier()\n",
    "rf_clf.fit(X_train,y_train)\n",
    "pred_rf = rf_clf.predict(X_test)\n",
    "get_con_matrix(y_test,pred_rf)"
   ]
  },
  {
   "cell_type": "code",
   "execution_count": 55,
   "id": "4c443984",
   "metadata": {},
   "outputs": [],
   "source": [
    "# 정확도보다는 재현율 성능에 좀 더 초점을 맞추어 developing을 시작"
   ]
  },
  {
   "cell_type": "code",
   "execution_count": 62,
   "id": "f0477b72",
   "metadata": {},
   "outputs": [],
   "source": [
    "def p_r_curve_plot(y_test, pred_proba):\n",
    "    # threshold ndarray로 가져와보고 \n",
    "    # 위의 threshold에 따른 정밀도, 재현율의 ndarray를 추출\n",
    "    precisions, recalls, thresholds = precision_recall_curve(y_test, pred_proba)\n",
    "    \n",
    "    # X축 = threshold\n",
    "    # y축은 precision(점선) 및 recall(주황선) 설정\n",
    "    # 각 곡선을 중첩되게 graph화\n",
    "    plt.figure(figsize=(8,6))\n",
    "    threshold_boudary = thresholds.shape[0]\n",
    "    plt.plot(thresholds, precisions[0:threshold_boudary], linestyle='--', label='precison')\n",
    "    plt.plot(thresholds, recalls[0:threshold_boudary], label='recall')\n",
    "    \n",
    "    # threshold 값 x 축의 scale을 0,1으로 scaling\n",
    "    start, end = plt.xlim()\n",
    "    plt.xticks(np.round(np.arange(start,end,0.10),2))\n",
    "    \n",
    "    # X축, y축 label 및 legend 추가\n",
    "    # grid도 추가\n",
    "    plt.xlabel('Threshold_value')\n",
    "    plt.ylabel('Precision and Recall')\n",
    "    plt.legend()\n",
    "    plt.grid()\n",
    "    plt.show() "
   ]
  },
  {
   "cell_type": "code",
   "execution_count": 63,
   "id": "65f5e01f",
   "metadata": {},
   "outputs": [
    {
     "data": {
      "image/png": "[encoded data removed]",
      "text/plain": [
       "<Figure size 576x432 with 1 Axes>"
      ]
     },
     "metadata": {
      "needs_background": "light"
     },
     "output_type": "display_data"
    }
   ],
   "source": [
    "pred_proba = lr_clf.predict_proba(X_test)[:,1]\n",
    "p_r_curve_plot(y_test,pred_proba)"
   ]
  },
  {
   "cell_type": "code",
   "execution_count": 65,
   "id": "44d866fc",
   "metadata": {},
   "outputs": [
    {
     "data": {
      "text/html": [
       "<div>\n",
       "<style scoped>\n",
       "    .dataframe tbody tr th:only-of-type {\n",
       "        vertical-align: middle;\n",
       "    }\n",
       "\n",
       "    .dataframe tbody tr th {\n",
       "        vertical-align: top;\n",
       "    }\n",
       "\n",
       "    .dataframe thead th {\n",
       "        text-align: right;\n",
       "    }\n",
       "</style>\n",
       "<table border=\"1\" class=\"dataframe\">\n",
       "  <thead>\n",
       "    <tr style=\"text-align: right;\">\n",
       "      <th></th>\n",
       "      <th>Pregnancies</th>\n",
       "      <th>Glucose</th>\n",
       "      <th>BloodPressure</th>\n",
       "      <th>SkinThickness</th>\n",
       "      <th>Insulin</th>\n",
       "      <th>BMI</th>\n",
       "      <th>DiabetesPedigreeFunction</th>\n",
       "      <th>Age</th>\n",
       "      <th>Outcome</th>\n",
       "    </tr>\n",
       "  </thead>\n",
       "  <tbody>\n",
       "    <tr>\n",
       "      <th>count</th>\n",
       "      <td>768.000000</td>\n",
       "      <td>768.000000</td>\n",
       "      <td>768.000000</td>\n",
       "      <td>768.000000</td>\n",
       "      <td>768.000000</td>\n",
       "      <td>768.000000</td>\n",
       "      <td>768.000000</td>\n",
       "      <td>768.000000</td>\n",
       "      <td>768.000000</td>\n",
       "    </tr>\n",
       "    <tr>\n",
       "      <th>mean</th>\n",
       "      <td>3.845052</td>\n",
       "      <td>120.894531</td>\n",
       "      <td>69.105469</td>\n",
       "      <td>20.536458</td>\n",
       "      <td>79.799479</td>\n",
       "      <td>31.992578</td>\n",
       "      <td>0.471876</td>\n",
       "      <td>33.240885</td>\n",
       "      <td>0.348958</td>\n",
       "    </tr>\n",
       "    <tr>\n",
       "      <th>std</th>\n",
       "      <td>3.369578</td>\n",
       "      <td>31.972618</td>\n",
       "      <td>19.355807</td>\n",
       "      <td>15.952218</td>\n",
       "      <td>115.244002</td>\n",
       "      <td>7.884160</td>\n",
       "      <td>0.331329</td>\n",
       "      <td>11.760232</td>\n",
       "      <td>0.476951</td>\n",
       "    </tr>\n",
       "    <tr>\n",
       "      <th>min</th>\n",
       "      <td>0.000000</td>\n",
       "      <td>0.000000</td>\n",
       "      <td>0.000000</td>\n",
       "      <td>0.000000</td>\n",
       "      <td>0.000000</td>\n",
       "      <td>0.000000</td>\n",
       "      <td>0.078000</td>\n",
       "      <td>21.000000</td>\n",
       "      <td>0.000000</td>\n",
       "    </tr>\n",
       "    <tr>\n",
       "      <th>25%</th>\n",
       "      <td>1.000000</td>\n",
       "      <td>99.000000</td>\n",
       "      <td>62.000000</td>\n",
       "      <td>0.000000</td>\n",
       "      <td>0.000000</td>\n",
       "      <td>27.300000</td>\n",
       "      <td>0.243750</td>\n",
       "      <td>24.000000</td>\n",
       "      <td>0.000000</td>\n",
       "    </tr>\n",
       "    <tr>\n",
       "      <th>50%</th>\n",
       "      <td>3.000000</td>\n",
       "      <td>117.000000</td>\n",
       "      <td>72.000000</td>\n",
       "      <td>23.000000</td>\n",
       "      <td>30.500000</td>\n",
       "      <td>32.000000</td>\n",
       "      <td>0.372500</td>\n",
       "      <td>29.000000</td>\n",
       "      <td>0.000000</td>\n",
       "    </tr>\n",
       "    <tr>\n",
       "      <th>75%</th>\n",
       "      <td>6.000000</td>\n",
       "      <td>140.250000</td>\n",
       "      <td>80.000000</td>\n",
       "      <td>32.000000</td>\n",
       "      <td>127.250000</td>\n",
       "      <td>36.600000</td>\n",
       "      <td>0.626250</td>\n",
       "      <td>41.000000</td>\n",
       "      <td>1.000000</td>\n",
       "    </tr>\n",
       "    <tr>\n",
       "      <th>max</th>\n",
       "      <td>17.000000</td>\n",
       "      <td>199.000000</td>\n",
       "      <td>122.000000</td>\n",
       "      <td>99.000000</td>\n",
       "      <td>846.000000</td>\n",
       "      <td>67.100000</td>\n",
       "      <td>2.420000</td>\n",
       "      <td>81.000000</td>\n",
       "      <td>1.000000</td>\n",
       "    </tr>\n",
       "  </tbody>\n",
       "</table>\n",
       "</div>"
      ],
      "text/plain": [
       "       Pregnancies     Glucose  BloodPressure  SkinThickness     Insulin  \\\n",
       "count   768.000000  768.000000     768.000000     768.000000  768.000000   \n",
       "mean      3.845052  120.894531      69.105469      20.536458   79.799479   \n",
       "std       3.369578   31.972618      19.355807      15.952218  115.244002   \n",
       "min       0.000000    0.000000       0.000000       0.000000    0.000000   \n",
       "25%       1.000000   99.000000      62.000000       0.000000    0.000000   \n",
       "50%       3.000000  117.000000      72.000000      23.000000   30.500000   \n",
       "75%       6.000000  140.250000      80.000000      32.000000  127.250000   \n",
       "max      17.000000  199.000000     122.000000      99.000000  846.000000   \n",
       "\n",
       "              BMI  DiabetesPedigreeFunction         Age     Outcome  \n",
       "count  768.000000                768.000000  768.000000  768.000000  \n",
       "mean    31.992578                  0.471876   33.240885    0.348958  \n",
       "std      7.884160                  0.331329   11.760232    0.476951  \n",
       "min      0.000000                  0.078000   21.000000    0.000000  \n",
       "25%     27.300000                  0.243750   24.000000    0.000000  \n",
       "50%     32.000000                  0.372500   29.000000    0.000000  \n",
       "75%     36.600000                  0.626250   41.000000    1.000000  \n",
       "max     67.100000                  2.420000   81.000000    1.000000  "
      ]
     },
     "execution_count": 65,
     "metadata": {},
     "output_type": "execute_result"
    }
   ],
   "source": [
    "diabetes_df.describe()"
   ]
  },
  {
   "cell_type": "code",
   "execution_count": 68,
   "id": "67d0fd85",
   "metadata": {},
   "outputs": [
    {
     "data": {
      "text/plain": [
       "(array([ 35.,   1.,   2.,  13., 107., 261., 243.,  87.,  14.,   5.]),\n",
       " array([  0. ,  12.2,  24.4,  36.6,  48.8,  61. ,  73.2,  85.4,  97.6,\n",
       "        109.8, 122. ]),\n",
       " <BarContainer object of 10 artists>)"
      ]
     },
     "execution_count": 68,
     "metadata": {},
     "output_type": "execute_result"
    },
    {
     "data": {
      "image/png": "[encoded data removed]",
      "text/plain": [
       "<Figure size 432x288 with 1 Axes>"
      ]
     },
     "metadata": {
      "needs_background": "light"
     },
     "output_type": "display_data"
    }
   ],
   "source": [
    "plt.hist(diabetes_df['BloodPressure'], bins=10)"
   ]
  },
  {
   "cell_type": "code",
   "execution_count": 72,
   "id": "4bb99526",
   "metadata": {},
   "outputs": [
    {
     "data": {
      "text/plain": [
       "5"
      ]
     },
     "execution_count": 72,
     "metadata": {},
     "output_type": "execute_result"
    }
   ],
   "source": [
    "diabetes_df[diabetes_df['Glucose']==0]['Glucose'].count()"
   ]
  },
  {
   "cell_type": "code",
   "execution_count": 74,
   "id": "84d0af8a",
   "metadata": {},
   "outputs": [
    {
     "name": "stdout",
     "output_type": "stream",
     "text": [
      "Glucose의 0건수는 5, 퍼센트는0.65 %\n",
      "BloodPressure의 0건수는 35, 퍼센트는4.56 %\n",
      "SkinThickness의 0건수는 227, 퍼센트는29.56 %\n",
      "Insulin의 0건수는 374, 퍼센트는48.70 %\n",
      "BMI의 0건수는 11, 퍼센트는1.43 %\n"
     ]
    }
   ],
   "source": [
    "# 0값이 있는 feature 확인해볼 ftrs :: Glucose BloodPressure SkinThickness Insulin BMI\n",
    "\n",
    "zero_ftrs = ['Glucose','BloodPressure','SkinThickness','Insulin','BMI']\n",
    "\n",
    "total_cnt = diabetes_df.Glucose.count()\n",
    "\n",
    "for ftr in  zero_ftrs:\n",
    "    z_cnt = diabetes_df[diabetes_df[ftr]==0][ftr].count()\n",
    "    print('{0}의 0건수는 {1}, 퍼센트는{2:.2f} %'.format(ftr,z_cnt,(z_cnt/total_cnt)*100))"
   ]
  },
  {
   "cell_type": "code",
   "execution_count": 77,
   "id": "99d042a3",
   "metadata": {},
   "outputs": [],
   "source": [
    "mean_zero_ftrs = diabetes_df[zero_ftrs].mean()\n",
    "diabetes_df[zero_ftrs] = diabetes_df[zero_ftrs].replace(0,mean_zero_ftrs)"
   ]
  },
  {
   "cell_type": "code",
   "execution_count": 78,
   "id": "d27b1692",
   "metadata": {},
   "outputs": [
    {
     "name": "stdout",
     "output_type": "stream",
     "text": [
      "오차 행렬\n",
      "[[93  7]\n",
      " [33 21]]\n",
      "accuracy: 0.7403, precision:0.7500, recall:0.3889, f1:0.5122, roc_auc:0.6594\n",
      "오차 행렬\n",
      "[[80 20]\n",
      " [28 26]]\n",
      "accuracy: 0.6883, precision:0.5652, recall:0.4815, f1:0.5200, roc_auc:0.6407\n",
      "오차 행렬\n",
      "[[91  9]\n",
      " [27 27]]\n",
      "accuracy: 0.7662, precision:0.7500, recall:0.5000, f1:0.6000, roc_auc:0.7050\n"
     ]
    },
    {
     "name": "stderr",
     "output_type": "stream",
     "text": [
      "C:\\Users\\user\\anaconda3\\lib\\site-packages\\sklearn\\linear_model\\_logistic.py:763: ConvergenceWarning: lbfgs failed to converge (status=1):\n",
      "STOP: TOTAL NO. of ITERATIONS REACHED LIMIT.\n",
      "\n",
      "Increase the number of iterations (max_iter) or scale the data as shown in:\n",
      "    https://scikit-learn.org/stable/modules/preprocessing.html\n",
      "Please also refer to the documentation for alternative solver options:\n",
      "    https://scikit-learn.org/stable/modules/linear_model.html#logistic-regression\n",
      "  n_iter_i = _check_optimize_result(\n"
     ]
    }
   ],
   "source": [
    "X_scaled = diabetes_df.drop(['Outcome'],axis=1)\n",
    "y_scaled = diabetes_df.iloc[:,-1]\n",
    "\n",
    "# train_test_split\n",
    "\n",
    "X_train, X_test, y_train, y_test = train_test_split(X_scaled, y_scaled, test_size=0.2,                                                  \n",
    "                                                   stratify=y)\n",
    "\n",
    "# fitting 시작\n",
    "# from sklearn.linear_model import LogisticRegression\n",
    "\n",
    "lr_clf = LogisticRegression()\n",
    "lr_clf.fit(X_train,y_train)\n",
    "pred_lr = lr_clf.predict(X_test)\n",
    "get_con_matrix(y_test,pred_lr)\n",
    "\n",
    "# from sklearn.tree import DecisionTreeClassifier\n",
    "dt_clf = DecisionTreeClassifier()\n",
    "dt_clf.fit(X_train,y_train)\n",
    "pred_dt = dt_clf.predict(X_test)\n",
    "get_con_matrix(y_test,pred_dt)\n",
    "\n",
    "# from sklearn.ensemble import RandomForestClassifier\n",
    "rf_clf = RandomForestClassifier()\n",
    "rf_clf.fit(X_train,y_train)\n",
    "pred_rf = rf_clf.predict(X_test)\n",
    "get_con_matrix(y_test,pred_rf)"
   ]
  },
  {
   "cell_type": "code",
   "execution_count": 79,
   "id": "68dd0584",
   "metadata": {},
   "outputs": [],
   "source": [
    "from sklearn.preprocessing import Binarizer\n",
    "\n",
    "def get_eval_by_threshold(y_test, pred_proba_c1, thresholds):\n",
    "    Iter = 0\n",
    "    for custom_threshold in thresholds:\n",
    "        Iter +=1\n",
    "        binarizer = Binarizer(threshold=custom_threshold).fit(pred_proba_c1)\n",
    "        custom_predict = binarizer.transform(pred_proba_c1)\n",
    "        print('임계치', custom_threshold)\n",
    "        accuracy = accuracy_score(y_test, custom_predict)\n",
    "        p_score = precision_score(y_test, custom_predict)\n",
    "        r_score = recall_score(y_test, custom_predict)\n",
    "        F_score = f1_score(y_test, custom_predict)\n",
    "        ra_score = roc_auc_score(y_test, custom_predict)\n",
    "        print('{0}번째 시행\\n accuracy:{1:.4f},prescision:{2:.4f},recall:{3:.4f}, f1:{4:.4f}, roc_auc:{5:.4f} \\n'.format(Iter,accuracy,p_score,r_score,F_score,ra_score))"
   ]
  },
  {
   "cell_type": "code",
   "execution_count": 81,
   "id": "b515fe30",
   "metadata": {},
   "outputs": [
    {
     "name": "stdout",
     "output_type": "stream",
     "text": [
      "임계치 0.1\n",
      "1번째 시행\n",
      " accuracy:0.4221,prescision:0.3759,recall:0.9815, f1:0.5436, roc_auc:0.5507 \n",
      "\n",
      "임계치 0.2\n",
      "2번째 시행\n",
      " accuracy:0.6558,prescision:0.5052,recall:0.9074, f1:0.6490, roc_auc:0.7137 \n",
      "\n",
      "임계치 0.3\n",
      "3번째 시행\n",
      " accuracy:0.6948,prescision:0.5538,recall:0.6667, f1:0.6050, roc_auc:0.6883 \n",
      "\n",
      "임계치 0.4\n",
      "4번째 시행\n",
      " accuracy:0.7208,prescision:0.6222,recall:0.5185, f1:0.5657, roc_auc:0.6743 \n",
      "\n",
      "임계치 0.45\n",
      "5번째 시행\n",
      " accuracy:0.7403,prescision:0.6944,recall:0.4630, f1:0.5556, roc_auc:0.6765 \n",
      "\n",
      "임계치 0.5\n",
      "6번째 시행\n",
      " accuracy:0.7403,prescision:0.7500,recall:0.3889, f1:0.5122, roc_auc:0.6594 \n",
      "\n",
      "임계치 0.55\n",
      "7번째 시행\n",
      " accuracy:0.7403,prescision:0.7917,recall:0.3519, f1:0.4872, roc_auc:0.6509 \n",
      "\n",
      "임계치 0.6\n",
      "8번째 시행\n",
      " accuracy:0.7468,prescision:0.8571,recall:0.3333, f1:0.4800, roc_auc:0.6517 \n",
      "\n"
     ]
    }
   ],
   "source": [
    "threshold = [0.1,0.2,0.3,0.4,0.45,0.50,0.55,0.60]\n",
    "pred_proba = lr_clf.predict_proba(X_test)\n",
    "get_eval_by_threshold(y_test, pred_proba[:,1].reshape(-1,1), threshold)"
   ]
  }
 ],
 "metadata": {
  "kernelspec": {
   "display_name": "Python 3 (ipykernel)",
   "language": "python",
   "name": "python3"
  },
  "language_info": {
   "codemirror_mode": {
    "name": "ipython",
    "version": 3
   },
   "file_extension": ".py",
   "mimetype": "text/x-python",
   "name": "python",
   "nbconvert_exporter": "python",
   "pygments_lexer": "ipython3",
   "version": "3.9.7"
  }
 },
 "nbformat": 4,
 "nbformat_minor": 5
}
