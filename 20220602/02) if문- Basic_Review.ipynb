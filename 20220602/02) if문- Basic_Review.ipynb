{
 "cells": [
  {
   "cell_type": "markdown",
   "id": "53a42fe8",
   "metadata": {},
   "source": [
    "## if문이란?"
   ]
  },
  {
   "cell_type": "markdown",
   "id": "0950d378",
   "metadata": {},
   "source": [
    "> 돈이 있으면, 택시를 타고,\n",
    "> 돈이 없으면, 걸어가야 한다."
   ]
  },
  {
   "cell_type": "code",
   "execution_count": 1,
   "id": "5c472985",
   "metadata": {},
   "outputs": [
    {
     "name": "stdout",
     "output_type": "stream",
     "text": [
      "택시\n"
     ]
    }
   ],
   "source": [
    "money = True\n",
    "if money:\n",
    "    print('택시')\n",
    "else:\n",
    "    print('걷기')"
   ]
  },
  {
   "cell_type": "markdown",
   "id": "cac1c23e",
   "metadata": {},
   "source": [
    "### if문의 생김새 "
   ]
  },
  {
   "attachments": {
    "image-2.png": {
     "image/png": "[encoded data removed]"
    }
   },
   "cell_type": "markdown",
   "id": "138f208b",
   "metadata": {},
   "source": [
    "![image-2.png](attachment:image-2.png)"
   ]
  },
  {
   "cell_type": "code",
   "execution_count": 2,
   "id": "d2b365b0",
   "metadata": {},
   "outputs": [],
   "source": [
    "### 들여쓰기 (indentation)"
   ]
  },
  {
   "cell_type": "code",
   "execution_count": 5,
   "id": "9393425c",
   "metadata": {},
   "outputs": [
    {
     "ename": "IndentationError",
     "evalue": "unexpected indent (Temp/ipykernel_1864/3795377524.py, line 6)",
     "output_type": "error",
     "traceback": [
      "\u001b[1;36m  File \u001b[1;32m\"C:\\Users\\user\\AppData\\Local\\Temp/ipykernel_1864/3795377524.py\"\u001b[1;36m, line \u001b[1;32m6\u001b[0m\n\u001b[1;33m    print('집')\u001b[0m\n\u001b[1;37m    ^\u001b[0m\n\u001b[1;31mIndentationError\u001b[0m\u001b[1;31m:\u001b[0m unexpected indent\n"
     ]
    }
   ],
   "source": [
    "money = True\n",
    "if money:\n",
    "    print('시계')\n",
    "    print('팔찌')\n",
    "print('차')\n",
    "    print('집')"
   ]
  },
  {
   "cell_type": "markdown",
   "id": "6329ad59",
   "metadata": {},
   "source": [
    "## 비교연산자"
   ]
  },
  {
   "attachments": {
    "image.png": {
     "image/png": "[encoded data removed]"
    }
   },
   "cell_type": "markdown",
   "id": "fcd01e68",
   "metadata": {},
   "source": [
    "![image.png](attachment:image.png) "
   ]
  },
  {
   "cell_type": "markdown",
   "id": "9a5e9af7",
   "metadata": {},
   "source": [
    "> 만약 3800원 이상의 돈을 갖고 있다면, 택시를 타고\n",
    "> 아니면 걸어가세요"
   ]
  },
  {
   "cell_type": "code",
   "execution_count": 6,
   "id": "c98ea6ea",
   "metadata": {},
   "outputs": [
    {
     "name": "stdout",
     "output_type": "stream",
     "text": [
      "걷기\n"
     ]
    }
   ],
   "source": [
    "money = 0\n",
    "if money >= 3800:\n",
    "    print('택시')\n",
    "else:\n",
    "    print('걷기')"
   ]
  },
  {
   "cell_type": "code",
   "execution_count": 7,
   "id": "c10f5281",
   "metadata": {},
   "outputs": [
    {
     "name": "stdout",
     "output_type": "stream",
     "text": [
      "택시\n"
     ]
    }
   ],
   "source": [
    "## - 1번 만약에 카드는?\n",
    "money = 0\n",
    "card = True\n",
    "\n",
    "if money >=3800 or card:\n",
    "    print('택시')\n",
    "\n",
    "else:\n",
    "    print('걷기')"
   ]
  },
  {
   "cell_type": "code",
   "execution_count": 8,
   "id": "638f9bd2",
   "metadata": {},
   "outputs": [
    {
     "name": "stdout",
     "output_type": "stream",
     "text": [
      "택시\n"
     ]
    }
   ],
   "source": [
    "## - 2번 :: Bag의 개념을 적용?\n",
    "bag = ['card','gold','silver','phone']\n",
    "\n",
    "if money>=3800 or 'card' in bag:\n",
    "    print('택시')\n",
    "\n",
    "else:\n",
    "    print('걷기')"
   ]
  },
  {
   "cell_type": "markdown",
   "id": "1ea8025f",
   "metadata": {},
   "source": [
    "### 다양한 조건을 표현하는 elif"
   ]
  },
  {
   "cell_type": "code",
   "execution_count": 9,
   "id": "2a177311",
   "metadata": {},
   "outputs": [
    {
     "name": "stdout",
     "output_type": "stream",
     "text": [
      "걷기\n"
     ]
    }
   ],
   "source": [
    "bag1 = ['phone','ring']\n",
    "\n",
    "if 'money' in bag1:\n",
    "    print('택시')\n",
    "\n",
    "else: \n",
    "    if 'card' in bag1:\n",
    "        print('택시')\n",
    "    else:\n",
    "        if 'gold' in bag1:\n",
    "            print('택시')\n",
    "        else:\n",
    "            print('걷기')"
   ]
  },
  {
   "cell_type": "code",
   "execution_count": 11,
   "id": "c751f9d8",
   "metadata": {},
   "outputs": [
    {
     "name": "stdout",
     "output_type": "stream",
     "text": [
      "걷기\n"
     ]
    }
   ],
   "source": [
    "bag1 = ['phone','ring']\n",
    "\n",
    "if 'money' in bag1:\n",
    "    print('택시')\n",
    "elif 'card' in bag1:\n",
    "    print('택시')    \n",
    "elif 'gold' in bag1:\n",
    "    print('택시')\n",
    "else:\n",
    "    print('걷기')"
   ]
  },
  {
   "cell_type": "markdown",
   "id": "523bbace",
   "metadata": {},
   "source": [
    "### 조건부 표현식"
   ]
  },
  {
   "cell_type": "code",
   "execution_count": 24,
   "id": "526d4c7b",
   "metadata": {},
   "outputs": [],
   "source": [
    "score = 55 # 오점이 없는 여러분"
   ]
  },
  {
   "cell_type": "code",
   "execution_count": 14,
   "id": "95e17f1f",
   "metadata": {},
   "outputs": [],
   "source": [
    "if score >= 60:\n",
    "    message = 'success'\n",
    "else:\n",
    "    message = 'fail'"
   ]
  },
  {
   "cell_type": "code",
   "execution_count": 29,
   "id": "bd57b0f1",
   "metadata": {},
   "outputs": [],
   "source": [
    "score = 95"
   ]
  },
  {
   "cell_type": "code",
   "execution_count": 30,
   "id": "82e0d942",
   "metadata": {},
   "outputs": [
    {
     "name": "stdout",
     "output_type": "stream",
     "text": [
      "very_good\n"
     ]
    }
   ],
   "source": [
    "### 위의 식을 한줄로 표현해보자.\n",
    "\n",
    "# step1 두 줄로 먼저 만들자\n",
    "if score >= 60: message = 'success'\n",
    "else: message = 'fail'\n",
    "\n",
    "# step2 한 줄로 써보기\n",
    "# if score >= 60: message = 'success' else: message = 'fail'\n",
    "        \n",
    "# step3 도치문장... \n",
    "# message = 'success' if score >= 60  else message = 'fail'\n",
    "\n",
    "# step4 뒤의 변수를 지워보기... \n",
    "message = 'fail' if score < 60  else('good' if score<75 else 'very_good')\n",
    "\n",
    "print(message)"
   ]
  },
  {
   "cell_type": "code",
   "execution_count": 31,
   "id": "0919945a",
   "metadata": {},
   "outputs": [],
   "source": [
    "# end of file"
   ]
  }
 ],
 "metadata": {
  "kernelspec": {
   "display_name": "Python 3 (ipykernel)",
   "language": "python",
   "name": "python3"
  },
  "language_info": {
   "codemirror_mode": {
    "name": "ipython",
    "version": 3
   },
   "file_extension": ".py",
   "mimetype": "text/x-python",
   "name": "python",
   "nbconvert_exporter": "python",
   "pygments_lexer": "ipython3",
   "version": "3.9.7"
  }
 },
 "nbformat": 4,
 "nbformat_minor": 5
}
