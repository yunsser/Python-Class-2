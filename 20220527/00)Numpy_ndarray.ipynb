{
 "cells": [
  {
   "cell_type": "code",
   "execution_count": 2,
   "id": "ce8ee639",
   "metadata": {},
   "outputs": [],
   "source": [
    "import numpy as np # alias = 별칭\n",
    "import pandas as pd"
   ]
  },
  {
   "cell_type": "markdown",
   "id": "88e19f52",
   "metadata": {},
   "source": [
    "### Numpy 데이터의 특징"
   ]
  },
  {
   "cell_type": "code",
   "execution_count": 7,
   "id": "f73daa6e",
   "metadata": {},
   "outputs": [
    {
     "name": "stdout",
     "output_type": "stream",
     "text": [
      "['1' '2' 'a' 'b'] <U11\n",
      "[1.  2.  3.4] float64\n"
     ]
    }
   ],
   "source": [
    "# ndarray의 경우에는 포함된 모든\n",
    "# 요소의 데이터 속성은 같습니다.\n",
    "\n",
    "l1 = [1,2,'a','b']\n",
    "array1 = np.array(l1)\n",
    "print(array1, array1.dtype)\n",
    "\n",
    "l2 = [1,2,3.4]\n",
    "array2 = np.array(l2)\n",
    "print(array2, array2.dtype)"
   ]
  },
  {
   "cell_type": "code",
   "execution_count": 10,
   "id": "2a44cdbc",
   "metadata": {},
   "outputs": [
    {
     "name": "stdout",
     "output_type": "stream",
     "text": [
      "[1. 2. 3.] float64\n",
      "[1 2 3] int32\n"
     ]
    }
   ],
   "source": [
    "## 데이터 간의 자료형 변환\n",
    "l3 = [1,2,3]\n",
    "array_int = np.array(l3)\n",
    "array_float = array_int.astype('float64')\n",
    "print(array_float, array_float.dtype)\n",
    "\n",
    "l4 = [1.1, 2.2, 3.3]\n",
    "array_float1 = np.array(l4)\n",
    "array_int1 = array_float1.astype('int32')\n",
    "print(array_int1, array_int1.dtype)"
   ]
  },
  {
   "cell_type": "markdown",
   "id": "2f533b3f",
   "metadata": {},
   "source": [
    "### ndarray를 편리하게 생성 - arange, zeros, ones"
   ]
  },
  {
   "cell_type": "code",
   "execution_count": 12,
   "id": "6586216b",
   "metadata": {},
   "outputs": [
    {
     "name": "stdout",
     "output_type": "stream",
     "text": [
      "[0 1 2 3 4 5 6 7 8 9]\n",
      "int32 (10,)\n"
     ]
    }
   ],
   "source": [
    "sq_array = np.arange(10)\n",
    "print(sq_array)\n",
    "print(sq_array.dtype, sq_array.shape)"
   ]
  },
  {
   "cell_type": "code",
   "execution_count": 18,
   "id": "9be3cc65",
   "metadata": {},
   "outputs": [
    {
     "name": "stdout",
     "output_type": "stream",
     "text": [
      "[[0. 0.]\n",
      " [0. 0.]\n",
      " [0. 0.]]\n",
      "float64 (3, 2)\n"
     ]
    }
   ],
   "source": [
    "zero_array = np.zeros((3,2))\n",
    "print(zero_array)\n",
    "print(zero_array.dtype, zero_array.shape)"
   ]
  },
  {
   "cell_type": "code",
   "execution_count": 24,
   "id": "8eadcf84",
   "metadata": {},
   "outputs": [
    {
     "name": "stdout",
     "output_type": "stream",
     "text": [
      "[[1 1 1]\n",
      " [1 1 1]]\n",
      "int32 (2, 3)\n"
     ]
    }
   ],
   "source": [
    "one_array = np.ones((2,3), dtype ='int32')\n",
    "print(one_array)\n",
    "print(one_array.dtype, one_array.shape)"
   ]
  },
  {
   "cell_type": "code",
   "execution_count": 31,
   "id": "8e9a5070",
   "metadata": {},
   "outputs": [
    {
     "name": "stdout",
     "output_type": "stream",
     "text": [
      "[ 1  2  3  4  5  6  7  8  9 10 11 12]\n",
      "sq_array의 차원: 1\n",
      "sq_array의 형태: (12,)\n"
     ]
    }
   ],
   "source": [
    "### ndarray의 차원 및 형태변환\n",
    "sq_array = np.arange(1,13) \n",
    "print(sq_array)\n",
    "print('sq_array의 차원:', sq_array.ndim)\n",
    "print('sq_array의 형태:',sq_array.shape)"
   ]
  },
  {
   "cell_type": "code",
   "execution_count": 44,
   "id": "64bb570a",
   "metadata": {},
   "outputs": [
    {
     "name": "stdout",
     "output_type": "stream",
     "text": [
      "sq_array2d의 차원: 2\n",
      "sq_array2d의 형태: (12, 1)\n"
     ]
    },
    {
     "data": {
      "text/plain": [
       "array([[ 1],\n",
       "       [ 2],\n",
       "       [ 3],\n",
       "       [ 4],\n",
       "       [ 5],\n",
       "       [ 6],\n",
       "       [ 7],\n",
       "       [ 8],\n",
       "       [ 9],\n",
       "       [10],\n",
       "       [11],\n",
       "       [12]])"
      ]
     },
     "execution_count": 44,
     "metadata": {},
     "output_type": "execute_result"
    }
   ],
   "source": [
    "## sq_array를 3,4로 변환 -1\n",
    "sq_array2d = sq_array.reshape(-1,1)\n",
    "print('sq_array2d의 차원:', sq_array2d.ndim)\n",
    "print('sq_array2d의 형태:',sq_array2d.shape)\n",
    "sq_array2d"
   ]
  },
  {
   "cell_type": "code",
   "execution_count": 36,
   "id": "1ed13cf8",
   "metadata": {},
   "outputs": [
    {
     "name": "stdout",
     "output_type": "stream",
     "text": [
      "sq_array2d의 차원: 2\n",
      "sq_array2d의 형태: (4, 3)\n"
     ]
    },
    {
     "data": {
      "text/plain": [
       "array([[ 1,  2,  3],\n",
       "       [ 4,  5,  6],\n",
       "       [ 7,  8,  9],\n",
       "       [10, 11, 12]])"
      ]
     },
     "execution_count": 36,
     "metadata": {},
     "output_type": "execute_result"
    }
   ],
   "source": [
    "## sq_array를 4,3로 변환 -2\n",
    "sq_array2d = sq_array.reshape(4,3)\n",
    "print('sq_array2d의 차원:', sq_array2d.ndim)\n",
    "print('sq_array2d의 형태:',sq_array2d.shape)\n",
    "sq_array2d"
   ]
  },
  {
   "cell_type": "code",
   "execution_count": 37,
   "id": "dd80e7aa",
   "metadata": {},
   "outputs": [
    {
     "ename": "ValueError",
     "evalue": "cannot reshape array of size 12 into shape (2,7)",
     "output_type": "error",
     "traceback": [
      "\u001b[1;31m---------------------------------------------------------------------------\u001b[0m",
      "\u001b[1;31mValueError\u001b[0m                                Traceback (most recent call last)",
      "\u001b[1;32m~\\AppData\\Local\\Temp/ipykernel_16796/2965694369.py\u001b[0m in \u001b[0;36m<module>\u001b[1;34m\u001b[0m\n\u001b[0;32m      1\u001b[0m \u001b[1;31m## 의도적 오류 2,7\u001b[0m\u001b[1;33m\u001b[0m\u001b[1;33m\u001b[0m\u001b[0m\n\u001b[1;32m----> 2\u001b[1;33m \u001b[0msq_array2d\u001b[0m \u001b[1;33m=\u001b[0m \u001b[0msq_array\u001b[0m\u001b[1;33m.\u001b[0m\u001b[0mreshape\u001b[0m\u001b[1;33m(\u001b[0m\u001b[1;36m2\u001b[0m\u001b[1;33m,\u001b[0m\u001b[1;36m7\u001b[0m\u001b[1;33m)\u001b[0m\u001b[1;33m\u001b[0m\u001b[1;33m\u001b[0m\u001b[0m\n\u001b[0m\u001b[0;32m      3\u001b[0m \u001b[0mprint\u001b[0m\u001b[1;33m(\u001b[0m\u001b[1;34m'sq_array2d의 차원:'\u001b[0m\u001b[1;33m,\u001b[0m \u001b[0msq_array2d\u001b[0m\u001b[1;33m.\u001b[0m\u001b[0mndim\u001b[0m\u001b[1;33m)\u001b[0m\u001b[1;33m\u001b[0m\u001b[1;33m\u001b[0m\u001b[0m\n\u001b[0;32m      4\u001b[0m \u001b[0mprint\u001b[0m\u001b[1;33m(\u001b[0m\u001b[1;34m'sq_array2d의 형태:'\u001b[0m\u001b[1;33m,\u001b[0m\u001b[0msq_array2d\u001b[0m\u001b[1;33m.\u001b[0m\u001b[0mshape\u001b[0m\u001b[1;33m)\u001b[0m\u001b[1;33m\u001b[0m\u001b[1;33m\u001b[0m\u001b[0m\n\u001b[0;32m      5\u001b[0m \u001b[0msq_array2d\u001b[0m\u001b[1;33m\u001b[0m\u001b[1;33m\u001b[0m\u001b[0m\n",
      "\u001b[1;31mValueError\u001b[0m: cannot reshape array of size 12 into shape (2,7)"
     ]
    }
   ],
   "source": [
    "## 의도적 오류 2,7\n",
    "sq_array2d = sq_array.reshape(2,7)\n",
    "print('sq_array2d의 차원:', sq_array2d.ndim)\n",
    "print('sq_array2d의 형태:',sq_array2d.shape)\n",
    "sq_array2d"
   ]
  },
  {
   "cell_type": "markdown",
   "id": "5b13d0d2",
   "metadata": {},
   "source": [
    "### 넘파이의 ndarray의 데이터 세트 선택하기 - 인덱싱(Indexing) "
   ]
  },
  {
   "cell_type": "markdown",
   "id": "b755e58f",
   "metadata": {},
   "source": [
    "*넘파이에서 ndarray내의 일부 데이터 셋이나 특정 데이터만을 선택 할 수 있도록 하는 인덱싱에 대한 알아보자"
   ]
  },
  {
   "cell_type": "markdown",
   "id": "ace7ad7c",
   "metadata": {},
   "source": [
    "#### 1.특정한 데이터만 추출\n",
    "#### 2.슬라이싱(Slicing)\n",
    "#### 3.팬시 인덱싱(Fancy Indexing)\n",
    "#### 4.불린 인덱싱(Boolean Indexing)"
   ]
  },
  {
   "cell_type": "code",
   "execution_count": 50,
   "id": "b573f454",
   "metadata": {},
   "outputs": [
    {
     "name": "stdout",
     "output_type": "stream",
     "text": [
      "array1: [1 2 3 4 5 6 7 8 9]\n",
      "value: 3\n",
      "<class 'numpy.int32'>\n"
     ]
    }
   ],
   "source": [
    "# 1~ 9까지의 1차원 ndarray를 생성\n",
    "array1 = np.arange(start=1, stop=10)\n",
    "print('array1:',array1)\n",
    "\n",
    "value= array1[2]\n",
    "print('value:',value) # 잊지말자 0부터\n",
    "print(type(value)) "
   ]
  },
  {
   "cell_type": "markdown",
   "id": "37dd128f",
   "metadata": {},
   "source": [
    "#### 1. 특정데이터 추출"
   ]
  },
  {
   "cell_type": "code",
   "execution_count": 55,
   "id": "93bd891c",
   "metadata": {},
   "outputs": [
    {
     "name": "stdout",
     "output_type": "stream",
     "text": [
      "[[1 2 3]\n",
      " [4 5 6]\n",
      " [7 8 9]]\n",
      "(row=0, col=0) index 가리키는 값: 1\n",
      "(row=0, col=1) index 가리키는 값: 2\n",
      "(row=1, col=0) index 가리키는 값: 4\n",
      "(row=2, col=2) index 가리키는 값: 9\n"
     ]
    }
   ],
   "source": [
    "### 2차원의 ndarray - 특정데이터 추출\n",
    "\n",
    "array1d = np.arange(1,10)\n",
    "array2d = array1d.reshape(3,3)\n",
    "print(array2d)\n",
    "\n",
    "print('(row=0, col=0) index 가리키는 값:', array2d[0,0])\n",
    "print('(row=0, col=1) index 가리키는 값:', array2d[0,1])\n",
    "print('(row=1, col=0) index 가리키는 값:', array2d[1,0])\n",
    "print('(row=2, col=2) index 가리키는 값:', array2d[2,2])"
   ]
  },
  {
   "cell_type": "markdown",
   "id": "0e985806",
   "metadata": {},
   "source": [
    "#### 2. 슬라이싱으로 데이터 추출"
   ]
  },
  {
   "cell_type": "code",
   "execution_count": 67,
   "id": "02d5477a",
   "metadata": {},
   "outputs": [
    {
     "name": "stdout",
     "output_type": "stream",
     "text": [
      "[[1 2 3]\n",
      " [4 5 6]\n",
      " [7 8 9]]\n",
      "array2d:\n",
      " [1 4]\n",
      "array2d:\n",
      " [[1]\n",
      " [4]]\n"
     ]
    }
   ],
   "source": [
    "array1d = np.arange(1,10)\n",
    "array2d = array1d.reshape(-3,3)\n",
    "\n",
    "print(array2d)\n",
    "\n",
    "# print('array2d:\\n',array2d[0:2,0:2])\n",
    "# print('array2d:\\n',array2d[1:3,0:3])\n",
    "# print('array2d:\\n',array2d[1:,:])\n",
    "# print('array2d:\\n',array2d[:,:])\n",
    "print('array2d:\\n',array2d[0:2,0])   # 1차원\n",
    "print('array2d:\\n',array2d[0:2,0:1]) # 2차원"
   ]
  },
  {
   "cell_type": "markdown",
   "id": "2da81134",
   "metadata": {},
   "source": [
    "#### 3.팬시 인덱싱(Fancy Indexing)"
   ]
  },
  {
   "cell_type": "code",
   "execution_count": 68,
   "id": "06832a05",
   "metadata": {},
   "outputs": [
    {
     "name": "stdout",
     "output_type": "stream",
     "text": [
      "array2d[[0,1],2]=> [3, 6]\n",
      "array2d[[0,1],0:2]=> [[1, 2], [4, 5]]\n",
      "array2d[[0,1]]=> [[1, 2, 3], [4, 5, 6]]\n"
     ]
    },
    {
     "data": {
      "text/plain": [
       "array([[1, 2, 3],\n",
       "       [4, 5, 6],\n",
       "       [7, 8, 9]])"
      ]
     },
     "execution_count": 68,
     "metadata": {},
     "output_type": "execute_result"
    }
   ],
   "source": [
    "array1d = np.arange(start=1, stop=10)\n",
    "array2d = array1d.reshape(3,3)\n",
    "\n",
    "array3 = array2d[[0,1],2]\n",
    "print('array2d[[0,1],2]=>',array3.tolist())\n",
    "\n",
    "array4 = array2d[[0,1],0:2]\n",
    "print('array2d[[0,1],0:2]=>',array4.tolist())\n",
    "\n",
    "array5 = array2d[[0,1]]\n",
    "print('array2d[[0,1]]=>',array5.tolist())\n",
    "\n",
    "array2d"
   ]
  },
  {
   "cell_type": "code",
   "execution_count": 76,
   "id": "9d4e6a93",
   "metadata": {},
   "outputs": [],
   "source": [
    "# end of file"
   ]
  }
 ],
 "metadata": {
  "kernelspec": {
   "display_name": "Python 3 (ipykernel)",
   "language": "python",
   "name": "python3"
  },
  "language_info": {
   "codemirror_mode": {
    "name": "ipython",
    "version": 3
   },
   "file_extension": ".py",
   "mimetype": "text/x-python",
   "name": "python",
   "nbconvert_exporter": "python",
   "pygments_lexer": "ipython3",
   "version": "3.9.7"
  }
 },
 "nbformat": 4,
 "nbformat_minor": 5
}
