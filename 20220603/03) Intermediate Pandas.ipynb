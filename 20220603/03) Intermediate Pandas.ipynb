{
 "cells": [
  {
   "cell_type": "code",
   "execution_count": 2,
   "id": "3f92fcc0",
   "metadata": {},
   "outputs": [],
   "source": [
    "# Q1. Chipolet.csv 데이터 로딩을 해주세요.\n",
    "import pandas as pd\n",
    "pd.read_csv('./', sep = '\\t')"
   ]
  },
  {
   "cell_type": "code",
   "execution_count": null,
   "id": "2462bec0",
   "metadata": {},
   "outputs": [],
   "source": []
  },
  {
   "cell_type": "code",
   "execution_count": 3,
   "id": "2e2077df",
   "metadata": {},
   "outputs": [],
   "source": [
    "# Q2. df의 item_name 컬럼 값이 Steak Salad 또는 Bowl 인 데이터를 데이터 프레임화 한 후, \n",
    "# item_name를 기준으로 중복행이 있으면 제거하되 첫번째 케이스만 남겨주세요\n",
    "\n",
    "# drop_duplicates를 한 번 검색해서 써보셔요 ^^"
   ]
  },
  {
   "cell_type": "code",
   "execution_count": null,
   "id": "aa95c45a",
   "metadata": {},
   "outputs": [],
   "source": []
  },
  {
   "cell_type": "code",
   "execution_count": 4,
   "id": "184b6f01",
   "metadata": {},
   "outputs": [],
   "source": [
    "# Q3. df의 item_name 컬럼 값이 Steak Salad 또는 Bowl 인 데이터를 데이터 프레임화 한 후, \n",
    "# item_name를 기준으로 중복행이 있으면 제거하되 마지막 케이스만 남겨주세요\n",
    "\n",
    "# drop_duplicates를 한 번 검색해서 써보셔요 ^^"
   ]
  },
  {
   "cell_type": "code",
   "execution_count": null,
   "id": "1fd1c61b",
   "metadata": {},
   "outputs": [],
   "source": []
  },
  {
   "cell_type": "code",
   "execution_count": 5,
   "id": "1af35606",
   "metadata": {},
   "outputs": [],
   "source": [
    "# Q4. df의 데이터 중 item_name값이 Izze데이터를 Fizzy Lizzy로 수정해보세요."
   ]
  },
  {
   "cell_type": "code",
   "execution_count": null,
   "id": "e7a4fab7",
   "metadata": {},
   "outputs": [],
   "source": []
  },
  {
   "cell_type": "code",
   "execution_count": 6,
   "id": "ca33e096",
   "metadata": {},
   "outputs": [],
   "source": [
    "# Q5. df의 데이터 중 item_name 값의 단어갯수가 15개 이상인 데이터를 인덱싱해보세요."
   ]
  },
  {
   "cell_type": "code",
   "execution_count": null,
   "id": "a9f7db06",
   "metadata": {},
   "outputs": [],
   "source": []
  },
  {
   "cell_type": "markdown",
   "id": "2da373be",
   "metadata": {},
   "source": [
    "### Airbnb 데이터를 로드하고 상위 5개 컬럼을 출력해보세요"
   ]
  },
  {
   "cell_type": "code",
   "execution_count": 8,
   "id": "ed78f16b",
   "metadata": {},
   "outputs": [],
   "source": [
    "### Groupby 함수를 활용한 문제입니다.\n",
    "### 난이도가 조금 있어요~ ^^"
   ]
  },
  {
   "cell_type": "code",
   "execution_count": 7,
   "id": "ed2a18f6",
   "metadata": {},
   "outputs": [],
   "source": [
    "# Q1  데이터의 각 host_name의 빈도수를 구하고 host_name으로 정렬하여 상위 5개를 출력해보세요."
   ]
  },
  {
   "cell_type": "code",
   "execution_count": null,
   "id": "631c3d3a",
   "metadata": {},
   "outputs": [],
   "source": []
  },
  {
   "cell_type": "code",
   "execution_count": 9,
   "id": "dd0530f6",
   "metadata": {},
   "outputs": [],
   "source": [
    "# Q2  neighbourhood_group의 값에 따른 neighbourhood컬럼 값의 갯수를 구해보세요"
   ]
  },
  {
   "cell_type": "code",
   "execution_count": null,
   "id": "1387fb9d",
   "metadata": {},
   "outputs": [],
   "source": []
  },
  {
   "cell_type": "code",
   "execution_count": 10,
   "id": "930964be",
   "metadata": {},
   "outputs": [],
   "source": [
    "# Q3  neighbourhood_group의 값에 따른 price값의 평균, 분산, 최대, 최소값을 구해보세요."
   ]
  },
  {
   "attachments": {
    "image.png": {
     "image/png": "[encoded data removed]"
    }
   },
   "cell_type": "markdown",
   "id": "30e503be",
   "metadata": {},
   "source": [
    "![image.png](attachment:image.png) "
   ]
  },
  {
   "cell_type": "code",
   "execution_count": 11,
   "id": "75752bde",
   "metadata": {},
   "outputs": [],
   "source": [
    "### 위와 같이 나오면 됩니다 ^^"
   ]
  },
  {
   "cell_type": "code",
   "execution_count": null,
   "id": "a91d9376",
   "metadata": {},
   "outputs": [],
   "source": []
  },
  {
   "cell_type": "code",
   "execution_count": 12,
   "id": "920ecdd0",
   "metadata": {},
   "outputs": [],
   "source": [
    "# Q4  neighbourhood_group의 값과 neighbourhood에 따른 price의 평균을 구해보세요."
   ]
  },
  {
   "cell_type": "code",
   "execution_count": null,
   "id": "b73635ef",
   "metadata": {},
   "outputs": [],
   "source": []
  },
  {
   "cell_type": "markdown",
   "id": "1b9561fa",
   "metadata": {},
   "source": [
    "### 카드 사용 데이터 "
   ]
  },
  {
   "cell_type": "code",
   "execution_count": 13,
   "id": "00f92597",
   "metadata": {},
   "outputs": [],
   "source": [
    "### Apply, Lambda 문제"
   ]
  },
  {
   "cell_type": "code",
   "execution_count": 14,
   "id": "594bd2d6",
   "metadata": {},
   "outputs": [],
   "source": [
    "# Q1 데이터를 로딩해주세요."
   ]
  },
  {
   "cell_type": "code",
   "execution_count": null,
   "id": "4db50c3f",
   "metadata": {},
   "outputs": [],
   "source": []
  },
  {
   "cell_type": "code",
   "execution_count": null,
   "id": "2ed6cbda",
   "metadata": {},
   "outputs": [],
   "source": [
    "# Q2 Income_Category의 카테고리를 map 함수를 이용하여 다음과 같이 변경하여 newIncome 컬럼에 매핑해주세요.\n",
    "# Unknown : N Less than 40K:a40K - 60K:b60K - 80K:c80K - 120K:d120K +’ : e"
   ]
  },
  {
   "attachments": {
    "image.png": {
     "image/png": "[encoded data removed]"
    }
   },
   "cell_type": "markdown",
   "id": "03e8c901",
   "metadata": {},
   "source": [
    "![image.png](attachment:image.png) "
   ]
  },
  {
   "cell_type": "code",
   "execution_count": 15,
   "id": "ebf5153e",
   "metadata": {},
   "outputs": [],
   "source": [
    "# Q3 Customer_Age의 값을 이용하여 나이 구간을 AgeState 컬럼으로 정의해보세요. \n",
    "# (0~9 : 0 , 10~19 :10 , 20~29 :20 … 각 구간의 빈도수를 출력하라"
   ]
  },
  {
   "cell_type": "code",
   "execution_count": null,
   "id": "54306664",
   "metadata": {},
   "outputs": [],
   "source": []
  },
  {
   "cell_type": "code",
   "execution_count": 19,
   "id": "d755847d",
   "metadata": {},
   "outputs": [],
   "source": [
    "# Q4 Education_Level의 값중 Graduate단어가 포함되는 값은 1 그렇지 않은 경우에는 0으로 변경하여\n",
    "# newEduLevel 컬럼을 정의하고 빈도수를 출력해주세요.\n",
    "\n",
    "# apply_lambda 및 value_counts() 활용 ^^"
   ]
  },
  {
   "cell_type": "code",
   "execution_count": null,
   "id": "fa583a4e",
   "metadata": {},
   "outputs": [],
   "source": []
  },
  {
   "cell_type": "code",
   "execution_count": 20,
   "id": "2c06a318",
   "metadata": {},
   "outputs": [],
   "source": [
    "# Q5 Credit_Limit 컬럼값이 4500 이상인 경우 1 그외의 경우에는 모두 0으로 하는 newLimit 정의하시고\n",
    "# newLimit 각 값들의 빈도수를 출력해주세요 ^^"
   ]
  },
  {
   "cell_type": "code",
   "execution_count": null,
   "id": "30f2b3b6",
   "metadata": {},
   "outputs": [],
   "source": []
  },
  {
   "cell_type": "code",
   "execution_count": 21,
   "id": "676ffbbd",
   "metadata": {},
   "outputs": [],
   "source": [
    "# Q6 Gender 컬럼값 M인 경우 male F인 경우 female로 값을 변경하여 Gender 컬럼에 새롭게 정의해주세요.\n",
    "# 각 value의 빈도를 출력해보세요 ^^"
   ]
  },
  {
   "cell_type": "code",
   "execution_count": null,
   "id": "86abc2e1",
   "metadata": {},
   "outputs": [],
   "source": []
  },
  {
   "cell_type": "code",
   "execution_count": 22,
   "id": "7253b8f3",
   "metadata": {},
   "outputs": [],
   "source": [
    "# end of file"
   ]
  }
 ],
 "metadata": {
  "kernelspec": {
   "display_name": "Python 3 (ipykernel)",
   "language": "python",
   "name": "python3"
  },
  "language_info": {
   "codemirror_mode": {
    "name": "ipython",
    "version": 3
   },
   "file_extension": ".py",
   "mimetype": "text/x-python",
   "name": "python",
   "nbconvert_exporter": "python",
   "pygments_lexer": "ipython3",
   "version": "3.9.7"
  }
 },
 "nbformat": 4,
 "nbformat_minor": 5
}
