{
 "cells": [
  {
   "cell_type": "code",
   "execution_count": 1,
   "id": "960d2b73",
   "metadata": {},
   "outputs": [],
   "source": [
    "# 정수형 "
   ]
  },
  {
   "cell_type": "code",
   "execution_count": 2,
   "id": "d9b8b3c1",
   "metadata": {},
   "outputs": [],
   "source": [
    "a = 123\n",
    "b = - 123\n",
    "c = 0"
   ]
  },
  {
   "cell_type": "code",
   "execution_count": 6,
   "id": "faefae67",
   "metadata": {},
   "outputs": [
    {
     "data": {
      "text/plain": [
       "int"
      ]
     },
     "execution_count": 6,
     "metadata": {},
     "output_type": "execute_result"
    }
   ],
   "source": [
    "type(a)"
   ]
  },
  {
   "cell_type": "code",
   "execution_count": null,
   "id": "4d1dbe5d",
   "metadata": {},
   "outputs": [],
   "source": [
    "# 실수형"
   ]
  },
  {
   "cell_type": "code",
   "execution_count": 7,
   "id": "4fc5d495",
   "metadata": {},
   "outputs": [
    {
     "data": {
      "text/plain": [
       "3.141529123456"
      ]
     },
     "execution_count": 7,
     "metadata": {},
     "output_type": "execute_result"
    }
   ],
   "source": [
    "a = 3.141529123456\n",
    "a"
   ]
  },
  {
   "cell_type": "code",
   "execution_count": 8,
   "id": "490b621d",
   "metadata": {},
   "outputs": [
    {
     "data": {
      "text/plain": [
       "42400000000.0"
      ]
     },
     "execution_count": 8,
     "metadata": {},
     "output_type": "execute_result"
    }
   ],
   "source": [
    "4.24E10"
   ]
  },
  {
   "cell_type": "code",
   "execution_count": 11,
   "id": "da7fe9bf",
   "metadata": {},
   "outputs": [
    {
     "data": {
      "text/plain": [
       "0.00424"
      ]
     },
     "execution_count": 11,
     "metadata": {},
     "output_type": "execute_result"
    }
   ],
   "source": [
    "4.24e-3"
   ]
  },
  {
   "cell_type": "code",
   "execution_count": 12,
   "id": "0bd5482f",
   "metadata": {},
   "outputs": [],
   "source": [
    "# 8진수(Octal) (x)\n",
    "# 16진수(Hexadecimal) (x)"
   ]
  },
  {
   "cell_type": "markdown",
   "id": "9f8410cb",
   "metadata": {},
   "source": [
    "## 숫자형을 활용하기 위한 연산자"
   ]
  },
  {
   "cell_type": "code",
   "execution_count": 13,
   "id": "b9336ecb",
   "metadata": {},
   "outputs": [
    {
     "data": {
      "text/plain": [
       "81"
      ]
     },
     "execution_count": 13,
     "metadata": {},
     "output_type": "execute_result"
    }
   ],
   "source": [
    "a = 3\n",
    "b = 4\n",
    "\n",
    "# 제곱을 한 번 해봅시다.\n",
    "a**b"
   ]
  },
  {
   "cell_type": "code",
   "execution_count": 18,
   "id": "73810247",
   "metadata": {},
   "outputs": [
    {
     "name": "stdout",
     "output_type": "stream",
     "text": [
      "2\n",
      "1.75\n",
      "1\n"
     ]
    }
   ],
   "source": [
    "# 나눗셈 후에 나머지를 반환하는 % 연산자\n",
    "print(8%3)\n",
    "\n",
    "# 나눗셈 후에 몫을 반환하는 // 연산자\n",
    "print(7/4)\n",
    "print(7//4)"
   ]
  },
  {
   "cell_type": "code",
   "execution_count": 19,
   "id": "d8f7e45e",
   "metadata": {},
   "outputs": [],
   "source": [
    "# end of file"
   ]
  }
 ],
 "metadata": {
  "kernelspec": {
   "display_name": "Python 3 (ipykernel)",
   "language": "python",
   "name": "python3"
  },
  "language_info": {
   "codemirror_mode": {
    "name": "ipython",
    "version": 3
   },
   "file_extension": ".py",
   "mimetype": "text/x-python",
   "name": "python",
   "nbconvert_exporter": "python",
   "pygments_lexer": "ipython3",
   "version": "3.9.7"
  }
 },
 "nbformat": 4,
 "nbformat_minor": 5
}
