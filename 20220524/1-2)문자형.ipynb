{
 "cells": [
  {
   "cell_type": "markdown",
   "id": "615dbea5",
   "metadata": {},
   "source": [
    "# 1. 문자열 생성방법"
   ]
  },
  {
   "cell_type": "code",
   "execution_count": 40,
   "id": "49c698c4",
   "metadata": {},
   "outputs": [
    {
     "data": {
      "text/plain": [
       "'Life is too short, you need python'"
      ]
     },
     "execution_count": 40,
     "metadata": {},
     "output_type": "execute_result"
    }
   ],
   "source": [
    "# 첫번째 방법\n",
    "\n",
    "'Life is too short, you need python'"
   ]
  },
  {
   "cell_type": "code",
   "execution_count": 41,
   "id": "a74dd050",
   "metadata": {},
   "outputs": [
    {
     "data": {
      "text/plain": [
       "'Life is too short, you need python'"
      ]
     },
     "execution_count": 41,
     "metadata": {},
     "output_type": "execute_result"
    }
   ],
   "source": [
    "# 두번째 방법\n",
    "\n",
    "\"Life is too short, you need python\""
   ]
  },
  {
   "cell_type": "code",
   "execution_count": 42,
   "id": "517dc421",
   "metadata": {},
   "outputs": [
    {
     "data": {
      "text/plain": [
       "'Life is too short, you need python'"
      ]
     },
     "execution_count": 42,
     "metadata": {},
     "output_type": "execute_result"
    }
   ],
   "source": [
    "# 세번째 방법\n",
    "\n",
    "'''Life is too short, you need python'''"
   ]
  },
  {
   "cell_type": "code",
   "execution_count": 44,
   "id": "a02f5fdf",
   "metadata": {},
   "outputs": [
    {
     "data": {
      "text/plain": [
       "'Life is too short, you need python'"
      ]
     },
     "execution_count": 44,
     "metadata": {},
     "output_type": "execute_result"
    }
   ],
   "source": [
    "# 네번째 방법\n",
    "\n",
    "\"\"\"Life is too short, you need python\"\"\""
   ]
  },
  {
   "cell_type": "code",
   "execution_count": 47,
   "id": "0dcce5bd",
   "metadata": {},
   "outputs": [
    {
     "data": {
      "text/plain": [
       "\"python's favorite food is perl\""
      ]
     },
     "execution_count": 47,
     "metadata": {},
     "output_type": "execute_result"
    }
   ],
   "source": [
    "# 첫번째 방법의 오류로\n",
    "# 두번째 방법을 개발\n",
    "\"python's favorite food is perl\""
   ]
  },
  {
   "cell_type": "code",
   "execution_count": 50,
   "id": "92f42240",
   "metadata": {},
   "outputs": [
    {
     "name": "stdout",
     "output_type": "stream",
     "text": [
      "\"I like him\" she says.\n"
     ]
    }
   ],
   "source": [
    "# 두번째 방법의 오류로\n",
    "# 첫번째 방법이 쓰임\n",
    "\n",
    "print('\"I like him\" she says.')"
   ]
  },
  {
   "cell_type": "code",
   "execution_count": 52,
   "id": "c570a6c7",
   "metadata": {},
   "outputs": [
    {
     "data": {
      "text/plain": [
       "'현재 온도는 17도입니다.'"
      ]
     },
     "execution_count": 52,
     "metadata": {},
     "output_type": "execute_result"
    }
   ],
   "source": [
    "# 포매팅 방법\n",
    "\"현재 온도는 30도입니다.\"\n",
    "\"현재 온도는 17도입니다.\""
   ]
  },
  {
   "cell_type": "code",
   "execution_count": 55,
   "id": "c156bf50",
   "metadata": {},
   "outputs": [
    {
     "data": {
      "text/plain": [
       "'현재 온도는 17도입니다'"
      ]
     },
     "execution_count": 55,
     "metadata": {},
     "output_type": "execute_result"
    }
   ],
   "source": [
    "\"현재 온도는 %d도입니다\" % 17"
   ]
  }
 ],
 "metadata": {
  "kernelspec": {
   "display_name": "Python 3 (ipykernel)",
   "language": "python",
   "name": "python3"
  },
  "language_info": {
   "codemirror_mode": {
    "name": "ipython",
    "version": 3
   },
   "file_extension": ".py",
   "mimetype": "text/x-python",
   "name": "python",
   "nbconvert_exporter": "python",
   "pygments_lexer": "ipython3",
   "version": "3.9.7"
  }
 },
 "nbformat": 4,
 "nbformat_minor": 5
}
