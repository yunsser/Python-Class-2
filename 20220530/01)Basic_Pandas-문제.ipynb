{
 "cells": [
  {
   "cell_type": "code",
   "execution_count": 2,
   "id": "3baab44c",
   "metadata": {},
   "outputs": [],
   "source": [
    "# lol archive data 활ㅇ요\n",
    "# Q1. 데이터를 로드해보세요. \n",
    "# 데이터는 \\t기준으로 구분되어 있습니다 :: sep parameter 사용 \n",
    "import pandas as pd\n",
    "pd.read_csv('./')"
   ]
  },
  {
   "cell_type": "code",
   "execution_count": null,
   "id": "37329cfd",
   "metadata": {},
   "outputs": [],
   "source": []
  },
  {
   "cell_type": "code",
   "execution_count": 3,
   "id": "bff5bf6b",
   "metadata": {},
   "outputs": [],
   "source": [
    "# Q2 데이터의 상위 5개 행을 출력해보세요  :: head 활용"
   ]
  },
  {
   "cell_type": "code",
   "execution_count": null,
   "id": "39ab4555",
   "metadata": {},
   "outputs": [],
   "source": []
  },
  {
   "cell_type": "code",
   "execution_count": 4,
   "id": "f5b33186",
   "metadata": {},
   "outputs": [],
   "source": [
    "# Q3 데이터의 행과 열의 개수를 파악해보세요  :: shape 활용"
   ]
  },
  {
   "cell_type": "code",
   "execution_count": null,
   "id": "9831955d",
   "metadata": {},
   "outputs": [],
   "source": []
  },
  {
   "cell_type": "code",
   "execution_count": 5,
   "id": "05efd70a",
   "metadata": {},
   "outputs": [],
   "source": [
    "# Q4. 전체 컬럼을 출력해보세요 :: columns 활용"
   ]
  },
  {
   "cell_type": "code",
   "execution_count": null,
   "id": "38cdb02b",
   "metadata": {},
   "outputs": [],
   "source": []
  },
  {
   "cell_type": "code",
   "execution_count": 6,
   "id": "c34e7349",
   "metadata": {},
   "outputs": [],
   "source": [
    "# Q5. 7번째 컬럼명을 출력해보세요 :: indexing"
   ]
  },
  {
   "cell_type": "code",
   "execution_count": null,
   "id": "10f07eff",
   "metadata": {},
   "outputs": [],
   "source": []
  },
  {
   "cell_type": "code",
   "execution_count": null,
   "id": "dd59125c",
   "metadata": {},
   "outputs": [],
   "source": [
    "# end of file"
   ]
  }
 ],
 "metadata": {
  "kernelspec": {
   "display_name": "Python 3 (ipykernel)",
   "language": "python",
   "name": "python3"
  },
  "language_info": {
   "codemirror_mode": {
    "name": "ipython",
    "version": 3
   },
   "file_extension": ".py",
   "mimetype": "text/x-python",
   "name": "python",
   "nbconvert_exporter": "python",
   "pygments_lexer": "ipython3",
   "version": "3.9.7"
  }
 },
 "nbformat": 4,
 "nbformat_minor": 5
}
