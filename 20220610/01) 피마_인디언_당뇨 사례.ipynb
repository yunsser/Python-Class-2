{
 "cells": [
  {
   "cell_type": "code",
   "execution_count": 1,
   "id": "6fbb56e1",
   "metadata": {},
   "outputs": [],
   "source": [
    "### 요구사항 1. 알고리즘 3개 정도 - randomforest, decisionTree, LogisticReression\n",
    "###          2. 평가지표? 2진분류입니다 ^^ - accuracy_score, precision_score, recall_score\n",
    "###          3.                              f1_score, confusion_matrix, roc_auc_score\n",
    "\n",
    "# 예 from sklearn.metrics import "
   ]
  },
  {
   "cell_type": "code",
   "execution_count": 2,
   "id": "fee5d7ae",
   "metadata": {},
   "outputs": [],
   "source": [
    "### 전처리 :: 문자 (X), 결측치 (X)\n",
    "### target --> outcome \n",
    "\n",
    "\n",
    "### describe 및 info "
   ]
  },
  {
   "cell_type": "markdown",
   "id": "f36c0b94",
   "metadata": {},
   "source": [
    "* Pregnancies: 임신횟수\n",
    "\n",
    "\n",
    "* Glucose: 포도당 부하 검사 수치\n",
    "\n",
    "\n",
    "* BloodPressure: 혈압\n",
    "\n",
    "\n",
    "* SkinThickness: 팔 삼두근 뒤쪽의 피하지방 측정값(mm)\n",
    "\n",
    "\n",
    "* Insulin: 혈청 인슐린\n",
    "\n",
    "\n",
    "* BMI: 체질량지수(체중(kg)/키(m))^2)\n",
    "\n",
    "\n",
    "* DiabetesPedigreeFunction: 당뇨 내력 가중치값\n",
    "\n",
    "\n",
    "* Age: 나이\n",
    "\n",
    "\n",
    "* Outcome: 클래스 결정 값(0또는 1)"
   ]
  },
  {
   "cell_type": "code",
   "execution_count": 7,
   "id": "d5d9d4f0",
   "metadata": {},
   "outputs": [],
   "source": [
    "import pandas as pd\n",
    "import numpy as np\n",
    "import matplotlib.pyplot as plt"
   ]
  },
  {
   "cell_type": "code",
   "execution_count": 8,
   "id": "332fc7dc",
   "metadata": {},
   "outputs": [],
   "source": [
    "from sklearn.model_selection import train_test_split\n",
    "from sklearn.metrics import *"
   ]
  },
  {
   "cell_type": "code",
   "execution_count": 12,
   "id": "ac9acc95",
   "metadata": {},
   "outputs": [],
   "source": [
    "from sklearn.linear_model import LogisticRegression\n",
    "from sklearn.tree import DecisionTreeClassifier\n",
    "from sklearn.ensemble import RandomForestClassifier\n",
    "\n",
    "diabetes_df = pd.read_csv('./diabetes.csv')"
   ]
  },
  {
   "cell_type": "code",
   "execution_count": 29,
   "id": "6b2544a3",
   "metadata": {},
   "outputs": [
    {
     "name": "stdout",
     "output_type": "stream",
     "text": [
      "<class 'pandas.core.frame.DataFrame'>\n",
      "RangeIndex: 768 entries, 0 to 767\n",
      "Data columns (total 9 columns):\n",
      " #   Column                    Non-Null Count  Dtype  \n",
      "---  ------                    --------------  -----  \n",
      " 0   Pregnancies               768 non-null    int64  \n",
      " 1   Glucose                   768 non-null    int64  \n",
      " 2   BloodPressure             768 non-null    int64  \n",
      " 3   SkinThickness             768 non-null    int64  \n",
      " 4   Insulin                   768 non-null    int64  \n",
      " 5   BMI                       768 non-null    float64\n",
      " 6   DiabetesPedigreeFunction  768 non-null    float64\n",
      " 7   Age                       768 non-null    int64  \n",
      " 8   Outcome                   768 non-null    int64  \n",
      "dtypes: float64(2), int64(7)\n",
      "memory usage: 54.1 KB\n"
     ]
    }
   ],
   "source": [
    "diabetes_df.info()"
   ]
  },
  {
   "cell_type": "code",
   "execution_count": 14,
   "id": "19ff839e",
   "metadata": {},
   "outputs": [
    {
     "data": {
      "text/html": [
       "<div>\n",
       "<style scoped>\n",
       "    .dataframe tbody tr th:only-of-type {\n",
       "        vertical-align: middle;\n",
       "    }\n",
       "\n",
       "    .dataframe tbody tr th {\n",
       "        vertical-align: top;\n",
       "    }\n",
       "\n",
       "    .dataframe thead th {\n",
       "        text-align: right;\n",
       "    }\n",
       "</style>\n",
       "<table border=\"1\" class=\"dataframe\">\n",
       "  <thead>\n",
       "    <tr style=\"text-align: right;\">\n",
       "      <th></th>\n",
       "      <th>Pregnancies</th>\n",
       "      <th>Glucose</th>\n",
       "      <th>BloodPressure</th>\n",
       "      <th>SkinThickness</th>\n",
       "      <th>Insulin</th>\n",
       "      <th>BMI</th>\n",
       "      <th>DiabetesPedigreeFunction</th>\n",
       "      <th>Age</th>\n",
       "      <th>Outcome</th>\n",
       "    </tr>\n",
       "  </thead>\n",
       "  <tbody>\n",
       "    <tr>\n",
       "      <th>count</th>\n",
       "      <td>768.000000</td>\n",
       "      <td>768.000000</td>\n",
       "      <td>768.000000</td>\n",
       "      <td>768.000000</td>\n",
       "      <td>768.000000</td>\n",
       "      <td>768.000000</td>\n",
       "      <td>768.000000</td>\n",
       "      <td>768.000000</td>\n",
       "      <td>768.000000</td>\n",
       "    </tr>\n",
       "    <tr>\n",
       "      <th>mean</th>\n",
       "      <td>3.845052</td>\n",
       "      <td>120.894531</td>\n",
       "      <td>69.105469</td>\n",
       "      <td>20.536458</td>\n",
       "      <td>79.799479</td>\n",
       "      <td>31.992578</td>\n",
       "      <td>0.471876</td>\n",
       "      <td>33.240885</td>\n",
       "      <td>0.348958</td>\n",
       "    </tr>\n",
       "    <tr>\n",
       "      <th>std</th>\n",
       "      <td>3.369578</td>\n",
       "      <td>31.972618</td>\n",
       "      <td>19.355807</td>\n",
       "      <td>15.952218</td>\n",
       "      <td>115.244002</td>\n",
       "      <td>7.884160</td>\n",
       "      <td>0.331329</td>\n",
       "      <td>11.760232</td>\n",
       "      <td>0.476951</td>\n",
       "    </tr>\n",
       "    <tr>\n",
       "      <th>min</th>\n",
       "      <td>0.000000</td>\n",
       "      <td>0.000000</td>\n",
       "      <td>0.000000</td>\n",
       "      <td>0.000000</td>\n",
       "      <td>0.000000</td>\n",
       "      <td>0.000000</td>\n",
       "      <td>0.078000</td>\n",
       "      <td>21.000000</td>\n",
       "      <td>0.000000</td>\n",
       "    </tr>\n",
       "    <tr>\n",
       "      <th>25%</th>\n",
       "      <td>1.000000</td>\n",
       "      <td>99.000000</td>\n",
       "      <td>62.000000</td>\n",
       "      <td>0.000000</td>\n",
       "      <td>0.000000</td>\n",
       "      <td>27.300000</td>\n",
       "      <td>0.243750</td>\n",
       "      <td>24.000000</td>\n",
       "      <td>0.000000</td>\n",
       "    </tr>\n",
       "    <tr>\n",
       "      <th>50%</th>\n",
       "      <td>3.000000</td>\n",
       "      <td>117.000000</td>\n",
       "      <td>72.000000</td>\n",
       "      <td>23.000000</td>\n",
       "      <td>30.500000</td>\n",
       "      <td>32.000000</td>\n",
       "      <td>0.372500</td>\n",
       "      <td>29.000000</td>\n",
       "      <td>0.000000</td>\n",
       "    </tr>\n",
       "    <tr>\n",
       "      <th>75%</th>\n",
       "      <td>6.000000</td>\n",
       "      <td>140.250000</td>\n",
       "      <td>80.000000</td>\n",
       "      <td>32.000000</td>\n",
       "      <td>127.250000</td>\n",
       "      <td>36.600000</td>\n",
       "      <td>0.626250</td>\n",
       "      <td>41.000000</td>\n",
       "      <td>1.000000</td>\n",
       "    </tr>\n",
       "    <tr>\n",
       "      <th>max</th>\n",
       "      <td>17.000000</td>\n",
       "      <td>199.000000</td>\n",
       "      <td>122.000000</td>\n",
       "      <td>99.000000</td>\n",
       "      <td>846.000000</td>\n",
       "      <td>67.100000</td>\n",
       "      <td>2.420000</td>\n",
       "      <td>81.000000</td>\n",
       "      <td>1.000000</td>\n",
       "    </tr>\n",
       "  </tbody>\n",
       "</table>\n",
       "</div>"
      ],
      "text/plain": [
       "       Pregnancies     Glucose  BloodPressure  SkinThickness     Insulin  \\\n",
       "count   768.000000  768.000000     768.000000     768.000000  768.000000   \n",
       "mean      3.845052  120.894531      69.105469      20.536458   79.799479   \n",
       "std       3.369578   31.972618      19.355807      15.952218  115.244002   \n",
       "min       0.000000    0.000000       0.000000       0.000000    0.000000   \n",
       "25%       1.000000   99.000000      62.000000       0.000000    0.000000   \n",
       "50%       3.000000  117.000000      72.000000      23.000000   30.500000   \n",
       "75%       6.000000  140.250000      80.000000      32.000000  127.250000   \n",
       "max      17.000000  199.000000     122.000000      99.000000  846.000000   \n",
       "\n",
       "              BMI  DiabetesPedigreeFunction         Age     Outcome  \n",
       "count  768.000000                768.000000  768.000000  768.000000  \n",
       "mean    31.992578                  0.471876   33.240885    0.348958  \n",
       "std      7.884160                  0.331329   11.760232    0.476951  \n",
       "min      0.000000                  0.078000   21.000000    0.000000  \n",
       "25%     27.300000                  0.243750   24.000000    0.000000  \n",
       "50%     32.000000                  0.372500   29.000000    0.000000  \n",
       "75%     36.600000                  0.626250   41.000000    1.000000  \n",
       "max     67.100000                  2.420000   81.000000    1.000000  "
      ]
     },
     "execution_count": 14,
     "metadata": {},
     "output_type": "execute_result"
    }
   ],
   "source": [
    "diabetes_df.describe()"
   ]
  },
  {
   "cell_type": "code",
   "execution_count": 16,
   "id": "6cf5d59c",
   "metadata": {},
   "outputs": [
    {
     "data": {
      "text/plain": [
       "0    500\n",
       "1    268\n",
       "Name: Outcome, dtype: int64"
      ]
     },
     "execution_count": 16,
     "metadata": {},
     "output_type": "execute_result"
    }
   ],
   "source": [
    "diabetes_df['Outcome'].value_counts()"
   ]
  },
  {
   "cell_type": "code",
   "execution_count": 19,
   "id": "59462c18",
   "metadata": {},
   "outputs": [],
   "source": [
    "def get_con_index(y_test,pred):\n",
    "    confusion = confusion_matrix(y_test,pred)\n",
    "    accuracy = accuracy_score(y_test,pred)\n",
    "    p_score = precision_score(y_test,pred)\n",
    "    r_score = recall_score(y_test,pred)\n",
    "    roc_auc = roc_auc_score(y_test,pred)\n",
    "    f1 = f1_score(y_test,pred)\n",
    "    print('혼동행렬 confusion matrix')\n",
    "    print(confusion)\n",
    "    print('accuracy :{0:.4f}, precision: {1:.4f}, recall: {2:.4f}, f1:{3:.4f},roc_auc:{4:.4f}'.format(accuracy,\n",
    "                                                                                                     p_score,\n",
    "                                                                                                     r_score,\n",
    "                                                                                                     f1,\n",
    "                                                                                                     roc_auc))"
   ]
  },
  {
   "cell_type": "code",
   "execution_count": 24,
   "id": "201cb69b",
   "metadata": {},
   "outputs": [],
   "source": [
    "y = diabetes_df.Outcome\n",
    "X = diabetes_df.drop(['Outcome'], axis=1)"
   ]
  },
  {
   "cell_type": "code",
   "execution_count": 48,
   "id": "ab13e11f",
   "metadata": {},
   "outputs": [
    {
     "name": "stdout",
     "output_type": "stream",
     "text": [
      "## 로지스틱회귀 ##\n",
      "\n",
      "혼동행렬 confusion matrix\n",
      "[[92  8]\n",
      " [26 28]]\n",
      "accuracy :0.7792, precision: 0.7778, recall: 0.5185, f1:0.6222,roc_auc:0.7193\n",
      "\n",
      "## 의사결정나무 ##\n",
      "\n",
      "혼동행렬 confusion matrix\n",
      "[[80 20]\n",
      " [25 29]]\n",
      "accuracy :0.7078, precision: 0.5918, recall: 0.5370, f1:0.5631,roc_auc:0.6685\n",
      "\n",
      "## 랜덤포레스트 ##\n",
      "\n",
      "혼동행렬 confusion matrix\n",
      "[[86 14]\n",
      " [24 30]]\n",
      "accuracy :0.7532, precision: 0.6818, recall: 0.5556, f1:0.6122,roc_auc:0.7078\n"
     ]
    }
   ],
   "source": [
    "import warnings\n",
    "warnings.filterwarnings('ignore')\n",
    "\n",
    "# train_test_split\n",
    "\n",
    "X_train, X_test, y_train, y_test = train_test_split(X,y, test_size=0.2,\n",
    "                                                   stratify=y)\n",
    "\n",
    "# fitting 시작\n",
    "\n",
    "# from sklearn.linear_model import LogisticRegression\n",
    "lr_clf = LogisticRegression()\n",
    "lr_clf.fit(X_train,y_train)\n",
    "pred_lr = lr_clf.predict(X_test)\n",
    "print('## 로지스틱회귀 ##\\n')\n",
    "get_con_index(y_test,pred_lr)\n",
    "\n",
    "\n",
    "# from sklearn.tree import DecisionTreeClassifier\n",
    "dt_clf = DecisionTreeClassifier()\n",
    "dt_clf.fit(X_train,y_train)\n",
    "pred_dt = dt_clf.predict(X_test)\n",
    "print('\\n## 의사결정나무 ##\\n')\n",
    "get_con_index(y_test,pred_dt)\n",
    "\n",
    "\n",
    "# from sklearn.ensemble import RandomForestClassifier\n",
    "rf_clf = RandomForestClassifier()\n",
    "rf_clf.fit(X_train,y_train)\n",
    "pred_rf = rf_clf.predict(X_test)\n",
    "\n",
    "print('\\n## 랜덤포레스트 ##\\n')\n",
    "get_con_index(y_test,pred_rf)"
   ]
  },
  {
   "cell_type": "code",
   "execution_count": 51,
   "id": "90db6174",
   "metadata": {},
   "outputs": [],
   "source": [
    "# matplotlib의 학습 이후에 코딩을 실습시 확인해주셔요 ^^\n",
    "\n",
    "def p_r_curve_plot(y_test, pred_proba):\n",
    "    # threshold ndarray로 가져와보고 \n",
    "    # 위의 threshold에 따른 정밀도, 재현율의 ndarray를 추출\n",
    "    precisions, recalls, thresholds = precision_recall_curve(y_test, pred_proba)\n",
    "    \n",
    "    # X축 = threshold\n",
    "    # y축은 precision(점선) 및 recall(주황선) 설정\n",
    "    # 각 곡선을 중첩되게 graph화\n",
    "    plt.figure(figsize=(8,6))\n",
    "    threshold_boudary = thresholds.shape[0]\n",
    "    plt.plot(thresholds, precisions[0:threshold_boudary], linestyle='--', label='precison')\n",
    "    plt.plot(thresholds, recalls[0:threshold_boudary], label='recall')\n",
    "    \n",
    "    # threshold 값 x 축의 scale을 0,1으로 scaling\n",
    "    start, end = plt.xlim()\n",
    "    plt.xticks(np.round(np.arange(start,end,0.10),2))\n",
    "    \n",
    "    # X축, y축 label 및 legend 추가\n",
    "    # grid도 추가\n",
    "    plt.xlabel('Threshold_value')\n",
    "    plt.ylabel('Precision and Recall')\n",
    "    plt.legend()\n",
    "    plt.grid()\n",
    "    plt.show() "
   ]
  },
  {
   "cell_type": "code",
   "execution_count": 56,
   "id": "0b45d289",
   "metadata": {},
   "outputs": [
    {
     "data": {
      "text/plain": [
       "array([0, 0, 0, 0, 0, 1, 0, 0, 0, 0], dtype=int64)"
      ]
     },
     "execution_count": 56,
     "metadata": {},
     "output_type": "execute_result"
    }
   ],
   "source": [
    "lr_clf.predict(X_test)[:10]"
   ]
  },
  {
   "cell_type": "code",
   "execution_count": 72,
   "id": "8c3b1f59",
   "metadata": {},
   "outputs": [
    {
     "data": {
      "image/png": "[encoded data removed]",
      "text/plain": [
       "<Figure size 576x432 with 1 Axes>"
      ]
     },
     "metadata": {
      "needs_background": "light"
     },
     "output_type": "display_data"
    }
   ],
   "source": [
    "pred_proba = lr_clf.predict_proba(X_test)[:,1]\n",
    "p_r_curve_plot(y_test,pred_proba)"
   ]
  },
  {
   "cell_type": "code",
   "execution_count": 64,
   "id": "bca6dca7",
   "metadata": {},
   "outputs": [
    {
     "data": {
      "text/plain": [
       "array([[ 1,  2],\n",
       "       [ 3,  4],\n",
       "       [ 5,  6],\n",
       "       [ 7,  8],\n",
       "       [ 9, 10]])"
      ]
     },
     "execution_count": 64,
     "metadata": {},
     "output_type": "execute_result"
    }
   ],
   "source": [
    "test_array = np.arange(1,11)\n",
    "test_array.reshape(-1,2)[:,:]"
   ]
  },
  {
   "cell_type": "code",
   "execution_count": 82,
   "id": "ffc5f782",
   "metadata": {},
   "outputs": [
    {
     "data": {
      "text/html": [
       "<div>\n",
       "<style scoped>\n",
       "    .dataframe tbody tr th:only-of-type {\n",
       "        vertical-align: middle;\n",
       "    }\n",
       "\n",
       "    .dataframe tbody tr th {\n",
       "        vertical-align: top;\n",
       "    }\n",
       "\n",
       "    .dataframe thead th {\n",
       "        text-align: right;\n",
       "    }\n",
       "</style>\n",
       "<table border=\"1\" class=\"dataframe\">\n",
       "  <thead>\n",
       "    <tr style=\"text-align: right;\">\n",
       "      <th></th>\n",
       "      <th>Pregnancies</th>\n",
       "      <th>Glucose</th>\n",
       "      <th>BloodPressure</th>\n",
       "      <th>SkinThickness</th>\n",
       "      <th>Insulin</th>\n",
       "      <th>BMI</th>\n",
       "      <th>DiabetesPedigreeFunction</th>\n",
       "      <th>Age</th>\n",
       "      <th>Outcome</th>\n",
       "    </tr>\n",
       "  </thead>\n",
       "  <tbody>\n",
       "    <tr>\n",
       "      <th>count</th>\n",
       "      <td>768.000000</td>\n",
       "      <td>768.000000</td>\n",
       "      <td>768.000000</td>\n",
       "      <td>768.000000</td>\n",
       "      <td>768.000000</td>\n",
       "      <td>768.000000</td>\n",
       "      <td>768.000000</td>\n",
       "      <td>768.000000</td>\n",
       "      <td>768.000000</td>\n",
       "    </tr>\n",
       "    <tr>\n",
       "      <th>mean</th>\n",
       "      <td>3.845052</td>\n",
       "      <td>120.894531</td>\n",
       "      <td>69.105469</td>\n",
       "      <td>20.536458</td>\n",
       "      <td>79.799479</td>\n",
       "      <td>31.992578</td>\n",
       "      <td>0.471876</td>\n",
       "      <td>33.240885</td>\n",
       "      <td>0.348958</td>\n",
       "    </tr>\n",
       "    <tr>\n",
       "      <th>std</th>\n",
       "      <td>3.369578</td>\n",
       "      <td>31.972618</td>\n",
       "      <td>19.355807</td>\n",
       "      <td>15.952218</td>\n",
       "      <td>115.244002</td>\n",
       "      <td>7.884160</td>\n",
       "      <td>0.331329</td>\n",
       "      <td>11.760232</td>\n",
       "      <td>0.476951</td>\n",
       "    </tr>\n",
       "    <tr>\n",
       "      <th>min</th>\n",
       "      <td>0.000000</td>\n",
       "      <td>0.000000</td>\n",
       "      <td>0.000000</td>\n",
       "      <td>0.000000</td>\n",
       "      <td>0.000000</td>\n",
       "      <td>0.000000</td>\n",
       "      <td>0.078000</td>\n",
       "      <td>21.000000</td>\n",
       "      <td>0.000000</td>\n",
       "    </tr>\n",
       "    <tr>\n",
       "      <th>25%</th>\n",
       "      <td>1.000000</td>\n",
       "      <td>99.000000</td>\n",
       "      <td>62.000000</td>\n",
       "      <td>0.000000</td>\n",
       "      <td>0.000000</td>\n",
       "      <td>27.300000</td>\n",
       "      <td>0.243750</td>\n",
       "      <td>24.000000</td>\n",
       "      <td>0.000000</td>\n",
       "    </tr>\n",
       "    <tr>\n",
       "      <th>50%</th>\n",
       "      <td>3.000000</td>\n",
       "      <td>117.000000</td>\n",
       "      <td>72.000000</td>\n",
       "      <td>23.000000</td>\n",
       "      <td>30.500000</td>\n",
       "      <td>32.000000</td>\n",
       "      <td>0.372500</td>\n",
       "      <td>29.000000</td>\n",
       "      <td>0.000000</td>\n",
       "    </tr>\n",
       "    <tr>\n",
       "      <th>75%</th>\n",
       "      <td>6.000000</td>\n",
       "      <td>140.250000</td>\n",
       "      <td>80.000000</td>\n",
       "      <td>32.000000</td>\n",
       "      <td>127.250000</td>\n",
       "      <td>36.600000</td>\n",
       "      <td>0.626250</td>\n",
       "      <td>41.000000</td>\n",
       "      <td>1.000000</td>\n",
       "    </tr>\n",
       "    <tr>\n",
       "      <th>max</th>\n",
       "      <td>17.000000</td>\n",
       "      <td>199.000000</td>\n",
       "      <td>122.000000</td>\n",
       "      <td>99.000000</td>\n",
       "      <td>846.000000</td>\n",
       "      <td>67.100000</td>\n",
       "      <td>2.420000</td>\n",
       "      <td>81.000000</td>\n",
       "      <td>1.000000</td>\n",
       "    </tr>\n",
       "  </tbody>\n",
       "</table>\n",
       "</div>"
      ],
      "text/plain": [
       "       Pregnancies     Glucose  BloodPressure  SkinThickness     Insulin  \\\n",
       "count   768.000000  768.000000     768.000000     768.000000  768.000000   \n",
       "mean      3.845052  120.894531      69.105469      20.536458   79.799479   \n",
       "std       3.369578   31.972618      19.355807      15.952218  115.244002   \n",
       "min       0.000000    0.000000       0.000000       0.000000    0.000000   \n",
       "25%       1.000000   99.000000      62.000000       0.000000    0.000000   \n",
       "50%       3.000000  117.000000      72.000000      23.000000   30.500000   \n",
       "75%       6.000000  140.250000      80.000000      32.000000  127.250000   \n",
       "max      17.000000  199.000000     122.000000      99.000000  846.000000   \n",
       "\n",
       "              BMI  DiabetesPedigreeFunction         Age     Outcome  \n",
       "count  768.000000                768.000000  768.000000  768.000000  \n",
       "mean    31.992578                  0.471876   33.240885    0.348958  \n",
       "std      7.884160                  0.331329   11.760232    0.476951  \n",
       "min      0.000000                  0.078000   21.000000    0.000000  \n",
       "25%     27.300000                  0.243750   24.000000    0.000000  \n",
       "50%     32.000000                  0.372500   29.000000    0.000000  \n",
       "75%     36.600000                  0.626250   41.000000    1.000000  \n",
       "max     67.100000                  2.420000   81.000000    1.000000  "
      ]
     },
     "execution_count": 82,
     "metadata": {},
     "output_type": "execute_result"
    }
   ],
   "source": [
    "diabetes_df.describe()"
   ]
  },
  {
   "cell_type": "code",
   "execution_count": 78,
   "id": "184f737e",
   "metadata": {},
   "outputs": [
    {
     "data": {
      "image/png": "[encoded data removed]",
      "text/plain": [
       "<Figure size 432x288 with 1 Axes>"
      ]
     },
     "metadata": {
      "needs_background": "light"
     },
     "output_type": "display_data"
    }
   ],
   "source": [
    "# 혈압에 0이 나온다???\n",
    "\n",
    "plt.hist(diabetes_df.BloodPressure)\n",
    "plt.show()"
   ]
  },
  {
   "cell_type": "code",
   "execution_count": 80,
   "id": "1fadc864",
   "metadata": {},
   "outputs": [
    {
     "data": {
      "image/png": "[encoded data removed]",
      "text/plain": [
       "<Figure size 432x288 with 1 Axes>"
      ]
     },
     "metadata": {
      "needs_background": "light"
     },
     "output_type": "display_data"
    }
   ],
   "source": [
    "# Glucose에 0이 나온다???\n",
    "\n",
    "plt.hist(diabetes_df.Glucose)\n",
    "plt.show()"
   ]
  },
  {
   "cell_type": "code",
   "execution_count": 93,
   "id": "cd113c0c",
   "metadata": {},
   "outputs": [
    {
     "name": "stdout",
     "output_type": "stream",
     "text": [
      "Glucose의 zero의 수는 5, 퍼센트 비율은0.65 %\n",
      "BloodPressure의 zero의 수는 35, 퍼센트 비율은4.56 %\n",
      "SkinThickness의 zero의 수는 227, 퍼센트 비율은29.56 %\n",
      "Insulin의 zero의 수는 374, 퍼센트 비율은48.70 %\n",
      "BMI의 zero의 수는 11, 퍼센트 비율은1.43 %\n"
     ]
    }
   ],
   "source": [
    "# 0값이 있는 비율을 계산하여 확인해보자.\n",
    "# Glucose\tBloodPressure\tSkinThickness\tInsulin\tBMI\n",
    "\n",
    "zero_ftrs = ['Glucose','BloodPressure','SkinThickness','Insulin','BMI']\n",
    "\n",
    "total_cnt = len(diabetes_df)\n",
    "\n",
    "for ftr in zero_ftrs:\n",
    "    z_cnt = diabetes_df[diabetes_df[ftr]==0][ftr].count()\n",
    "    print('{0}의 zero의 수는 {1}, 퍼센트 비율은{2:.2f} %'.format(ftr,z_cnt,(z_cnt/total_cnt)*100))"
   ]
  },
  {
   "cell_type": "code",
   "execution_count": 103,
   "id": "173e670e",
   "metadata": {},
   "outputs": [],
   "source": [
    "mean_zero_ftrs = diabetes_df[zero_ftrs].mean()\n",
    "diabetes_df[zero_ftrs] = diabetes_df[zero_ftrs].replace(0,mean_zero_ftrs)"
   ]
  },
  {
   "cell_type": "code",
   "execution_count": 107,
   "id": "3e3bd9f5",
   "metadata": {},
   "outputs": [],
   "source": [
    "X_scaled = diabetes_df.drop(['Outcome'], axis=1)\n",
    "y_scaled = diabetes_df['Outcome']"
   ]
  },
  {
   "cell_type": "code",
   "execution_count": 110,
   "id": "3fec317a",
   "metadata": {},
   "outputs": [
    {
     "name": "stdout",
     "output_type": "stream",
     "text": [
      "X_train의 shape: (614, 8)\n",
      "X_test의 shape: (154, 8)\n",
      "y_train의 shape: (614,)\n",
      "y_test의 shape: (154,)\n"
     ]
    }
   ],
   "source": [
    "# 스케일링된 데이터를 통해 train_test_split을 함\n",
    "\n",
    "X_train, X_test, y_train, y_test = train_test_split(X_scaled, y_scaled,\n",
    "                                                   test_size=0.2,\n",
    "                                                   stratify=y_scaled)\n",
    "\n",
    "print('X_train의 shape:', X_train.shape)\n",
    "print('X_test의 shape:', X_test.shape)\n",
    "print('y_train의 shape:', y_train.shape)\n",
    "print('y_test의 shape:', y_test.shape)"
   ]
  },
  {
   "cell_type": "code",
   "execution_count": 121,
   "id": "364867a3",
   "metadata": {},
   "outputs": [
    {
     "name": "stdout",
     "output_type": "stream",
     "text": [
      "## 로지스틱회귀 ##\n",
      "\n",
      "혼동행렬 confusion matrix\n",
      "[[91  9]\n",
      " [29 25]]\n",
      "accuracy :0.7532, precision: 0.7353, recall: 0.4630, f1:0.5682,roc_auc:0.6865\n",
      "\n",
      "## 의사결정나무 ##\n",
      "\n",
      "혼동행렬 confusion matrix\n",
      "[[73 27]\n",
      " [21 33]]\n",
      "accuracy :0.6883, precision: 0.5500, recall: 0.6111, f1:0.5789,roc_auc:0.6706\n",
      "\n",
      "## 랜덤포레스트 ##\n",
      "\n",
      "혼동행렬 confusion matrix\n",
      "[[85 15]\n",
      " [31 23]]\n",
      "accuracy :0.7013, precision: 0.6053, recall: 0.4259, f1:0.5000,roc_auc:0.6380\n"
     ]
    }
   ],
   "source": [
    "# fitting 시작\n",
    "\n",
    "# from sklearn.linear_model import LogisticRegression\n",
    "lr_clf = LogisticRegression()\n",
    "lr_clf.fit(X_train,y_train)\n",
    "pred_lr = lr_clf.predict(X_test)\n",
    "print('## 로지스틱회귀 ##\\n')\n",
    "get_con_index(y_test,pred_lr)\n",
    "\n",
    "\n",
    "# from sklearn.tree import DecisionTreeClassifier\n",
    "dt_clf = DecisionTreeClassifier()\n",
    "dt_clf.fit(X_train,y_train)\n",
    "pred_dt = dt_clf.predict(X_test)\n",
    "print('\\n## 의사결정나무 ##\\n')\n",
    "get_con_index(y_test,pred_dt)\n",
    "\n",
    "\n",
    "# from sklearn.ensemble import RandomForestClassifier\n",
    "rf_clf = RandomForestClassifier()\n",
    "rf_clf.fit(X_train,y_train)\n",
    "pred_rf = rf_clf.predict(X_test)\n",
    "\n",
    "print('\\n## 랜덤포레스트 ##\\n')\n",
    "get_con_index(y_test,pred_rf)"
   ]
  },
  {
   "cell_type": "code",
   "execution_count": 122,
   "id": "f3226ab7",
   "metadata": {},
   "outputs": [],
   "source": [
    "# end of file"
   ]
  }
 ],
 "metadata": {
  "kernelspec": {
   "display_name": "Python 3 (ipykernel)",
   "language": "python",
   "name": "python3"
  },
  "language_info": {
   "codemirror_mode": {
    "name": "ipython",
    "version": 3
   },
   "file_extension": ".py",
   "mimetype": "text/x-python",
   "name": "python",
   "nbconvert_exporter": "python",
   "pygments_lexer": "ipython3",
   "version": "3.9.7"
  }
 },
 "nbformat": 4,
 "nbformat_minor": 5
}
