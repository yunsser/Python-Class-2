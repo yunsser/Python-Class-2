{
 "cells": [
  {
   "cell_type": "code",
   "execution_count": 2,
   "id": "7af72372",
   "metadata": {},
   "outputs": [],
   "source": [
    "# 필수 라이브러리\n",
    "import numpy as np\n",
    "import pandas as pd\n",
    "\n",
    "# 시각화 라이브러리\n",
    "import matplotlib.pyplot as plt\n",
    "import seaborn as sns"
   ]
  },
  {
   "cell_type": "code",
   "execution_count": 3,
   "id": "e151b18b",
   "metadata": {},
   "outputs": [],
   "source": [
    "# 머신러닝 라이브러리 - sklearn\n",
    "from sklearn.model_selection import train_test_split\n",
    "\n",
    "# 필요 라이브러리 \n",
    "from sklearn.tree import DecisionTreeClassifier\n",
    "from sklearn.ensemble import RandomForestClassifier\n",
    "from sklearn.linear_model import LogisticRegression\n",
    "\n",
    "# 평가지표 - Accuracy\n",
    "from sklearn.metrics import accuracy_score"
   ]
  },
  {
   "cell_type": "code",
   "execution_count": 6,
   "id": "73aa2eb6",
   "metadata": {},
   "outputs": [
    {
     "data": {
      "text/html": [
       "<div>\n",
       "<style scoped>\n",
       "    .dataframe tbody tr th:only-of-type {\n",
       "        vertical-align: middle;\n",
       "    }\n",
       "\n",
       "    .dataframe tbody tr th {\n",
       "        vertical-align: top;\n",
       "    }\n",
       "\n",
       "    .dataframe thead th {\n",
       "        text-align: right;\n",
       "    }\n",
       "</style>\n",
       "<table border=\"1\" class=\"dataframe\">\n",
       "  <thead>\n",
       "    <tr style=\"text-align: right;\">\n",
       "      <th></th>\n",
       "      <th>PassengerId</th>\n",
       "      <th>Survived</th>\n",
       "      <th>Pclass</th>\n",
       "      <th>Name</th>\n",
       "      <th>Sex</th>\n",
       "      <th>Age</th>\n",
       "      <th>SibSp</th>\n",
       "      <th>Parch</th>\n",
       "      <th>Ticket</th>\n",
       "      <th>Fare</th>\n",
       "      <th>Cabin</th>\n",
       "      <th>Embarked</th>\n",
       "    </tr>\n",
       "  </thead>\n",
       "  <tbody>\n",
       "    <tr>\n",
       "      <th>0</th>\n",
       "      <td>1</td>\n",
       "      <td>0</td>\n",
       "      <td>3</td>\n",
       "      <td>Braund, Mr. Owen Harris</td>\n",
       "      <td>male</td>\n",
       "      <td>22.0</td>\n",
       "      <td>1</td>\n",
       "      <td>0</td>\n",
       "      <td>A/5 21171</td>\n",
       "      <td>7.2500</td>\n",
       "      <td>NaN</td>\n",
       "      <td>S</td>\n",
       "    </tr>\n",
       "    <tr>\n",
       "      <th>1</th>\n",
       "      <td>2</td>\n",
       "      <td>1</td>\n",
       "      <td>1</td>\n",
       "      <td>Cumings, Mrs. John Bradley (Florence Briggs Th...</td>\n",
       "      <td>female</td>\n",
       "      <td>38.0</td>\n",
       "      <td>1</td>\n",
       "      <td>0</td>\n",
       "      <td>PC 17599</td>\n",
       "      <td>71.2833</td>\n",
       "      <td>C85</td>\n",
       "      <td>C</td>\n",
       "    </tr>\n",
       "    <tr>\n",
       "      <th>2</th>\n",
       "      <td>3</td>\n",
       "      <td>1</td>\n",
       "      <td>3</td>\n",
       "      <td>Heikkinen, Miss. Laina</td>\n",
       "      <td>female</td>\n",
       "      <td>26.0</td>\n",
       "      <td>0</td>\n",
       "      <td>0</td>\n",
       "      <td>STON/O2. 3101282</td>\n",
       "      <td>7.9250</td>\n",
       "      <td>NaN</td>\n",
       "      <td>S</td>\n",
       "    </tr>\n",
       "  </tbody>\n",
       "</table>\n",
       "</div>"
      ],
      "text/plain": [
       "   PassengerId  Survived  Pclass  \\\n",
       "0            1         0       3   \n",
       "1            2         1       1   \n",
       "2            3         1       3   \n",
       "\n",
       "                                                Name     Sex   Age  SibSp  \\\n",
       "0                            Braund, Mr. Owen Harris    male  22.0      1   \n",
       "1  Cumings, Mrs. John Bradley (Florence Briggs Th...  female  38.0      1   \n",
       "2                             Heikkinen, Miss. Laina  female  26.0      0   \n",
       "\n",
       "   Parch            Ticket     Fare Cabin Embarked  \n",
       "0      0         A/5 21171   7.2500   NaN        S  \n",
       "1      0          PC 17599  71.2833   C85        C  \n",
       "2      0  STON/O2. 3101282   7.9250   NaN        S  "
      ]
     },
     "execution_count": 6,
     "metadata": {},
     "output_type": "execute_result"
    }
   ],
   "source": [
    "# 데이터 로딩 \n",
    "titan_df = pd.read_csv('./titanic/train.csv')\n",
    "titan_df.head(3)"
   ]
  },
  {
   "cell_type": "code",
   "execution_count": 10,
   "id": "a14561e3",
   "metadata": {},
   "outputs": [
    {
     "name": "stdout",
     "output_type": "stream",
     "text": [
      "### Data Information ### \n",
      "\n",
      "<class 'pandas.core.frame.DataFrame'>\n",
      "RangeIndex: 891 entries, 0 to 890\n",
      "Data columns (total 12 columns):\n",
      " #   Column       Non-Null Count  Dtype  \n",
      "---  ------       --------------  -----  \n",
      " 0   PassengerId  891 non-null    int64  \n",
      " 1   Survived     891 non-null    int64  \n",
      " 2   Pclass       891 non-null    int64  \n",
      " 3   Name         891 non-null    object \n",
      " 4   Sex          891 non-null    object \n",
      " 5   Age          714 non-null    float64\n",
      " 6   SibSp        891 non-null    int64  \n",
      " 7   Parch        891 non-null    int64  \n",
      " 8   Ticket       891 non-null    object \n",
      " 9   Fare         891 non-null    float64\n",
      " 10  Cabin        204 non-null    object \n",
      " 11  Embarked     889 non-null    object \n",
      "dtypes: float64(2), int64(5), object(5)\n",
      "memory usage: 83.7+ KB\n"
     ]
    }
   ],
   "source": [
    "### 데이터 정보\n",
    "print('### Data Information ### \\n')\n",
    "titan_df.info()"
   ]
  },
  {
   "cell_type": "code",
   "execution_count": 14,
   "id": "152cce8c",
   "metadata": {},
   "outputs": [
    {
     "data": {
      "text/plain": [
       "PassengerId      0\n",
       "Survived         0\n",
       "Pclass           0\n",
       "Name             0\n",
       "Sex              0\n",
       "Age            177\n",
       "SibSp            0\n",
       "Parch            0\n",
       "Ticket           0\n",
       "Fare             0\n",
       "Cabin          687\n",
       "Embarked         2\n",
       "dtype: int64"
      ]
     },
     "execution_count": 14,
     "metadata": {},
     "output_type": "execute_result"
    }
   ],
   "source": [
    "## 결측치를 확인 후 적절한 값으로 대체(imputation)\n",
    "titan_df.isnull().sum()"
   ]
  },
  {
   "cell_type": "code",
   "execution_count": 21,
   "id": "5c6637a9",
   "metadata": {},
   "outputs": [],
   "source": [
    "### train 결측치 대체 함수화\n",
    "def imputation_na(df):\n",
    "    df['Age'].fillna(np.mean(df['Age']), inplace=True)\n",
    "    df['Cabin'].fillna('N', inplace=True)\n",
    "    df['Embarked'].fillna('N', inplace=True)\n",
    "    df['Fare'].fillna(0,inplace=True)\n",
    "    return df\n"
   ]
  },
  {
   "cell_type": "code",
   "execution_count": 24,
   "id": "9e481266",
   "metadata": {},
   "outputs": [
    {
     "data": {
      "text/html": [
       "<div>\n",
       "<style scoped>\n",
       "    .dataframe tbody tr th:only-of-type {\n",
       "        vertical-align: middle;\n",
       "    }\n",
       "\n",
       "    .dataframe tbody tr th {\n",
       "        vertical-align: top;\n",
       "    }\n",
       "\n",
       "    .dataframe thead th {\n",
       "        text-align: right;\n",
       "    }\n",
       "</style>\n",
       "<table border=\"1\" class=\"dataframe\">\n",
       "  <thead>\n",
       "    <tr style=\"text-align: right;\">\n",
       "      <th></th>\n",
       "      <th>PassengerId</th>\n",
       "      <th>Survived</th>\n",
       "      <th>Pclass</th>\n",
       "      <th>Name</th>\n",
       "      <th>Sex</th>\n",
       "      <th>Age</th>\n",
       "      <th>SibSp</th>\n",
       "      <th>Parch</th>\n",
       "      <th>Ticket</th>\n",
       "      <th>Fare</th>\n",
       "      <th>Cabin</th>\n",
       "      <th>Embarked</th>\n",
       "    </tr>\n",
       "  </thead>\n",
       "  <tbody>\n",
       "    <tr>\n",
       "      <th>0</th>\n",
       "      <td>1</td>\n",
       "      <td>0</td>\n",
       "      <td>3</td>\n",
       "      <td>Braund, Mr. Owen Harris</td>\n",
       "      <td>male</td>\n",
       "      <td>22.0</td>\n",
       "      <td>1</td>\n",
       "      <td>0</td>\n",
       "      <td>A/5 21171</td>\n",
       "      <td>7.2500</td>\n",
       "      <td>N</td>\n",
       "      <td>S</td>\n",
       "    </tr>\n",
       "    <tr>\n",
       "      <th>1</th>\n",
       "      <td>2</td>\n",
       "      <td>1</td>\n",
       "      <td>1</td>\n",
       "      <td>Cumings, Mrs. John Bradley (Florence Briggs Th...</td>\n",
       "      <td>female</td>\n",
       "      <td>38.0</td>\n",
       "      <td>1</td>\n",
       "      <td>0</td>\n",
       "      <td>PC 17599</td>\n",
       "      <td>71.2833</td>\n",
       "      <td>C85</td>\n",
       "      <td>C</td>\n",
       "    </tr>\n",
       "    <tr>\n",
       "      <th>2</th>\n",
       "      <td>3</td>\n",
       "      <td>1</td>\n",
       "      <td>3</td>\n",
       "      <td>Heikkinen, Miss. Laina</td>\n",
       "      <td>female</td>\n",
       "      <td>26.0</td>\n",
       "      <td>0</td>\n",
       "      <td>0</td>\n",
       "      <td>STON/O2. 3101282</td>\n",
       "      <td>7.9250</td>\n",
       "      <td>N</td>\n",
       "      <td>S</td>\n",
       "    </tr>\n",
       "  </tbody>\n",
       "</table>\n",
       "</div>"
      ],
      "text/plain": [
       "   PassengerId  Survived  Pclass  \\\n",
       "0            1         0       3   \n",
       "1            2         1       1   \n",
       "2            3         1       3   \n",
       "\n",
       "                                                Name     Sex   Age  SibSp  \\\n",
       "0                            Braund, Mr. Owen Harris    male  22.0      1   \n",
       "1  Cumings, Mrs. John Bradley (Florence Briggs Th...  female  38.0      1   \n",
       "2                             Heikkinen, Miss. Laina  female  26.0      0   \n",
       "\n",
       "   Parch            Ticket     Fare Cabin Embarked  \n",
       "0      0         A/5 21171   7.2500     N        S  \n",
       "1      0          PC 17599  71.2833   C85        C  \n",
       "2      0  STON/O2. 3101282   7.9250     N        S  "
      ]
     },
     "execution_count": 24,
     "metadata": {},
     "output_type": "execute_result"
    }
   ],
   "source": [
    "imputation_na(titan_df).head(3)"
   ]
  },
  {
   "cell_type": "code",
   "execution_count": 25,
   "id": "93aa0657",
   "metadata": {},
   "outputs": [
    {
     "data": {
      "text/plain": [
       "PassengerId    0\n",
       "Survived       0\n",
       "Pclass         0\n",
       "Name           0\n",
       "Sex            0\n",
       "Age            0\n",
       "SibSp          0\n",
       "Parch          0\n",
       "Ticket         0\n",
       "Fare           0\n",
       "Cabin          0\n",
       "Embarked       0\n",
       "dtype: int64"
      ]
     },
     "execution_count": 25,
     "metadata": {},
     "output_type": "execute_result"
    }
   ],
   "source": [
    "### 전처리 후의 결측값 확인\n",
    "titan_df.isna().sum()"
   ]
  },
  {
   "cell_type": "code",
   "execution_count": 29,
   "id": "b0cc2035",
   "metadata": {},
   "outputs": [
    {
     "data": {
      "text/plain": [
       "Index(['Name', 'Sex', 'Ticket', 'Cabin', 'Embarked'], dtype='object')"
      ]
     },
     "execution_count": 29,
     "metadata": {},
     "output_type": "execute_result"
    }
   ],
   "source": [
    "### 문자들을 숫자로 변환 (인코딩)\n",
    "### 종속변수(y값)가 명목형 변수(0:사망, 1:생존) == Label encoding 써도 됨\n",
    "\n",
    "titan_df.select_dtypes(include='object').columns"
   ]
  },
  {
   "cell_type": "code",
   "execution_count": 30,
   "id": "d54fd642",
   "metadata": {},
   "outputs": [],
   "source": [
    "from sklearn.preprocessing import LabelEncoder"
   ]
  },
  {
   "cell_type": "code",
   "execution_count": 44,
   "id": "e49cde62",
   "metadata": {},
   "outputs": [],
   "source": [
    "# Label_Encoder를 for문을 통해 반복해서 적용\n",
    "\n",
    "ftrs = ['Name', 'Sex', 'Ticket', 'Cabin', 'Embarked']\n",
    "for ftr in ftrs:\n",
    "    le = LabelEncoder()\n",
    "    titan_df[ftr] = le.fit_transform(titan_df[ftr])   "
   ]
  },
  {
   "cell_type": "code",
   "execution_count": 43,
   "id": "1df5d534",
   "metadata": {},
   "outputs": [],
   "source": [
    "def Label_Encode_ftrs(df):\n",
    "    # Label_Encoder를 for문을 통해 반복해서 적용\n",
    "    ftrs = ['Name', 'Sex', 'Ticket', 'Cabin', 'Embarked']\n",
    "    for ftr in ftrs:\n",
    "        le = LabelEncoder()\n",
    "        df[ftr] = le.fit_transform(df[ftr])   \n",
    "    return df"
   ]
  },
  {
   "cell_type": "code",
   "execution_count": 46,
   "id": "28433f0f",
   "metadata": {},
   "outputs": [
    {
     "data": {
      "text/html": [
       "<div>\n",
       "<style scoped>\n",
       "    .dataframe tbody tr th:only-of-type {\n",
       "        vertical-align: middle;\n",
       "    }\n",
       "\n",
       "    .dataframe tbody tr th {\n",
       "        vertical-align: top;\n",
       "    }\n",
       "\n",
       "    .dataframe thead th {\n",
       "        text-align: right;\n",
       "    }\n",
       "</style>\n",
       "<table border=\"1\" class=\"dataframe\">\n",
       "  <thead>\n",
       "    <tr style=\"text-align: right;\">\n",
       "      <th></th>\n",
       "      <th>PassengerId</th>\n",
       "      <th>Survived</th>\n",
       "      <th>Pclass</th>\n",
       "      <th>Name</th>\n",
       "      <th>Sex</th>\n",
       "      <th>Age</th>\n",
       "      <th>SibSp</th>\n",
       "      <th>Parch</th>\n",
       "      <th>Ticket</th>\n",
       "      <th>Fare</th>\n",
       "      <th>Cabin</th>\n",
       "      <th>Embarked</th>\n",
       "    </tr>\n",
       "  </thead>\n",
       "  <tbody>\n",
       "    <tr>\n",
       "      <th>0</th>\n",
       "      <td>1</td>\n",
       "      <td>0</td>\n",
       "      <td>3</td>\n",
       "      <td>108</td>\n",
       "      <td>1</td>\n",
       "      <td>22.000000</td>\n",
       "      <td>1</td>\n",
       "      <td>0</td>\n",
       "      <td>523</td>\n",
       "      <td>7.2500</td>\n",
       "      <td>146</td>\n",
       "      <td>3</td>\n",
       "    </tr>\n",
       "    <tr>\n",
       "      <th>1</th>\n",
       "      <td>2</td>\n",
       "      <td>1</td>\n",
       "      <td>1</td>\n",
       "      <td>190</td>\n",
       "      <td>0</td>\n",
       "      <td>38.000000</td>\n",
       "      <td>1</td>\n",
       "      <td>0</td>\n",
       "      <td>596</td>\n",
       "      <td>71.2833</td>\n",
       "      <td>81</td>\n",
       "      <td>0</td>\n",
       "    </tr>\n",
       "    <tr>\n",
       "      <th>2</th>\n",
       "      <td>3</td>\n",
       "      <td>1</td>\n",
       "      <td>3</td>\n",
       "      <td>353</td>\n",
       "      <td>0</td>\n",
       "      <td>26.000000</td>\n",
       "      <td>0</td>\n",
       "      <td>0</td>\n",
       "      <td>669</td>\n",
       "      <td>7.9250</td>\n",
       "      <td>146</td>\n",
       "      <td>3</td>\n",
       "    </tr>\n",
       "    <tr>\n",
       "      <th>3</th>\n",
       "      <td>4</td>\n",
       "      <td>1</td>\n",
       "      <td>1</td>\n",
       "      <td>272</td>\n",
       "      <td>0</td>\n",
       "      <td>35.000000</td>\n",
       "      <td>1</td>\n",
       "      <td>0</td>\n",
       "      <td>49</td>\n",
       "      <td>53.1000</td>\n",
       "      <td>55</td>\n",
       "      <td>3</td>\n",
       "    </tr>\n",
       "    <tr>\n",
       "      <th>4</th>\n",
       "      <td>5</td>\n",
       "      <td>0</td>\n",
       "      <td>3</td>\n",
       "      <td>15</td>\n",
       "      <td>1</td>\n",
       "      <td>35.000000</td>\n",
       "      <td>0</td>\n",
       "      <td>0</td>\n",
       "      <td>472</td>\n",
       "      <td>8.0500</td>\n",
       "      <td>146</td>\n",
       "      <td>3</td>\n",
       "    </tr>\n",
       "    <tr>\n",
       "      <th>...</th>\n",
       "      <td>...</td>\n",
       "      <td>...</td>\n",
       "      <td>...</td>\n",
       "      <td>...</td>\n",
       "      <td>...</td>\n",
       "      <td>...</td>\n",
       "      <td>...</td>\n",
       "      <td>...</td>\n",
       "      <td>...</td>\n",
       "      <td>...</td>\n",
       "      <td>...</td>\n",
       "      <td>...</td>\n",
       "    </tr>\n",
       "    <tr>\n",
       "      <th>886</th>\n",
       "      <td>887</td>\n",
       "      <td>0</td>\n",
       "      <td>2</td>\n",
       "      <td>548</td>\n",
       "      <td>1</td>\n",
       "      <td>27.000000</td>\n",
       "      <td>0</td>\n",
       "      <td>0</td>\n",
       "      <td>101</td>\n",
       "      <td>13.0000</td>\n",
       "      <td>146</td>\n",
       "      <td>3</td>\n",
       "    </tr>\n",
       "    <tr>\n",
       "      <th>887</th>\n",
       "      <td>888</td>\n",
       "      <td>1</td>\n",
       "      <td>1</td>\n",
       "      <td>303</td>\n",
       "      <td>0</td>\n",
       "      <td>19.000000</td>\n",
       "      <td>0</td>\n",
       "      <td>0</td>\n",
       "      <td>14</td>\n",
       "      <td>30.0000</td>\n",
       "      <td>30</td>\n",
       "      <td>3</td>\n",
       "    </tr>\n",
       "    <tr>\n",
       "      <th>888</th>\n",
       "      <td>889</td>\n",
       "      <td>0</td>\n",
       "      <td>3</td>\n",
       "      <td>413</td>\n",
       "      <td>0</td>\n",
       "      <td>29.699118</td>\n",
       "      <td>1</td>\n",
       "      <td>2</td>\n",
       "      <td>675</td>\n",
       "      <td>23.4500</td>\n",
       "      <td>146</td>\n",
       "      <td>3</td>\n",
       "    </tr>\n",
       "    <tr>\n",
       "      <th>889</th>\n",
       "      <td>890</td>\n",
       "      <td>1</td>\n",
       "      <td>1</td>\n",
       "      <td>81</td>\n",
       "      <td>1</td>\n",
       "      <td>26.000000</td>\n",
       "      <td>0</td>\n",
       "      <td>0</td>\n",
       "      <td>8</td>\n",
       "      <td>30.0000</td>\n",
       "      <td>60</td>\n",
       "      <td>0</td>\n",
       "    </tr>\n",
       "    <tr>\n",
       "      <th>890</th>\n",
       "      <td>891</td>\n",
       "      <td>0</td>\n",
       "      <td>3</td>\n",
       "      <td>220</td>\n",
       "      <td>1</td>\n",
       "      <td>32.000000</td>\n",
       "      <td>0</td>\n",
       "      <td>0</td>\n",
       "      <td>466</td>\n",
       "      <td>7.7500</td>\n",
       "      <td>146</td>\n",
       "      <td>2</td>\n",
       "    </tr>\n",
       "  </tbody>\n",
       "</table>\n",
       "<p>891 rows × 12 columns</p>\n",
       "</div>"
      ],
      "text/plain": [
       "     PassengerId  Survived  Pclass  Name  Sex        Age  SibSp  Parch  \\\n",
       "0              1         0       3   108    1  22.000000      1      0   \n",
       "1              2         1       1   190    0  38.000000      1      0   \n",
       "2              3         1       3   353    0  26.000000      0      0   \n",
       "3              4         1       1   272    0  35.000000      1      0   \n",
       "4              5         0       3    15    1  35.000000      0      0   \n",
       "..           ...       ...     ...   ...  ...        ...    ...    ...   \n",
       "886          887         0       2   548    1  27.000000      0      0   \n",
       "887          888         1       1   303    0  19.000000      0      0   \n",
       "888          889         0       3   413    0  29.699118      1      2   \n",
       "889          890         1       1    81    1  26.000000      0      0   \n",
       "890          891         0       3   220    1  32.000000      0      0   \n",
       "\n",
       "     Ticket     Fare  Cabin  Embarked  \n",
       "0       523   7.2500    146         3  \n",
       "1       596  71.2833     81         0  \n",
       "2       669   7.9250    146         3  \n",
       "3        49  53.1000     55         3  \n",
       "4       472   8.0500    146         3  \n",
       "..      ...      ...    ...       ...  \n",
       "886     101  13.0000    146         3  \n",
       "887      14  30.0000     30         3  \n",
       "888     675  23.4500    146         3  \n",
       "889       8  30.0000     60         0  \n",
       "890     466   7.7500    146         2  \n",
       "\n",
       "[891 rows x 12 columns]"
      ]
     },
     "execution_count": 46,
     "metadata": {},
     "output_type": "execute_result"
    }
   ],
   "source": [
    "# Label Encoding을 수행함으로써 문자를 숫자로 변환시킴\n",
    "\n",
    "Label_Encode_ftrs(titan_df)"
   ]
  },
  {
   "cell_type": "code",
   "execution_count": 47,
   "id": "060b4816",
   "metadata": {},
   "outputs": [],
   "source": [
    "### 불필요한 컬럼속성 제거 \n",
    "def drop_ftrs(df):\n",
    "    df.drop(['PassengerId','Name','Ticket','Cabin'], axis=1, inplace=True)\n",
    "    return df"
   ]
  },
  {
   "cell_type": "code",
   "execution_count": 48,
   "id": "2a01b6ef",
   "metadata": {},
   "outputs": [],
   "source": [
    "### 앞에서 생성한 def함수들을 다 합쳐서 만들어보자\n",
    "def preprocessing_ftrs(df):\n",
    "    df = imputation_na(df)\n",
    "    df = Label_Encode_ftrs(df)\n",
    "    df = drop_ftrs(df)\n",
    "    \n",
    "    return df"
   ]
  },
  {
   "cell_type": "code",
   "execution_count": 51,
   "id": "4da2dc9a",
   "metadata": {},
   "outputs": [],
   "source": [
    "### 지금 이 작업은 train.csv로만 진행하므로 validation입니다 ^^\n",
    "\n",
    "## 원본 데이터를 재로딩한 후, \n",
    "# Features (즉, X값)데이터와\n",
    "# Label(즉, y값)데이터를 추출\n",
    "\n",
    "titan_df = pd.read_csv('./titanic/train.csv')\n",
    "y_titan_df = titan_df['Survived']\n",
    "X_titan_df = titan_df.drop(['Survived'], axis=1)"
   ]
  },
  {
   "cell_type": "code",
   "execution_count": 54,
   "id": "418d4767",
   "metadata": {},
   "outputs": [],
   "source": [
    "### 전처리가 끝난 X_ftrs\n",
    "X1_titan_df = preprocessing_ftrs(X_titan_df)"
   ]
  },
  {
   "cell_type": "code",
   "execution_count": 76,
   "id": "59acd3a2",
   "metadata": {},
   "outputs": [],
   "source": [
    "### 학습을 수행하기 위한\n",
    "## 데이터 분할 :: train_test_split\n",
    "\n",
    "X_train, X_val, y_train, y_val = train_test_split(X1_titan_df, y_titan_df,\n",
    "                                                 random_state=11)"
   ]
  },
  {
   "cell_type": "markdown",
   "id": "9578cfc1",
   "metadata": {},
   "source": [
    "ML 알고리즘인 결정 트리, 랜덤 포레스트, 로지스틱 회귀를 이용해 타이타닉 생존자를 예측해보자.\n",
    "이 알고리즘에 대한 상세 설명은 보강시 설명하겠다.(로지스틱 회귀는 이름은 회귀지만 매우 강력한 분류 알고리즘이다.) 아쉽지만 현재는 사이킷런 기반의 머신러닝 코드에 익숙해지는데 집중해보자. 사이킷런은 결정 트리를 위해 DecisionTreeClassifier, 랜덤 포레스트를 위해 RandomForestClassifier, 로지스틱회귀를 위해 LogisticRegression 클래스를 제공한다."
   ]
  },
  {
   "cell_type": "code",
   "execution_count": 77,
   "id": "7a95dfa4",
   "metadata": {},
   "outputs": [],
   "source": [
    "# 필요 라이브러리 \n",
    "from sklearn.tree import DecisionTreeClassifier\n",
    "from sklearn.ensemble import RandomForestClassifier\n",
    "from sklearn.linear_model import LogisticRegression\n",
    "\n",
    "### 객체화\n",
    "dt_clf = DecisionTreeClassifier(random_state=11)\n",
    "rf_clf = RandomForestClassifier(random_state=11)\n",
    "lr_clf = LogisticRegression(random_state=11)"
   ]
  },
  {
   "cell_type": "code",
   "execution_count": 79,
   "id": "64d37062",
   "metadata": {},
   "outputs": [
    {
     "name": "stdout",
     "output_type": "stream",
     "text": [
      "dt_clf의 정확도: 0.8027\n",
      "rf_clf의 정확도: 0.8296\n",
      "lr_clf의 정확도: 0.8475\n"
     ]
    }
   ],
   "source": [
    "# train과 validation을 통해서 미리\n",
    "# 학습된 알고리즘 및 가장 높은 정확도의 알고리즘 선택\n",
    "\n",
    "## dt_clf 학습\n",
    "dt_clf.fit(X_train, y_train)\n",
    "pred_dt = dt_clf.predict(X_val)\n",
    "accuracy_dt = accuracy_score(y_val,pred_dt)\n",
    "\n",
    "print('dt_clf의 정확도:', np.round(accuracy_dt,4))\n",
    "\n",
    "## rf_clf 학습\n",
    "rf_clf.fit(X_train,y_train)\n",
    "pred_rf = rf_clf.predict(X_val)\n",
    "accuracy_rf = accuracy_score(y_val,pred_rf)\n",
    "\n",
    "print('rf_clf의 정확도:', np.round(accuracy_rf,4))\n",
    "\n",
    "## lr_clf 학습\n",
    "lr_clf.fit(X_train,y_train)\n",
    "pred_lr = lr_clf.predict(X_val)\n",
    "accuracy_lr = accuracy_score(y_val,pred_lr)\n",
    "\n",
    "print('lr_clf의 정확도:', np.round(accuracy_lr,4))"
   ]
  },
  {
   "cell_type": "code",
   "execution_count": 81,
   "id": "0efb7ccf",
   "metadata": {},
   "outputs": [],
   "source": [
    "# 하이퍼파라미터 튜닝했다고 가정하겠습니다. GridSearchCV라는 것을 씀\n",
    "# Kfold 했다라고 가정하겠습니다."
   ]
  },
  {
   "cell_type": "code",
   "execution_count": 92,
   "id": "1c15d8df",
   "metadata": {},
   "outputs": [],
   "source": [
    "X_test_all = pd.read_csv('./titanic/test.csv')\n",
    "X1_test_all = preprocessing_ftrs(X_test_all)"
   ]
  },
  {
   "cell_type": "code",
   "execution_count": 115,
   "id": "da80a615",
   "metadata": {},
   "outputs": [],
   "source": [
    "a=[1,2,3]\n",
    "b= a.copy()\n",
    "b=b*3"
   ]
  },
  {
   "cell_type": "code",
   "execution_count": 85,
   "id": "ac13a36b",
   "metadata": {},
   "outputs": [],
   "source": [
    "X_train_all = X1_titan_df.copy() ## 전체의 X_ftrs들을 의미합니다.\n",
    "y_train_all = y_titan_df.copy() ## 전체 y_label들을 의미합니다."
   ]
  },
  {
   "cell_type": "code",
   "execution_count": 94,
   "id": "62ee566f",
   "metadata": {},
   "outputs": [],
   "source": [
    "import warnings\n",
    "warnings.filterwarnings('ignore')\n",
    "\n",
    "# 전체의 데이터로 학습을 수행한다.\n",
    "\n",
    "lr_clf.fit(X_train_all, y_train_all)\n",
    "submit_pred = lr_clf.predict(X1_test_all)"
   ]
  },
  {
   "cell_type": "code",
   "execution_count": 99,
   "id": "d6203339",
   "metadata": {},
   "outputs": [
    {
     "data": {
      "text/plain": [
       "0.930622009569378"
      ]
     },
     "execution_count": 99,
     "metadata": {},
     "output_type": "execute_result"
    }
   ],
   "source": [
    "submission_df = pd.read_csv('./titanic/gender_submission.csv')\n",
    "submission_df.head()\n",
    "\n",
    "submission_df['y_pred'] = submit_pred\n",
    "submission_df.head(3)\n",
    "\n",
    "## 실제 데이터(y_test_all)와의 정확도\n",
    "accuracy_score(submission_df['Survived'],submission_df['y_pred'])"
   ]
  },
  {
   "cell_type": "code",
   "execution_count": 101,
   "id": "24248e48",
   "metadata": {},
   "outputs": [],
   "source": [
    "# 답안제출\n",
    "submission_df.to_csv('./220608.csv')"
   ]
  },
  {
   "cell_type": "code",
   "execution_count": 102,
   "id": "ace7391f",
   "metadata": {},
   "outputs": [],
   "source": [
    "# end of file"
   ]
  }
 ],
 "metadata": {
  "kernelspec": {
   "display_name": "Python 3 (ipykernel)",
   "language": "python",
   "name": "python3"
  },
  "language_info": {
   "codemirror_mode": {
    "name": "ipython",
    "version": 3
   },
   "file_extension": ".py",
   "mimetype": "text/x-python",
   "name": "python",
   "nbconvert_exporter": "python",
   "pygments_lexer": "ipython3",
   "version": "3.9.7"
  }
 },
 "nbformat": 4,
 "nbformat_minor": 5
}
