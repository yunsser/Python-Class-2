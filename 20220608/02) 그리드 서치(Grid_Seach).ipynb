{
 "cells": [
  {
   "cell_type": "markdown",
   "id": "6f655636",
   "metadata": {},
   "source": [
    "### GridSearchCV - 교차 검증과 최적 하이퍼 파라미터 튜닝을 한 번에  "
   ]
  },
  {
   "cell_type": "code",
   "execution_count": 8,
   "id": "9a1930d1",
   "metadata": {},
   "outputs": [],
   "source": [
    "from sklearn.tree import DecisionTreeClassifier\n",
    "\n",
    "?DecisionTreeClassifier"
   ]
  },
  {
   "cell_type": "markdown",
   "id": "6d4730aa",
   "metadata": {},
   "source": [
    "하이퍼파라미터란? 하이퍼 파라미터는 모델링할 때 사용자가 직접 세팅해주는 값을 뜻합니다. "
   ]
  },
  {
   "cell_type": "markdown",
   "id": "e77ce9fc",
   "metadata": {},
   "source": [
    "GridSearchCV는 교차 검증을 기반으로 이 하이퍼 파라미터의 최적 값을 찾게 해준다. 즉, 데이터 세트를 cross_validation을 위한 학습/테스트 세트로 자동으로 분할한 뒤에 하이퍼 파라미터 그리드에 기술된 모든 파라미터를 순차적으로 적용해 최적의 파라미터를 찾을 수 있게 해준다.\n",
    "\n",
    "GridSearchCV는 사용자가 튜닝하고자 하는 여러 종류의 하이퍼 파라미터를 다양하게 테스트하면서 최적의 파라미터를 편리하게 찾게 해주지만 동시에 순차적으로 파라미터를 테스트하므로 수행시간이 상대적으로 오래 걸리는 것에 유념해야 한다."
   ]
  },
  {
   "cell_type": "markdown",
   "id": "5fc0056a",
   "metadata": {},
   "source": [
    "GridSearchCV 클래스의 생성자로 들어가는 주요 파라미터는 다음과 같다.\n",
    "\n",
    "* estimator: classifier, regressor, pipeline이 사용될 수 있다.\n",
    "\n",
    "\n",
    "* param_grid: key + 리스트 값을 가지는 딕셔너리가 주어진다. \n",
    "\n",
    "\n",
    "* scoring: 예측 성능을 측정할 평가 방법을 지정한다. 보통은 사이킷런의 성능 평가 지표를 지정하는 문자열(예:정확도의 경우 'accuracy')로 지정하나 별도의 성능 평가 지표 함수도 지정할 수 있다.\n",
    "\n",
    "\n",
    "* cv:교차 검증을 위해 분할되는 학습/테스트 세트의 개수를 지정한다.\n",
    "\n",
    "\n",
    "* refit: 디폴트가 True이며 True로 생성 시 가장 최적의 하이퍼 파라미터를 찾은 뒤 입력된 estimator 객체를 해당 하이퍼 파라미터로 재학습시킨다."
   ]
  },
  {
   "cell_type": "code",
   "execution_count": 10,
   "id": "b83ae7e0",
   "metadata": {},
   "outputs": [],
   "source": [
    "from sklearn.datasets import load_iris # DataSet\n",
    "from sklearn.tree import DecisionTreeClassifier # 의사결정나무 분류기 \n",
    "from sklearn.metrics import accuracy_score # 평가지표 accuracy\n",
    "from sklearn.model_selection import train_test_split # 데이터 분할\n",
    "\n",
    "\n",
    "# 하이퍼파라미터 튜닝과 CV를 동시에\n",
    "from sklearn.model_selection import GridSearchCV\n",
    "\n",
    "\n",
    "# 데이터를 로딩하고 학습 데이터와 테스트 데이터 분리\n",
    "iris_data= load_iris()\n",
    "X_train,X_test, y_train, y_test = train_test_split(iris_data.data, iris_data.target,\n",
    "                                                  test_size=0.2, random_state=121)\n",
    "\n",
    "# 알고리즘 객체화\n",
    "dt_clf = DecisionTreeClassifier()\n",
    "\n",
    "### 파라미터를 딕셔너리로 지정\n",
    "parameters = {'max_depth':[1,2,3],\n",
    "               'min_samples_split':[2,3]}\n",
    "\n",
    "\n",
    "# # 1 2\n",
    "#   1 3\n",
    "#   2 2\n",
    "#   2 3\n",
    "#   3 2\n",
    "#   3 3"
   ]
  },
  {
   "cell_type": "code",
   "execution_count": 20,
   "id": "706cf9e5",
   "metadata": {},
   "outputs": [
    {
     "data": {
      "text/html": [
       "<div>\n",
       "<style scoped>\n",
       "    .dataframe tbody tr th:only-of-type {\n",
       "        vertical-align: middle;\n",
       "    }\n",
       "\n",
       "    .dataframe tbody tr th {\n",
       "        vertical-align: top;\n",
       "    }\n",
       "\n",
       "    .dataframe thead th {\n",
       "        text-align: right;\n",
       "    }\n",
       "</style>\n",
       "<table border=\"1\" class=\"dataframe\">\n",
       "  <thead>\n",
       "    <tr style=\"text-align: right;\">\n",
       "      <th></th>\n",
       "      <th>params</th>\n",
       "      <th>mean_test_score</th>\n",
       "      <th>rank_test_score</th>\n",
       "      <th>split0_test_score</th>\n",
       "      <th>split1_test_score</th>\n",
       "    </tr>\n",
       "  </thead>\n",
       "  <tbody>\n",
       "    <tr>\n",
       "      <th>0</th>\n",
       "      <td>{'max_depth': 1, 'min_samples_split': 2}</td>\n",
       "      <td>0.700000</td>\n",
       "      <td>5</td>\n",
       "      <td>0.700000</td>\n",
       "      <td>0.700000</td>\n",
       "    </tr>\n",
       "    <tr>\n",
       "      <th>1</th>\n",
       "      <td>{'max_depth': 1, 'min_samples_split': 3}</td>\n",
       "      <td>0.700000</td>\n",
       "      <td>5</td>\n",
       "      <td>0.700000</td>\n",
       "      <td>0.700000</td>\n",
       "    </tr>\n",
       "    <tr>\n",
       "      <th>2</th>\n",
       "      <td>{'max_depth': 2, 'min_samples_split': 2}</td>\n",
       "      <td>0.958333</td>\n",
       "      <td>3</td>\n",
       "      <td>0.950000</td>\n",
       "      <td>0.966667</td>\n",
       "    </tr>\n",
       "    <tr>\n",
       "      <th>3</th>\n",
       "      <td>{'max_depth': 2, 'min_samples_split': 3}</td>\n",
       "      <td>0.958333</td>\n",
       "      <td>3</td>\n",
       "      <td>0.950000</td>\n",
       "      <td>0.966667</td>\n",
       "    </tr>\n",
       "    <tr>\n",
       "      <th>4</th>\n",
       "      <td>{'max_depth': 3, 'min_samples_split': 2}</td>\n",
       "      <td>0.975000</td>\n",
       "      <td>1</td>\n",
       "      <td>0.983333</td>\n",
       "      <td>0.966667</td>\n",
       "    </tr>\n",
       "    <tr>\n",
       "      <th>5</th>\n",
       "      <td>{'max_depth': 3, 'min_samples_split': 3}</td>\n",
       "      <td>0.975000</td>\n",
       "      <td>1</td>\n",
       "      <td>0.983333</td>\n",
       "      <td>0.966667</td>\n",
       "    </tr>\n",
       "  </tbody>\n",
       "</table>\n",
       "</div>"
      ],
      "text/plain": [
       "                                     params  mean_test_score  rank_test_score  \\\n",
       "0  {'max_depth': 1, 'min_samples_split': 2}         0.700000                5   \n",
       "1  {'max_depth': 1, 'min_samples_split': 3}         0.700000                5   \n",
       "2  {'max_depth': 2, 'min_samples_split': 2}         0.958333                3   \n",
       "3  {'max_depth': 2, 'min_samples_split': 3}         0.958333                3   \n",
       "4  {'max_depth': 3, 'min_samples_split': 2}         0.975000                1   \n",
       "5  {'max_depth': 3, 'min_samples_split': 3}         0.975000                1   \n",
       "\n",
       "   split0_test_score  split1_test_score  \n",
       "0           0.700000           0.700000  \n",
       "1           0.700000           0.700000  \n",
       "2           0.950000           0.966667  \n",
       "3           0.950000           0.966667  \n",
       "4           0.983333           0.966667  \n",
       "5           0.983333           0.966667  "
      ]
     },
     "execution_count": 20,
     "metadata": {},
     "output_type": "execute_result"
    }
   ],
   "source": [
    "### iris_데이터에 적용\n",
    "\n",
    "import pandas as pd\n",
    "\n",
    "grid_dt = GridSearchCV(dt_clf, param_grid=parameters, cv=2, refit=True)\n",
    "\n",
    "# 위의 GridSearch로 학습\n",
    "grid_dt.fit(X_train,y_train)\n",
    "\n",
    "## 결과를 보기\n",
    "scores_df = pd.DataFrame(grid_dt.cv_results_)\n",
    "scores_df[['params','mean_test_score','rank_test_score','split0_test_score',\n",
    "          'split1_test_score']]"
   ]
  },
  {
   "cell_type": "code",
   "execution_count": 21,
   "id": "1793bbac",
   "metadata": {},
   "outputs": [],
   "source": [
    "### Q1 주요파라미터는 무엇입니까?\n",
    "### Answer :: Max_depth\n",
    "\n",
    "### Q2 현재 살펴보면 mean_test_score는 4번과 5번이 동일하다\n",
    "###    가장 우수한 파라미터 조합을 찾는다면? 무엇을 골라야 할까?\n",
    "### Answer :: Max_depth : 3, min_samples_split: 2\n",
    "\n",
    "### 모수절약의 원칙"
   ]
  },
  {
   "cell_type": "code",
   "execution_count": 22,
   "id": "8ea71666",
   "metadata": {},
   "outputs": [
    {
     "name": "stdout",
     "output_type": "stream",
     "text": [
      "최적 하이퍼파라미터: DecisionTreeClassifier(max_depth=3)\n",
      "최고 정확도: 0.975\n"
     ]
    }
   ],
   "source": [
    "print('최적 하이퍼파라미터:', grid_dt.best_estimator_)\n",
    "print('최고 정확도:', grid_dt.best_score_)"
   ]
  },
  {
   "cell_type": "code",
   "execution_count": 24,
   "id": "270db448",
   "metadata": {},
   "outputs": [
    {
     "name": "stdout",
     "output_type": "stream",
     "text": [
      "테스트 정확도: 0.9666666666666667\n"
     ]
    }
   ],
   "source": [
    "# 이미 refit이라는 파라미터를 GridSearchCV에서 사용하였으므로...\n",
    "\n",
    "best_est = grid_dt.best_estimator_\n",
    "\n",
    "pred_grid_dt = best_est.predict(X_test)\n",
    "print('테스트 정확도:', accuracy_score(y_test,pred_grid_dt))"
   ]
  },
  {
   "cell_type": "code",
   "execution_count": 25,
   "id": "955a3628",
   "metadata": {},
   "outputs": [],
   "source": [
    "### end of files"
   ]
  }
 ],
 "metadata": {
  "kernelspec": {
   "display_name": "Python 3 (ipykernel)",
   "language": "python",
   "name": "python3"
  },
  "language_info": {
   "codemirror_mode": {
    "name": "ipython",
    "version": 3
   },
   "file_extension": ".py",
   "mimetype": "text/x-python",
   "name": "python",
   "nbconvert_exporter": "python",
   "pygments_lexer": "ipython3",
   "version": "3.9.7"
  }
 },
 "nbformat": 4,
 "nbformat_minor": 5
}
