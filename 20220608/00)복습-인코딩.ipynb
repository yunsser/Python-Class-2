{
 "cells": [
  {
   "cell_type": "markdown",
   "id": "d4245c32",
   "metadata": {},
   "source": [
    "# 데이터 인코딩\n",
    "    \n",
    "    1) 레이블 인코딩 (Label Encoding)\n",
    "    \n",
    "    2) 원핫 인코딩 (One-Hot Encoding)"
   ]
  },
  {
   "cell_type": "markdown",
   "id": "7e1129c7",
   "metadata": {},
   "source": [
    "## Label Encoding"
   ]
  },
  {
   "cell_type": "code",
   "execution_count": 1,
   "id": "5c2e6413",
   "metadata": {},
   "outputs": [],
   "source": [
    "from sklearn.preprocessing import LabelEncoder"
   ]
  },
  {
   "cell_type": "code",
   "execution_count": 6,
   "id": "f529e0d2",
   "metadata": {},
   "outputs": [
    {
     "name": "stdout",
     "output_type": "stream",
     "text": [
      "인코딩 변환값: [0 4 3 2 1]\n"
     ]
    }
   ],
   "source": [
    "ysp = ['0식','일식','이식','삼식','빵식']\n",
    "\n",
    "# LabelEncoder를 객체화\n",
    "le = LabelEncoder()\n",
    "le.fit(ysp)\n",
    "labels = le.transform(ysp)\n",
    "print('인코딩 변환값:', labels)"
   ]
  },
  {
   "cell_type": "code",
   "execution_count": 8,
   "id": "a486793f",
   "metadata": {},
   "outputs": [
    {
     "name": "stdout",
     "output_type": "stream",
     "text": [
      "인코딩 클래스: ['0식' '빵식' '삼식' '이식' '일식']\n"
     ]
    }
   ],
   "source": [
    "print('인코딩 클래스:', le.classes_)"
   ]
  },
  {
   "cell_type": "code",
   "execution_count": 10,
   "id": "6fd246c3",
   "metadata": {},
   "outputs": [
    {
     "name": "stdout",
     "output_type": "stream",
     "text": [
      "디코딩 원본 값: ['0식' '일식' '이식' '삼식' '빵식']\n"
     ]
    }
   ],
   "source": [
    "print('디코딩 원본 값:', le.inverse_transform([0,4,3,2,1]))\n",
    "\n",
    "### Label Encoding은 선형회귀 : y = a * x + b 및 SVM과 같이 가중치 개념의 함수에는 적용할 수 없다."
   ]
  },
  {
   "cell_type": "markdown",
   "id": "e832e125",
   "metadata": {},
   "source": [
    "## 원-핫 인코딩(One-Hot Encoding)"
   ]
  },
  {
   "cell_type": "markdown",
   "id": "d2be99fe",
   "metadata": {},
   "source": [
    "1) 입력값으로 2차원 데이터(2차원 ndarray)가 필요\n",
    "\n",
    "2) 따라서 원-핫 인코딩 전에는 Label Encoding 수행이 되어야 함\n",
    "\n",
    "3) 결과는 해당 feature에만 1이 되고 나머지에는 0이 됨"
   ]
  },
  {
   "cell_type": "code",
   "execution_count": 11,
   "id": "5f19a3e9",
   "metadata": {},
   "outputs": [],
   "source": [
    "from sklearn.preprocessing import LabelEncoder\n",
    "from sklearn.preprocessing import OneHotEncoder\n",
    "\n",
    "import numpy as np "
   ]
  },
  {
   "cell_type": "code",
   "execution_count": 12,
   "id": "d88df114",
   "metadata": {},
   "outputs": [],
   "source": [
    "items=['TV','냉장고','전자레인지','컴퓨터','선풍기','선풍기','믹서','믹서']"
   ]
  },
  {
   "cell_type": "code",
   "execution_count": 23,
   "id": "ef360fd3",
   "metadata": {},
   "outputs": [
    {
     "name": "stdout",
     "output_type": "stream",
     "text": [
      "[0 1 4 5 3 3 2 2]\n",
      "\n",
      " oh_data:\n",
      " [[1. 0. 0. 0. 0. 0.]\n",
      " [0. 1. 0. 0. 0. 0.]\n",
      " [0. 0. 0. 0. 1. 0.]\n",
      " [0. 0. 0. 0. 0. 1.]\n",
      " [0. 0. 0. 1. 0. 0.]\n",
      " [0. 0. 0. 1. 0. 0.]\n",
      " [0. 0. 1. 0. 0. 0.]\n",
      " [0. 0. 1. 0. 0. 0.]]\n",
      "\n",
      " oh_shape:\n",
      " (8, 6)\n"
     ]
    }
   ],
   "source": [
    "# 먼저 문자 -> 숫자 :: LabelEncoder를 수행\n",
    "le = LabelEncoder()\n",
    "labels = le.fit_transform(items)\n",
    "print(labels)\n",
    "\n",
    "## 위의 labels를 -> 2차원으로... \n",
    "labels_2d = labels.reshape(-1,1)\n",
    "\n",
    "## 원핫 인코딩 수행\n",
    "oh_e = OneHotEncoder()\n",
    "labels_oh = oh_e.fit_transform(labels_2d)\n",
    "\n",
    "print('\\n oh_data:\\n',labels_oh.toarray()) \n",
    "print('\\n oh_shape:\\n',labels_oh.toarray().shape) "
   ]
  },
  {
   "cell_type": "markdown",
   "id": "41575afe",
   "metadata": {},
   "source": [
    "pandas에는 원핫 인코딩을 쉽게 지원해주는 API가 있습니다. get_dummies()가 있습니다."
   ]
  },
  {
   "cell_type": "code",
   "execution_count": 28,
   "id": "bf90c9c8",
   "metadata": {
    "scrolled": true
   },
   "outputs": [
    {
     "data": {
      "text/html": [
       "<div>\n",
       "<style scoped>\n",
       "    .dataframe tbody tr th:only-of-type {\n",
       "        vertical-align: middle;\n",
       "    }\n",
       "\n",
       "    .dataframe tbody tr th {\n",
       "        vertical-align: top;\n",
       "    }\n",
       "\n",
       "    .dataframe thead th {\n",
       "        text-align: right;\n",
       "    }\n",
       "</style>\n",
       "<table border=\"1\" class=\"dataframe\">\n",
       "  <thead>\n",
       "    <tr style=\"text-align: right;\">\n",
       "      <th></th>\n",
       "      <th>items_TV</th>\n",
       "      <th>items_냉장고</th>\n",
       "      <th>items_믹서</th>\n",
       "      <th>items_선풍기</th>\n",
       "      <th>items_전자레인지</th>\n",
       "      <th>items_컴퓨터</th>\n",
       "    </tr>\n",
       "  </thead>\n",
       "  <tbody>\n",
       "    <tr>\n",
       "      <th>0</th>\n",
       "      <td>1</td>\n",
       "      <td>0</td>\n",
       "      <td>0</td>\n",
       "      <td>0</td>\n",
       "      <td>0</td>\n",
       "      <td>0</td>\n",
       "    </tr>\n",
       "    <tr>\n",
       "      <th>1</th>\n",
       "      <td>0</td>\n",
       "      <td>1</td>\n",
       "      <td>0</td>\n",
       "      <td>0</td>\n",
       "      <td>0</td>\n",
       "      <td>0</td>\n",
       "    </tr>\n",
       "    <tr>\n",
       "      <th>2</th>\n",
       "      <td>0</td>\n",
       "      <td>0</td>\n",
       "      <td>0</td>\n",
       "      <td>0</td>\n",
       "      <td>1</td>\n",
       "      <td>0</td>\n",
       "    </tr>\n",
       "    <tr>\n",
       "      <th>3</th>\n",
       "      <td>0</td>\n",
       "      <td>0</td>\n",
       "      <td>0</td>\n",
       "      <td>0</td>\n",
       "      <td>0</td>\n",
       "      <td>1</td>\n",
       "    </tr>\n",
       "    <tr>\n",
       "      <th>4</th>\n",
       "      <td>0</td>\n",
       "      <td>0</td>\n",
       "      <td>0</td>\n",
       "      <td>1</td>\n",
       "      <td>0</td>\n",
       "      <td>0</td>\n",
       "    </tr>\n",
       "    <tr>\n",
       "      <th>5</th>\n",
       "      <td>0</td>\n",
       "      <td>0</td>\n",
       "      <td>0</td>\n",
       "      <td>1</td>\n",
       "      <td>0</td>\n",
       "      <td>0</td>\n",
       "    </tr>\n",
       "    <tr>\n",
       "      <th>6</th>\n",
       "      <td>0</td>\n",
       "      <td>0</td>\n",
       "      <td>1</td>\n",
       "      <td>0</td>\n",
       "      <td>0</td>\n",
       "      <td>0</td>\n",
       "    </tr>\n",
       "    <tr>\n",
       "      <th>7</th>\n",
       "      <td>0</td>\n",
       "      <td>0</td>\n",
       "      <td>1</td>\n",
       "      <td>0</td>\n",
       "      <td>0</td>\n",
       "      <td>0</td>\n",
       "    </tr>\n",
       "  </tbody>\n",
       "</table>\n",
       "</div>"
      ],
      "text/plain": [
       "   items_TV  items_냉장고  items_믹서  items_선풍기  items_전자레인지  items_컴퓨터\n",
       "0         1          0         0          0            0          0\n",
       "1         0          1         0          0            0          0\n",
       "2         0          0         0          0            1          0\n",
       "3         0          0         0          0            0          1\n",
       "4         0          0         0          1            0          0\n",
       "5         0          0         0          1            0          0\n",
       "6         0          0         1          0            0          0\n",
       "7         0          0         1          0            0          0"
      ]
     },
     "execution_count": 28,
     "metadata": {},
     "output_type": "execute_result"
    }
   ],
   "source": [
    "import pandas as pd\n",
    "\n",
    "items = ['TV','냉장고','전자레인지','컴퓨터','선풍기','선풍기','믹서','믹서']\n",
    "test_df = pd.DataFrame(items, columns=['items'])\n",
    "pd.get_dummies(test_df)"
   ]
  },
  {
   "cell_type": "code",
   "execution_count": 29,
   "id": "e9fba3a7",
   "metadata": {},
   "outputs": [],
   "source": [
    "### end of file"
   ]
  }
 ],
 "metadata": {
  "kernelspec": {
   "display_name": "Python 3 (ipykernel)",
   "language": "python",
   "name": "python3"
  },
  "language_info": {
   "codemirror_mode": {
    "name": "ipython",
    "version": 3
   },
   "file_extension": ".py",
   "mimetype": "text/x-python",
   "name": "python",
   "nbconvert_exporter": "python",
   "pygments_lexer": "ipython3",
   "version": "3.9.7"
  }
 },
 "nbformat": 4,
 "nbformat_minor": 5
}
