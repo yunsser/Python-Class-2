{
 "cells": [
  {
   "cell_type": "markdown",
   "id": "854e0b27",
   "metadata": {},
   "source": [
    "늘 데이터사이언티스트는 overfitting(과대적합)에 대한 두려움을 가지고 있습니다. 그러므로 이를 줄이기 위해 정해진 훈련데이터(train)와 평가데이터(test)로만 평가하는 행위도 지양하고 있습니다."
   ]
  },
  {
   "cell_type": "markdown",
   "id": "49d1597f",
   "metadata": {},
   "source": [
    "이에 Train_Dataset을 다시금 쪼개어 미리 Test(이하 validation)을 수행하는 행위를 하는데 이를 교차검증(Cross Validation 이하 CV)라 합니다 "
   ]
  },
  {
   "cell_type": "markdown",
   "id": "c9b28fc6",
   "metadata": {},
   "source": [
    "여러 Cross Validation 방법이 있는데 대표적이며 가장 많이 활용되는 방법이 K-fold방법이라 합니다~"
   ]
  },
  {
   "cell_type": "markdown",
   "id": "c29fc276",
   "metadata": {},
   "source": [
    "## K 폴드 교차검증- Kfold CV"
   ]
  },
  {
   "cell_type": "markdown",
   "id": "981ba8bb",
   "metadata": {},
   "source": [
    "K 폴드 교차 검증은 가장 보편적인 교차 검증 기법이다. 먼저 K개의 데이터 폴드 세트를 만들어서 K번만큼 각 폴드 세트에 학습과 검증 평가를 반복적으로 수행하는 방법이다. "
   ]
  },
  {
   "cell_type": "markdown",
   "id": "3e9c1f84",
   "metadata": {},
   "source": [
    "사이킷런에서는 K fold 교차 검증 프로세스를 구현하기 위해 KFold와 StratifiedKFold 클래스를 제공한다. 먼저 Kfold 클래스를 이용해 붓꽃 데이터 세트를 교차 검증하고 예측 정확도를 알아보자. 붓꽃 데이터 세트와 DecisionTreeClassifier를 다시 생성한다. 그리고 5개의 폴드 세트로 분리하는 KFold 객체를 생성한다."
   ]
  },
  {
   "cell_type": "code",
   "execution_count": 1,
   "id": "910e3e6f",
   "metadata": {},
   "outputs": [],
   "source": [
    "from sklearn.datasets import load_iris\n",
    "from sklearn.tree import DecisionTreeClassifier\n",
    "from sklearn.model_selection import KFold\n",
    "from sklearn.metrics import accuracy_score\n",
    "\n",
    "import numpy as np\n",
    "import pandas as pd"
   ]
  },
  {
   "cell_type": "code",
   "execution_count": 5,
   "id": "876d188b",
   "metadata": {},
   "outputs": [
    {
     "data": {
      "text/plain": [
       "150"
      ]
     },
     "execution_count": 5,
     "metadata": {},
     "output_type": "execute_result"
    }
   ],
   "source": [
    "iris = load_iris()\n",
    "X_ftrs = iris.data #X값\n",
    "y_label = iris.target #y값\n",
    "\n",
    "# 알고리즘 객체화\n",
    "dt_clf = DecisionTreeClassifier(random_state=156)\n",
    "\n",
    "len(X_ftrs)"
   ]
  },
  {
   "cell_type": "code",
   "execution_count": 7,
   "id": "41db8ccd",
   "metadata": {},
   "outputs": [
    {
     "name": "stdout",
     "output_type": "stream",
     "text": [
      "iris shape은: (150, 4)\n"
     ]
    }
   ],
   "source": [
    "### K-fold :: K는 5개입니다.\n",
    "\n",
    "Kfold = KFold(n_splits=5) # Train데이터를 5등분함 \n",
    "print('iris shape은:', X_ftrs.shape)"
   ]
  },
  {
   "cell_type": "code",
   "execution_count": 12,
   "id": "801c50b6",
   "metadata": {},
   "outputs": [
    {
     "name": "stdout",
     "output_type": "stream",
     "text": [
      "[ 30  31  32  33  34  35  36  37  38  39  40  41  42  43  44  45  46  47\n",
      "  48  49  50  51  52  53  54  55  56  57  58  59  60  61  62  63  64  65\n",
      "  66  67  68  69  70  71  72  73  74  75  76  77  78  79  80  81  82  83\n",
      "  84  85  86  87  88  89  90  91  92  93  94  95  96  97  98  99 100 101\n",
      " 102 103 104 105 106 107 108 109 110 111 112 113 114 115 116 117 118 119\n",
      " 120 121 122 123 124 125 126 127 128 129 130 131 132 133 134 135 136 137\n",
      " 138 139 140 141 142 143 144 145 146 147 148 149]\n",
      "[ 0  1  2  3  4  5  6  7  8  9 10 11 12 13 14 15 16 17 18 19 20 21 22 23\n",
      " 24 25 26 27 28 29]\n",
      "[  0   1   2   3   4   5   6   7   8   9  10  11  12  13  14  15  16  17\n",
      "  18  19  20  21  22  23  24  25  26  27  28  29  60  61  62  63  64  65\n",
      "  66  67  68  69  70  71  72  73  74  75  76  77  78  79  80  81  82  83\n",
      "  84  85  86  87  88  89  90  91  92  93  94  95  96  97  98  99 100 101\n",
      " 102 103 104 105 106 107 108 109 110 111 112 113 114 115 116 117 118 119\n",
      " 120 121 122 123 124 125 126 127 128 129 130 131 132 133 134 135 136 137\n",
      " 138 139 140 141 142 143 144 145 146 147 148 149]\n",
      "[30 31 32 33 34 35 36 37 38 39 40 41 42 43 44 45 46 47 48 49 50 51 52 53\n",
      " 54 55 56 57 58 59]\n",
      "[  0   1   2   3   4   5   6   7   8   9  10  11  12  13  14  15  16  17\n",
      "  18  19  20  21  22  23  24  25  26  27  28  29  30  31  32  33  34  35\n",
      "  36  37  38  39  40  41  42  43  44  45  46  47  48  49  50  51  52  53\n",
      "  54  55  56  57  58  59  90  91  92  93  94  95  96  97  98  99 100 101\n",
      " 102 103 104 105 106 107 108 109 110 111 112 113 114 115 116 117 118 119\n",
      " 120 121 122 123 124 125 126 127 128 129 130 131 132 133 134 135 136 137\n",
      " 138 139 140 141 142 143 144 145 146 147 148 149]\n",
      "[60 61 62 63 64 65 66 67 68 69 70 71 72 73 74 75 76 77 78 79 80 81 82 83\n",
      " 84 85 86 87 88 89]\n",
      "[  0   1   2   3   4   5   6   7   8   9  10  11  12  13  14  15  16  17\n",
      "  18  19  20  21  22  23  24  25  26  27  28  29  30  31  32  33  34  35\n",
      "  36  37  38  39  40  41  42  43  44  45  46  47  48  49  50  51  52  53\n",
      "  54  55  56  57  58  59  60  61  62  63  64  65  66  67  68  69  70  71\n",
      "  72  73  74  75  76  77  78  79  80  81  82  83  84  85  86  87  88  89\n",
      " 120 121 122 123 124 125 126 127 128 129 130 131 132 133 134 135 136 137\n",
      " 138 139 140 141 142 143 144 145 146 147 148 149]\n",
      "[ 90  91  92  93  94  95  96  97  98  99 100 101 102 103 104 105 106 107\n",
      " 108 109 110 111 112 113 114 115 116 117 118 119]\n",
      "[  0   1   2   3   4   5   6   7   8   9  10  11  12  13  14  15  16  17\n",
      "  18  19  20  21  22  23  24  25  26  27  28  29  30  31  32  33  34  35\n",
      "  36  37  38  39  40  41  42  43  44  45  46  47  48  49  50  51  52  53\n",
      "  54  55  56  57  58  59  60  61  62  63  64  65  66  67  68  69  70  71\n",
      "  72  73  74  75  76  77  78  79  80  81  82  83  84  85  86  87  88  89\n",
      "  90  91  92  93  94  95  96  97  98  99 100 101 102 103 104 105 106 107\n",
      " 108 109 110 111 112 113 114 115 116 117 118 119]\n",
      "[120 121 122 123 124 125 126 127 128 129 130 131 132 133 134 135 136 137\n",
      " 138 139 140 141 142 143 144 145 146 147 148 149]\n"
     ]
    }
   ],
   "source": [
    "# 위와 같이 Kfold로 객체화 한 Kfold 객체를 split()을 호출하게 되면\n",
    "# 폴드 별 학습용, 검증용 데이터의 index를 array로 반환\n",
    "\n",
    "# i가 train의 size :: 쉽게 큰 size\n",
    "# j가 test의 size :: 쉽게 작은 size\n",
    "for i,j in Kfold.split(X_ftrs):\n",
    "    print(i)\n",
    "    print(j)"
   ]
  },
  {
   "cell_type": "code",
   "execution_count": 39,
   "id": "301f041f",
   "metadata": {},
   "outputs": [
    {
     "name": "stdout",
     "output_type": "stream",
     "text": [
      "\n",
      " # 1 CV 정확도:1.0\n",
      "\n",
      " # 2 CV 정확도:0.9667\n",
      "\n",
      " # 3 CV 정확도:0.8667\n",
      "\n",
      " # 4 CV 정확도:0.9333\n",
      "\n",
      " # 5 CV 정확도:0.7333\n",
      "\n",
      " ## 평균 CV정확도 0.9\n"
     ]
    }
   ],
   "source": [
    "n_iter = 0\n",
    "cv_accuracy = []\n",
    "for train_index, val_index in Kfold.split(X_ftrs):\n",
    "    \n",
    "    # 학습용, 검증용 데이터 추출\n",
    "    X_train, X_val = X_ftrs[train_index], X_ftrs[val_index]\n",
    "    y_train, y_val = y_label[train_index], y_label[val_index]\n",
    "    \n",
    "    # 의사결정나무 학습\n",
    "    dt_clf.fit(X_train,y_train)\n",
    "    # 의사결정나무 예측\n",
    "    pred_dt = dt_clf.predict(X_val)\n",
    "    \n",
    "    # 반복시 마다 정확도 측정(Accuracy)\n",
    "    n_iter = n_iter + 1\n",
    "    accuracy = np.round(accuracy_score(y_val, pred_dt),4)\n",
    "    \n",
    "     # print로 결과출력\n",
    "    print('\\n # {0} CV 정확도:{1}'.format(n_iter,accuracy))\n",
    "    cv_accuracy.append(accuracy)\n",
    "\n",
    "# 개별로 반복된 정확도를 평균내보자\n",
    "\n",
    "print('\\n ## 평균 CV정확도',np.mean(cv_accuracy))"
   ]
  },
  {
   "cell_type": "code",
   "execution_count": 41,
   "id": "e4189a1c",
   "metadata": {},
   "outputs": [],
   "source": [
    "### 참고해보세요 ^^\n",
    "\n",
    "# # 만약 전체 데이터가 설정되면\n",
    "# dt_clf.fit(X_train_all, y_train_all)\n",
    "# dt_clf.predicst(X_test_all) --> 결과값이 나와서\n",
    "\n",
    "# accuracy_score(y_test_all, pred_dt_all)"
   ]
  },
  {
   "cell_type": "code",
   "execution_count": 42,
   "id": "0895d830",
   "metadata": {},
   "outputs": [],
   "source": [
    "# end of file"
   ]
  }
 ],
 "metadata": {
  "kernelspec": {
   "display_name": "Python 3 (ipykernel)",
   "language": "python",
   "name": "python3"
  },
  "language_info": {
   "codemirror_mode": {
    "name": "ipython",
    "version": 3
   },
   "file_extension": ".py",
   "mimetype": "text/x-python",
   "name": "python",
   "nbconvert_exporter": "python",
   "pygments_lexer": "ipython3",
   "version": "3.9.7"
  }
 },
 "nbformat": 4,
 "nbformat_minor": 5
}
