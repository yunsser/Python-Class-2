{
 "cells": [
  {
   "cell_type": "markdown",
   "id": "30a38b1f",
   "metadata": {},
   "source": [
    "## 딕셔너리란? "
   ]
  },
  {
   "cell_type": "markdown",
   "id": "f84a852b",
   "metadata": {},
   "source": [
    "어떠한 데이터는 2가지의 paired된 자료로 구성되어 나타낼 수 있다. 예를 들면 '이름'='홍길동','생일'='05월 31일', '좋아하는 연예인'= '김유하(07)'  "
   ]
  },
  {
   "cell_type": "markdown",
   "id": "536a51cc",
   "metadata": {},
   "source": [
    "위와 같은 대응관계를 나타내는 자료형을 연관배열(Associate Rule) 혹은 해시(Hash)라고 합니다."
   ]
  },
  {
   "cell_type": "code",
   "execution_count": 1,
   "id": "9dfb938c",
   "metadata": {},
   "outputs": [],
   "source": [
    "### 딕셔너리 생성\n",
    "\n",
    "dict1 = {'name':'홍길동',\n",
    "         '생일': '0531',\n",
    "        'phone':'01012345678'}"
   ]
  },
  {
   "cell_type": "code",
   "execution_count": 2,
   "id": "66943ee9",
   "metadata": {},
   "outputs": [
    {
     "data": {
      "text/plain": [
       "{'name': '홍길동', '생일': '0531', 'phone': '01012345678', '연예인': 'ysp'}"
      ]
     },
     "execution_count": 2,
     "metadata": {},
     "output_type": "execute_result"
    }
   ],
   "source": [
    "dict1['연예인']= 'ysp'\n",
    "dict1"
   ]
  },
  {
   "cell_type": "markdown",
   "id": "257316e2",
   "metadata": {},
   "source": [
    "## 딕셔너리의 쌍 추가, 삭제하기"
   ]
  },
  {
   "cell_type": "code",
   "execution_count": 3,
   "id": "46b24581",
   "metadata": {},
   "outputs": [
    {
     "data": {
      "text/plain": [
       "{1: 'a', 2: 'b', 'name': 'pey'}"
      ]
     },
     "execution_count": 3,
     "metadata": {},
     "output_type": "execute_result"
    }
   ],
   "source": [
    "a = {1 : 'a'}\n",
    "a[2] = 'b'\n",
    "a['name']='pey'\n",
    "a"
   ]
  },
  {
   "cell_type": "code",
   "execution_count": 4,
   "id": "8986c46d",
   "metadata": {},
   "outputs": [
    {
     "data": {
      "text/plain": [
       "{1: 'a', 2: 'b', 'name': 'pey', 3: [1, 2, 3]}"
      ]
     },
     "execution_count": 4,
     "metadata": {},
     "output_type": "execute_result"
    }
   ],
   "source": [
    "a[3] = [1,2,3]\n",
    "a"
   ]
  },
  {
   "cell_type": "markdown",
   "id": "3c6ff147",
   "metadata": {},
   "source": [
    "### 딕셔너리의 요소 삭제하기"
   ]
  },
  {
   "cell_type": "code",
   "execution_count": 5,
   "id": "eba36278",
   "metadata": {},
   "outputs": [
    {
     "data": {
      "text/plain": [
       "{1: 'a', 2: 'b', 3: [1, 2, 3]}"
      ]
     },
     "execution_count": 5,
     "metadata": {},
     "output_type": "execute_result"
    }
   ],
   "source": [
    "del a['name'] # Label based indexing \n",
    "\n",
    "a"
   ]
  },
  {
   "cell_type": "markdown",
   "id": "d7fdb357",
   "metadata": {},
   "source": [
    "### 딕셔너리가 활용되는 예"
   ]
  },
  {
   "cell_type": "markdown",
   "id": "d831d2eb",
   "metadata": {},
   "source": [
    "    김유하 = '국민가수'\n",
    "    박영식 = '강사'\n",
    "    손흥민 = '축구'\n",
    "    귀도 = '파이썬'"
   ]
  },
  {
   "cell_type": "code",
   "execution_count": 6,
   "id": "0ea59c82",
   "metadata": {},
   "outputs": [
    {
     "data": {
      "text/plain": [
       "{'김유하': '국민가수', '박영식': '강사', '손흥민': '축구', '귀도': '파이썬'}"
      ]
     },
     "execution_count": 6,
     "metadata": {},
     "output_type": "execute_result"
    }
   ],
   "source": [
    "{'김유하':'국민가수','박영식':'강사','손흥민':'축구','귀도':'파이썬'}"
   ]
  },
  {
   "cell_type": "markdown",
   "id": "09879479",
   "metadata": {},
   "source": [
    "### 딕셔너리의 key를 활용해서 value를 얻기"
   ]
  },
  {
   "cell_type": "code",
   "execution_count": 7,
   "id": "8a4cfeee",
   "metadata": {},
   "outputs": [
    {
     "data": {
      "text/plain": [
       "[1, 2, 3]"
      ]
     },
     "execution_count": 7,
     "metadata": {},
     "output_type": "execute_result"
    }
   ],
   "source": [
    "a[3]"
   ]
  },
  {
   "cell_type": "code",
   "execution_count": 8,
   "id": "3be7c09f",
   "metadata": {},
   "outputs": [
    {
     "data": {
      "text/plain": [
       "50"
      ]
     },
     "execution_count": 8,
     "metadata": {},
     "output_type": "execute_result"
    }
   ],
   "source": [
    "### 2번째 사례\n",
    "grade = {'pey':10, 'julliet':90, 'Ann':50}\n",
    "grade['Ann']"
   ]
  },
  {
   "cell_type": "markdown",
   "id": "4889a185",
   "metadata": {},
   "source": [
    "### 딕셔너리 생성시 주의점"
   ]
  },
  {
   "cell_type": "code",
   "execution_count": 9,
   "id": "d0af99d0",
   "metadata": {},
   "outputs": [
    {
     "data": {
      "text/plain": [
       "{1: 'b'}"
      ]
     },
     "execution_count": 9,
     "metadata": {},
     "output_type": "execute_result"
    }
   ],
   "source": [
    "### 주의점-1\n",
    "a={1:'a',1:'b'}\n",
    "a"
   ]
  },
  {
   "cell_type": "markdown",
   "id": "b50ecc06",
   "metadata": {},
   "source": [
    "위와 같이 key가 중복이 될 경우에는 나머지 key:value는 모두 무시되면서\n",
    "마지막의 key:value만 존재하게 된다."
   ]
  },
  {
   "cell_type": "code",
   "execution_count": 10,
   "id": "672da8e8",
   "metadata": {},
   "outputs": [
    {
     "ename": "TypeError",
     "evalue": "unhashable type: 'list'",
     "output_type": "error",
     "traceback": [
      "\u001b[1;31m---------------------------------------------------------------------------\u001b[0m",
      "\u001b[1;31mTypeError\u001b[0m                                 Traceback (most recent call last)",
      "\u001b[1;32m~\\AppData\\Local\\Temp/ipykernel_18208/294930526.py\u001b[0m in \u001b[0;36m<module>\u001b[1;34m\u001b[0m\n\u001b[0;32m      2\u001b[0m \u001b[1;31m## key자리에 list는 못옵니다.\u001b[0m\u001b[1;33m\u001b[0m\u001b[1;33m\u001b[0m\u001b[0m\n\u001b[0;32m      3\u001b[0m \u001b[1;33m\u001b[0m\u001b[0m\n\u001b[1;32m----> 4\u001b[1;33m {'big_data':100,\n\u001b[0m\u001b[0;32m      5\u001b[0m \u001b[1;33m(\u001b[0m\u001b[1;34m'python'\u001b[0m\u001b[1;33m,\u001b[0m\u001b[1;34m'stat'\u001b[0m\u001b[1;33m)\u001b[0m\u001b[1;33m:\u001b[0m\u001b[1;33m[\u001b[0m\u001b[1;36m98\u001b[0m\u001b[1;33m,\u001b[0m\u001b[1;36m63\u001b[0m\u001b[1;33m]\u001b[0m\u001b[1;33m,\u001b[0m\u001b[1;33m\u001b[0m\u001b[1;33m\u001b[0m\u001b[0m\n\u001b[0;32m      6\u001b[0m ['ML','DL']:[100,87]}\n",
      "\u001b[1;31mTypeError\u001b[0m: unhashable type: 'list'"
     ]
    }
   ],
   "source": [
    "### 주의점-2\n",
    "## key자리에 list는 못옵니다.\n",
    "\n",
    "{'big_data':100,\n",
    "('python','stat'):[98,63],\n",
    "['ML','DL']:[100,87]}"
   ]
  },
  {
   "cell_type": "markdown",
   "id": "0eb19d87",
   "metadata": {},
   "source": [
    "### 딕셔너리 관련 함수들"
   ]
  },
  {
   "cell_type": "code",
   "execution_count": 11,
   "id": "51e988ec",
   "metadata": {},
   "outputs": [],
   "source": [
    "a = {'name':'pey',\n",
    "    'phone':'01012345678',\n",
    "    'birth':'0531'}"
   ]
  },
  {
   "cell_type": "code",
   "execution_count": 12,
   "id": "6445ec38",
   "metadata": {},
   "outputs": [
    {
     "name": "stdout",
     "output_type": "stream",
     "text": [
      "keys로 구성된 리스트: <class 'dict_keys'>\n",
      "리스트로의 변환: <class 'list'>\n"
     ]
    }
   ],
   "source": [
    "### key로 구성된 리스트 만들기\n",
    "print('keys로 구성된 리스트:',type(a.keys()))\n",
    "print('리스트로의 변환:',type(list(a.keys())))"
   ]
  },
  {
   "cell_type": "code",
   "execution_count": 13,
   "id": "3f923936",
   "metadata": {},
   "outputs": [
    {
     "data": {
      "text/plain": [
       "['pey', '01012345678', '0531']"
      ]
     },
     "execution_count": 13,
     "metadata": {},
     "output_type": "execute_result"
    }
   ],
   "source": [
    "### Value 리스트 만들기(values)\n",
    "list(a.values())"
   ]
  },
  {
   "cell_type": "code",
   "execution_count": 14,
   "id": "1e9d68ca",
   "metadata": {},
   "outputs": [
    {
     "data": {
      "text/plain": [
       "[('name', 'pey'), ('phone', '01012345678'), ('birth', '0531')]"
      ]
     },
     "execution_count": 14,
     "metadata": {},
     "output_type": "execute_result"
    }
   ],
   "source": [
    "### key, value 쌍 얻기(items)\n",
    "list(a.items())"
   ]
  },
  {
   "cell_type": "code",
   "execution_count": 15,
   "id": "68dee85e",
   "metadata": {},
   "outputs": [
    {
     "ename": "KeyError",
     "evalue": "'height'",
     "output_type": "error",
     "traceback": [
      "\u001b[1;31m---------------------------------------------------------------------------\u001b[0m",
      "\u001b[1;31mKeyError\u001b[0m                                  Traceback (most recent call last)",
      "\u001b[1;32m~\\AppData\\Local\\Temp/ipykernel_18208/2543572493.py\u001b[0m in \u001b[0;36m<module>\u001b[1;34m\u001b[0m\n\u001b[0;32m      1\u001b[0m \u001b[1;31m### get 함수의 용례\u001b[0m\u001b[1;33m\u001b[0m\u001b[1;33m\u001b[0m\u001b[0m\n\u001b[1;32m----> 2\u001b[1;33m \u001b[0ma\u001b[0m\u001b[1;33m[\u001b[0m\u001b[1;34m'height'\u001b[0m\u001b[1;33m]\u001b[0m\u001b[1;33m\u001b[0m\u001b[1;33m\u001b[0m\u001b[0m\n\u001b[0m",
      "\u001b[1;31mKeyError\u001b[0m: 'height'"
     ]
    }
   ],
   "source": [
    "### get 함수의 용례\n",
    "a['height']"
   ]
  },
  {
   "cell_type": "code",
   "execution_count": 18,
   "id": "b6857d72",
   "metadata": {},
   "outputs": [
    {
     "data": {
      "text/plain": [
       "'nokey'"
      ]
     },
     "execution_count": 18,
     "metadata": {},
     "output_type": "execute_result"
    }
   ],
   "source": [
    "### get함수 적용\n",
    "a.get('height') # 에러를 송출하지 않는다... \n",
    "a.get('height','nokey') # 왼쪽의 key값이 없을때엔 우측의 값을 가져와라."
   ]
  },
  {
   "cell_type": "markdown",
   "id": "6465a826",
   "metadata": {},
   "source": [
    "### DataFrame과 리스트, 딕셔너리, 넘파이 ndarray 상호변환"
   ]
  },
  {
   "cell_type": "code",
   "execution_count": 22,
   "id": "4d724da4",
   "metadata": {},
   "outputs": [
    {
     "name": "stdout",
     "output_type": "stream",
     "text": [
      "array1 shape: (3,)\n",
      "1차원 리스트로 만든 DataFrame:\n",
      "    col1\n",
      "0     1\n",
      "1     2\n",
      "2     3\n",
      "1차원 ndarray로 만든 DataFrame:\n",
      "    col1\n",
      "0     1\n",
      "1     2\n",
      "2     3\n"
     ]
    }
   ],
   "source": [
    "import numpy as np\n",
    "import pandas as pd\n",
    "\n",
    "col_name1=['col1']\n",
    "list1=[1,2,3]\n",
    "array1= np.array(list1)\n",
    "print('array1 shape:', array1.shape)\n",
    "#리스트를 이용하여 DataFrame 생성.\n",
    "df_list1=pd.DataFrame(list1,columns=col_name1)\n",
    "print('1차원 리스트로 만든 DataFrame:\\n',df_list1)\n",
    "#넘파이 ndarray를 통해 DataFrame 생성\n",
    "df_array1=pd.DataFrame(array1,columns=col_name1)\n",
    "print('1차원 ndarray로 만든 DataFrame:\\n',df_array1)"
   ]
  },
  {
   "cell_type": "code",
   "execution_count": 23,
   "id": "25aaabfd",
   "metadata": {},
   "outputs": [
    {
     "name": "stdout",
     "output_type": "stream",
     "text": [
      "array2 shape:\n",
      " (2, 3)\n",
      "2차원 리스트로 만든 DataFrame\n",
      ":    col1  col2  col3\n",
      "0     1     2     3\n",
      "1    11    12    13\n",
      "2차원  ndarray로 만든 DataFrame\n",
      ":    col1  col2  col3\n",
      "0     1     2     3\n",
      "1    11    12    13\n"
     ]
    }
   ],
   "source": [
    "#3개의 칼럼명이 필요함.\n",
    "col_name2=['col1','col2','col3']\n",
    "\n",
    "#2행 x 3열 형태의 리스트와 ndarray 생성한 뒤 이를 DataFrame으로 변환.\n",
    "list2 = [[1,2,3],\n",
    "         [11,12,13]]\n",
    "\n",
    "array2 = np.array(list2)\n",
    "print('array2 shape:\\n',array2.shape)\n",
    "df_list2=pd.DataFrame(list2,columns=col_name2)\n",
    "print('2차원 리스트로 만든 DataFrame\\n:',df_list2)\n",
    "df_array2=pd.DataFrame(array2,columns=col_name2)\n",
    "print('2차원  ndarray로 만든 DataFrame\\n:',df_array2)"
   ]
  },
  {
   "cell_type": "code",
   "execution_count": 24,
   "id": "b3aed83a",
   "metadata": {},
   "outputs": [
    {
     "name": "stdout",
     "output_type": "stream",
     "text": [
      "딕셔너리로 만든 DataFrame:\n",
      "    col1  col2  col3\n",
      "0     1     2     3\n",
      "1    11    22    33\n"
     ]
    }
   ],
   "source": [
    "#key는 문자열 컬럼명으로 매핑, Value는 리스트 형(또는 ndarray) 컬럼 데이터로 매핑\n",
    "dict={'col1':[1,11],'col2':[2,22],'col3':[3,33]}\n",
    "df_dict = pd.DataFrame(dict)\n",
    "print('딕셔너리로 만든 DataFrame:\\n',df_dict)"
   ]
  },
  {
   "cell_type": "code",
   "execution_count": 25,
   "id": "80aa3175",
   "metadata": {},
   "outputs": [
    {
     "name": "stdout",
     "output_type": "stream",
     "text": [
      "df_dict.values 타입: <class 'numpy.ndarray'> df_dict.values shape: (2, 3)\n",
      "[[ 1  2  3]\n",
      " [11 22 33]]\n"
     ]
    }
   ],
   "source": [
    "#DataFrame을 ndarray로 변환\n",
    "array3=df_dict.values\n",
    "print('df_dict.values 타입:', type(array3), 'df_dict.values shape:', array3.shape)\n",
    "print(array3)"
   ]
  },
  {
   "cell_type": "code",
   "execution_count": 26,
   "id": "fe18bd35",
   "metadata": {},
   "outputs": [
    {
     "name": "stdout",
     "output_type": "stream",
     "text": [
      "\n",
      " df_dict.tolist()타입: <class 'list'>\n",
      "[[1, 2, 3], [11, 22, 33]]\n",
      "\n",
      " df_dict.to_dict()타입: <class 'dict'>\n",
      "{'col1': [1, 11], 'col2': [2, 22], 'col3': [3, 33]}\n"
     ]
    }
   ],
   "source": [
    "#DataFrame을 리스트로 변환\n",
    "list3=df_dict.values.tolist()\n",
    "print('\\n df_dict.tolist()타입:',type(list3))\n",
    "print(list3)\n",
    "#DataFrame을 딕셔너리로 변환\n",
    "dict3=df_dict.to_dict('list')\n",
    "print('\\n df_dict.to_dict()타입:',type(dict3))\n",
    "print(dict3)"
   ]
  },
  {
   "cell_type": "code",
   "execution_count": 19,
   "id": "7613a6be",
   "metadata": {},
   "outputs": [],
   "source": [
    "# end of file"
   ]
  }
 ],
 "metadata": {
  "kernelspec": {
   "display_name": "Python 3 (ipykernel)",
   "language": "python",
   "name": "python3"
  },
  "language_info": {
   "codemirror_mode": {
    "name": "ipython",
    "version": 3
   },
   "file_extension": ".py",
   "mimetype": "text/x-python",
   "name": "python",
   "nbconvert_exporter": "python",
   "pygments_lexer": "ipython3",
   "version": "3.9.7"
  }
 },
 "nbformat": 4,
 "nbformat_minor": 5
}
