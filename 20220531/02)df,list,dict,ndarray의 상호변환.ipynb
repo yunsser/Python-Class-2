{
 "cells": [
  {
   "cell_type": "code",
   "execution_count": 3,
   "id": "0b40fefe",
   "metadata": {},
   "outputs": [
    {
     "name": "stdout",
     "output_type": "stream",
     "text": [
      "array1 shape: (3,)\n"
     ]
    }
   ],
   "source": [
    "import numpy as np\n",
    "import pandas as pd\n",
    "\n",
    "col_name1 = ['col1']\n",
    "l1 = [1,2,3]\n",
    "array1 = np.array(l1)\n",
    "print('array1 shape:', array1.shape)"
   ]
  },
  {
   "cell_type": "code",
   "execution_count": 4,
   "id": "b585f0f5",
   "metadata": {},
   "outputs": [
    {
     "data": {
      "text/html": [
       "<div>\n",
       "<style scoped>\n",
       "    .dataframe tbody tr th:only-of-type {\n",
       "        vertical-align: middle;\n",
       "    }\n",
       "\n",
       "    .dataframe tbody tr th {\n",
       "        vertical-align: top;\n",
       "    }\n",
       "\n",
       "    .dataframe thead th {\n",
       "        text-align: right;\n",
       "    }\n",
       "</style>\n",
       "<table border=\"1\" class=\"dataframe\">\n",
       "  <thead>\n",
       "    <tr style=\"text-align: right;\">\n",
       "      <th></th>\n",
       "      <th>col1</th>\n",
       "    </tr>\n",
       "  </thead>\n",
       "  <tbody>\n",
       "    <tr>\n",
       "      <th>0</th>\n",
       "      <td>1</td>\n",
       "    </tr>\n",
       "    <tr>\n",
       "      <th>1</th>\n",
       "      <td>2</td>\n",
       "    </tr>\n",
       "    <tr>\n",
       "      <th>2</th>\n",
       "      <td>3</td>\n",
       "    </tr>\n",
       "  </tbody>\n",
       "</table>\n",
       "</div>"
      ],
      "text/plain": [
       "   col1\n",
       "0     1\n",
       "1     2\n",
       "2     3"
      ]
     },
     "execution_count": 4,
     "metadata": {},
     "output_type": "execute_result"
    }
   ],
   "source": [
    "# 리스트 -> df 생성\n",
    "df_l1 = pd.DataFrame(l1, columns=col_name1)\n",
    "df_l1"
   ]
  },
  {
   "cell_type": "code",
   "execution_count": 5,
   "id": "eb8f6afb",
   "metadata": {},
   "outputs": [
    {
     "data": {
      "text/html": [
       "<div>\n",
       "<style scoped>\n",
       "    .dataframe tbody tr th:only-of-type {\n",
       "        vertical-align: middle;\n",
       "    }\n",
       "\n",
       "    .dataframe tbody tr th {\n",
       "        vertical-align: top;\n",
       "    }\n",
       "\n",
       "    .dataframe thead th {\n",
       "        text-align: right;\n",
       "    }\n",
       "</style>\n",
       "<table border=\"1\" class=\"dataframe\">\n",
       "  <thead>\n",
       "    <tr style=\"text-align: right;\">\n",
       "      <th></th>\n",
       "      <th>col1</th>\n",
       "    </tr>\n",
       "  </thead>\n",
       "  <tbody>\n",
       "    <tr>\n",
       "      <th>0</th>\n",
       "      <td>1</td>\n",
       "    </tr>\n",
       "    <tr>\n",
       "      <th>1</th>\n",
       "      <td>2</td>\n",
       "    </tr>\n",
       "    <tr>\n",
       "      <th>2</th>\n",
       "      <td>3</td>\n",
       "    </tr>\n",
       "  </tbody>\n",
       "</table>\n",
       "</div>"
      ],
      "text/plain": [
       "   col1\n",
       "0     1\n",
       "1     2\n",
       "2     3"
      ]
     },
     "execution_count": 5,
     "metadata": {},
     "output_type": "execute_result"
    }
   ],
   "source": [
    "# ndarray -> df 생성\n",
    "df_array1 = pd.DataFrame(array1, columns=col_name1)\n",
    "df_array1"
   ]
  },
  {
   "cell_type": "code",
   "execution_count": 11,
   "id": "f6d8b9ac",
   "metadata": {},
   "outputs": [
    {
     "name": "stdout",
     "output_type": "stream",
     "text": [
      "array2 shape:\n",
      " (2, 3)\n",
      "2차원 리스트로 df 생성\n",
      "    col1  col2  col3\n",
      "0     1     2     3\n",
      "1    11    22    33\n",
      "2차원 ndarray로 df 생성\n",
      "    col1  col2  col3\n",
      "0     1     2     3\n",
      "1    11    22    33\n"
     ]
    }
   ],
   "source": [
    "# 3개의 컬럼명을 준비 (2,3)의 행렬을 생성할 계획\n",
    "col_name2 = ['col1','col2','col3']\n",
    "\n",
    "# 2 X 3 형태의 리스트와 ndarray를 생성한 후 \n",
    "# 이를 df로 변환\n",
    "\n",
    "l2 = [[1,2,3],\n",
    "      [11,22,33]]\n",
    "\n",
    "array2 = np.array(l2)\n",
    "print('array2 shape:\\n', array2.shape)\n",
    "\n",
    "# 2차원 리스트로 df 생성\n",
    "df_l2 = pd.DataFrame(l2, columns=col_name2)\n",
    "print('2차원 리스트로 df 생성\\n',df_l2)\n",
    "\n",
    "# 2차원 ndarray로 df 생성\n",
    "df_array2 = pd.DataFrame(array2, columns=col_name2)\n",
    "print('2차원 ndarray로 df 생성\\n',df_l2)"
   ]
  },
  {
   "cell_type": "code",
   "execution_count": 13,
   "id": "a087c004",
   "metadata": {},
   "outputs": [
    {
     "name": "stdout",
     "output_type": "stream",
     "text": [
      "    a   b   c\n",
      "0   1   2   3\n",
      "1  11  22  33\n"
     ]
    }
   ],
   "source": [
    "# key는 문자열 컬럼명으로 매핑\n",
    "# value는 list 또는 ndarray의 형태로 적용\n",
    "\n",
    "dict1 = {'a':[1,11],'b':[2,22],'c':[3,33]}\n",
    "df_dict1 = pd.DataFrame(dict1)\n",
    "print(df_dict1)"
   ]
  },
  {
   "cell_type": "markdown",
   "id": "e7dbabaa",
   "metadata": {},
   "source": [
    "### DataFrame을 ndarray로 변환"
   ]
  },
  {
   "cell_type": "code",
   "execution_count": 19,
   "id": "93fd139c",
   "metadata": {},
   "outputs": [
    {
     "name": "stdout",
     "output_type": "stream",
     "text": [
      "df_dict1.values의 타입: <class 'numpy.ndarray'>\n",
      "df_dict1.values의 shape: (2, 3)\n",
      "[[ 1  2  3]\n",
      " [11 22 33]]\n"
     ]
    }
   ],
   "source": [
    "### DataFrame -> ndarray\n",
    "\n",
    "array3 = df_dict1.values\n",
    "print('df_dict1.values의 타입:', type(array3))\n",
    "print('df_dict1.values의 shape:', array3.shape)\n",
    "print(array3)"
   ]
  },
  {
   "cell_type": "code",
   "execution_count": 33,
   "id": "4c9c4a4b",
   "metadata": {},
   "outputs": [
    {
     "data": {
      "text/html": [
       "<div>\n",
       "<style scoped>\n",
       "    .dataframe tbody tr th:only-of-type {\n",
       "        vertical-align: middle;\n",
       "    }\n",
       "\n",
       "    .dataframe tbody tr th {\n",
       "        vertical-align: top;\n",
       "    }\n",
       "\n",
       "    .dataframe thead th {\n",
       "        text-align: right;\n",
       "    }\n",
       "</style>\n",
       "<table border=\"1\" class=\"dataframe\">\n",
       "  <thead>\n",
       "    <tr style=\"text-align: right;\">\n",
       "      <th></th>\n",
       "      <th>a</th>\n",
       "      <th>b</th>\n",
       "      <th>c</th>\n",
       "    </tr>\n",
       "  </thead>\n",
       "  <tbody>\n",
       "    <tr>\n",
       "      <th>0</th>\n",
       "      <td>1</td>\n",
       "      <td>2</td>\n",
       "      <td>3</td>\n",
       "    </tr>\n",
       "    <tr>\n",
       "      <th>1</th>\n",
       "      <td>11</td>\n",
       "      <td>22</td>\n",
       "      <td>33</td>\n",
       "    </tr>\n",
       "  </tbody>\n",
       "</table>\n",
       "</div>"
      ],
      "text/plain": [
       "    a   b   c\n",
       "0   1   2   3\n",
       "1  11  22  33"
      ]
     },
     "execution_count": 33,
     "metadata": {},
     "output_type": "execute_result"
    }
   ],
   "source": [
    "df_dict1"
   ]
  },
  {
   "cell_type": "code",
   "execution_count": 35,
   "id": "cbdbde36",
   "metadata": {},
   "outputs": [
    {
     "name": "stdout",
     "output_type": "stream",
     "text": [
      "df_dict.tolist()타입: <class 'list'>\n",
      "[[1, 2, 3], [11, 22, 33]] \n",
      "\n",
      "df_dict.to_dict()타입: <class 'dict'>\n",
      "{'a': [1, 11], 'b': [2, 22], 'c': [3, 33]} \n",
      "\n"
     ]
    }
   ],
   "source": [
    "### DataFrame -> ndarray -> list로 변환\n",
    "l3 = df_dict1.values.tolist()\n",
    "print('df_dict.tolist()타입:', type(l3))\n",
    "print(l3,'\\n')\n",
    "\n",
    "### DataFrame -> dict\n",
    "dict3 = df_dict1.to_dict('list')\n",
    "print('df_dict.to_dict()타입:', type(dict3))\n",
    "print(dict3,'\\n')"
   ]
  },
  {
   "cell_type": "code",
   "execution_count": 36,
   "id": "e98c8abe",
   "metadata": {},
   "outputs": [],
   "source": [
    "# end of file"
   ]
  }
 ],
 "metadata": {
  "kernelspec": {
   "display_name": "Python 3 (ipykernel)",
   "language": "python",
   "name": "python3"
  },
  "language_info": {
   "codemirror_mode": {
    "name": "ipython",
    "version": 3
   },
   "file_extension": ".py",
   "mimetype": "text/x-python",
   "name": "python",
   "nbconvert_exporter": "python",
   "pygments_lexer": "ipython3",
   "version": "3.9.7"
  }
 },
 "nbformat": 4,
 "nbformat_minor": 5
}
