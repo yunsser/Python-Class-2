{
 "cells": [
  {
   "cell_type": "markdown",
   "id": "32920889",
   "metadata": {},
   "source": [
    "## 행렬의 정렬 - sort()와 argsort()"
   ]
  },
  {
   "cell_type": "code",
   "execution_count": 2,
   "id": "55a6cb16",
   "metadata": {},
   "outputs": [],
   "source": [
    "import pandas as pd\n",
    "import numpy as np"
   ]
  },
  {
   "cell_type": "code",
   "execution_count": 5,
   "id": "4cb34c88",
   "metadata": {},
   "outputs": [
    {
     "name": "stdout",
     "output_type": "stream",
     "text": [
      "원본 행렬: [3 1 9 5]\n"
     ]
    }
   ],
   "source": [
    "org_array = np.array([3,1,9,5])\n",
    "print('원본 행렬:', org_array)"
   ]
  },
  {
   "cell_type": "code",
   "execution_count": 9,
   "id": "d3f60a48",
   "metadata": {},
   "outputs": [
    {
     "name": "stdout",
     "output_type": "stream",
     "text": [
      "sort_array1: [1 3 5 9]\n",
      "org_array: [1 3 5 9]\n",
      "sort_array2: None\n",
      "org_array: [1 3 5 9]\n"
     ]
    }
   ],
   "source": [
    "## np.sort()로 정렬\n",
    "sort_array1= np.sort(org_array) \n",
    "print('sort_array1:', sort_array1)\n",
    "print('org_array:', org_array)\n",
    "\n",
    "## ndarray.sort()로 정렬\n",
    "sort_array2 = org_array.sort()\n",
    "print('sort_array2:', sort_array2)\n",
    "print('org_array:', org_array)"
   ]
  },
  {
   "cell_type": "code",
   "execution_count": 12,
   "id": "a1b24331",
   "metadata": {},
   "outputs": [
    {
     "name": "stdout",
     "output_type": "stream",
     "text": [
      "[9 5 3 1]\n"
     ]
    }
   ],
   "source": [
    "### 내림차순으로 정렬\n",
    "sorted_desc = np.sort(org_array)[::-1]\n",
    "print(sorted_desc)"
   ]
  },
  {
   "cell_type": "markdown",
   "id": "8fad1652",
   "metadata": {},
   "source": [
    "#### Axis 축을 기준으로 하여 정렬"
   ]
  },
  {
   "cell_type": "code",
   "execution_count": 15,
   "id": "2da76676",
   "metadata": {},
   "outputs": [],
   "source": [
    "array2d = np.array([[8,1],\n",
    "                    [7,12]])"
   ]
  },
  {
   "cell_type": "code",
   "execution_count": 16,
   "id": "8f127bd2",
   "metadata": {},
   "outputs": [
    {
     "name": "stdout",
     "output_type": "stream",
     "text": [
      "로우 방향으로 정렬:\n",
      " [[ 7  1]\n",
      " [ 8 12]]\n"
     ]
    }
   ],
   "source": [
    "sort_array2d_axis0 = np.sort(array2d, axis=0)\n",
    "print('로우 방향으로 정렬:\\n', sort_array2d_axis0)"
   ]
  },
  {
   "cell_type": "code",
   "execution_count": 17,
   "id": "1d3e2c75",
   "metadata": {},
   "outputs": [
    {
     "name": "stdout",
     "output_type": "stream",
     "text": [
      "컬럼 방향으로 정렬:\n",
      " [[ 1  8]\n",
      " [ 7 12]]\n"
     ]
    }
   ],
   "source": [
    "sort_array2d_axis1 = np.sort(array2d, axis=1)\n",
    "print('컬럼 방향으로 정렬:\\n', sort_array2d_axis1)"
   ]
  },
  {
   "cell_type": "markdown",
   "id": "8528b3cf",
   "metadata": {},
   "source": [
    "##### argsort()함수 :: 정렬된 행렬의 인덱스 반환! "
   ]
  },
  {
   "cell_type": "code",
   "execution_count": 20,
   "id": "0e5b9bc9",
   "metadata": {},
   "outputs": [
    {
     "name": "stdout",
     "output_type": "stream",
     "text": [
      "<class 'numpy.ndarray'>\n",
      "행렬 정렬 시 원본 행렬의 index: [1 0 3 2]\n"
     ]
    }
   ],
   "source": [
    "### 오름차순\n",
    "\n",
    "org_array = np.array([3,1,9,5])\n",
    "sort_indices = np.argsort(org_array)\n",
    "print(type(sort_indices))\n",
    "print('행렬 정렬 시 원본 행렬의 index:', sort_indices)"
   ]
  },
  {
   "cell_type": "code",
   "execution_count": 22,
   "id": "48fcc8e5",
   "metadata": {},
   "outputs": [
    {
     "name": "stdout",
     "output_type": "stream",
     "text": [
      "<class 'numpy.ndarray'>\n",
      "행렬 정렬 시 원본 행렬의 index: [2 3 0 1]\n"
     ]
    }
   ],
   "source": [
    "### 내림차순 - [9,5,3,1]\n",
    "#              2 3 0 1  \n",
    "\n",
    "org_array = np.array([3,1,9,5])\n",
    "sort_indices = np.argsort(org_array)[::-1]\n",
    "print(type(sort_indices))\n",
    "print('행렬 정렬 시 원본 행렬의 index:', sort_indices)"
   ]
  },
  {
   "cell_type": "code",
   "execution_count": 23,
   "id": "a2425a04",
   "metadata": {},
   "outputs": [
    {
     "name": "stdout",
     "output_type": "stream",
     "text": [
      "A의 전치행렬:\n",
      " [[1 3]\n",
      " [2 4]]\n",
      "B의 전치행렬:\n",
      " [[1 3 5]\n",
      " [2 4 6]]\n"
     ]
    }
   ],
   "source": [
    "A= np.array([[1,2],\n",
    "            [3,4]])\n",
    "transpose_mat=np.transpose(A)\n",
    "print('A의 전치행렬:\\n', transpose_mat)\n",
    "\n",
    "B= np.array([[1,2],\n",
    "            [3,4],\n",
    "            [5,6]])\n",
    "\n",
    "transpose_mat1=np.transpose(B)\n",
    "print('B의 전치행렬:\\n', transpose_mat1)"
   ]
  },
  {
   "cell_type": "code",
   "execution_count": 24,
   "id": "ed2de108",
   "metadata": {},
   "outputs": [],
   "source": [
    "# end of file"
   ]
  }
 ],
 "metadata": {
  "kernelspec": {
   "display_name": "Python 3 (ipykernel)",
   "language": "python",
   "name": "python3"
  },
  "language_info": {
   "codemirror_mode": {
    "name": "ipython",
    "version": 3
   },
   "file_extension": ".py",
   "mimetype": "text/x-python",
   "name": "python",
   "nbconvert_exporter": "python",
   "pygments_lexer": "ipython3",
   "version": "3.9.7"
  }
 },
 "nbformat": 4,
 "nbformat_minor": 5
}
