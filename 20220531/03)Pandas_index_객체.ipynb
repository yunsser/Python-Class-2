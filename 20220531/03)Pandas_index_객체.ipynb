{
 "cells": [
  {
   "cell_type": "code",
   "execution_count": 1,
   "id": "27ae4b01",
   "metadata": {},
   "outputs": [],
   "source": [
    "import pandas as pd"
   ]
  },
  {
   "cell_type": "code",
   "execution_count": 5,
   "id": "8f3d639c",
   "metadata": {},
   "outputs": [],
   "source": [
    "data = {'Name':['Chulmin','Eunkyoung', 'Jiwoong',' Soobeom'],\n",
    "       'Year':[2011,2016,2012,2017],\n",
    "       'Gender':['Male','Female',' Male', 'Male']}"
   ]
  },
  {
   "cell_type": "code",
   "execution_count": 8,
   "id": "6b7c12da",
   "metadata": {},
   "outputs": [
    {
     "data": {
      "text/html": [
       "<div>\n",
       "<style scoped>\n",
       "    .dataframe tbody tr th:only-of-type {\n",
       "        vertical-align: middle;\n",
       "    }\n",
       "\n",
       "    .dataframe tbody tr th {\n",
       "        vertical-align: top;\n",
       "    }\n",
       "\n",
       "    .dataframe thead th {\n",
       "        text-align: right;\n",
       "    }\n",
       "</style>\n",
       "<table border=\"1\" class=\"dataframe\">\n",
       "  <thead>\n",
       "    <tr style=\"text-align: right;\">\n",
       "      <th></th>\n",
       "      <th>Name</th>\n",
       "      <th>Year</th>\n",
       "      <th>Gender</th>\n",
       "    </tr>\n",
       "  </thead>\n",
       "  <tbody>\n",
       "    <tr>\n",
       "      <th>one</th>\n",
       "      <td>Chulmin</td>\n",
       "      <td>2011</td>\n",
       "      <td>Male</td>\n",
       "    </tr>\n",
       "    <tr>\n",
       "      <th>two</th>\n",
       "      <td>Eunkyoung</td>\n",
       "      <td>2016</td>\n",
       "      <td>Female</td>\n",
       "    </tr>\n",
       "    <tr>\n",
       "      <th>three</th>\n",
       "      <td>Jiwoong</td>\n",
       "      <td>2012</td>\n",
       "      <td>Male</td>\n",
       "    </tr>\n",
       "    <tr>\n",
       "      <th>four</th>\n",
       "      <td>Soobeom</td>\n",
       "      <td>2017</td>\n",
       "      <td>Male</td>\n",
       "    </tr>\n",
       "  </tbody>\n",
       "</table>\n",
       "</div>"
      ],
      "text/plain": [
       "            Name  Year  Gender\n",
       "one      Chulmin  2011    Male\n",
       "two    Eunkyoung  2016  Female\n",
       "three    Jiwoong  2012    Male\n",
       "four     Soobeom  2017    Male"
      ]
     },
     "execution_count": 8,
     "metadata": {},
     "output_type": "execute_result"
    }
   ],
   "source": [
    "data_df= pd.DataFrame(data, index=['one','two','three','four'])\n",
    "data_df"
   ]
  },
  {
   "cell_type": "code",
   "execution_count": 12,
   "id": "fce2104d",
   "metadata": {},
   "outputs": [
    {
     "data": {
      "text/plain": [
       "'Eunkyoung'"
      ]
     },
     "execution_count": 12,
     "metadata": {},
     "output_type": "execute_result"
    }
   ],
   "source": [
    "# Eunkyoung을 가져와주세요 ^^ -1\n",
    "\n",
    "data_df['Name'][1]"
   ]
  },
  {
   "cell_type": "code",
   "execution_count": 15,
   "id": "8415584e",
   "metadata": {},
   "outputs": [
    {
     "data": {
      "text/plain": [
       "'Eunkyoung'"
      ]
     },
     "execution_count": 15,
     "metadata": {},
     "output_type": "execute_result"
    }
   ],
   "source": [
    "# Eunkyoung을 가져와주세요 ^^ -2\n",
    "# iloc :: positional indexing - 위치기반 인덱싱\n",
    "\n",
    "data_df.iloc[1,0]"
   ]
  },
  {
   "cell_type": "code",
   "execution_count": 18,
   "id": "cfb615c3",
   "metadata": {},
   "outputs": [
    {
     "data": {
      "text/plain": [
       "'Eunkyoung'"
      ]
     },
     "execution_count": 18,
     "metadata": {},
     "output_type": "execute_result"
    }
   ],
   "source": [
    "# Eunkyoung을 가져와주세요 ^^ -2\n",
    "# loc :: label based indexing - 명칭기반 인덱싱\n",
    "\n",
    "data_df.loc['two','Name']"
   ]
  },
  {
   "cell_type": "code",
   "execution_count": 19,
   "id": "43b09e1e",
   "metadata": {},
   "outputs": [
    {
     "data": {
      "text/html": [
       "<div>\n",
       "<style scoped>\n",
       "    .dataframe tbody tr th:only-of-type {\n",
       "        vertical-align: middle;\n",
       "    }\n",
       "\n",
       "    .dataframe tbody tr th {\n",
       "        vertical-align: top;\n",
       "    }\n",
       "\n",
       "    .dataframe thead th {\n",
       "        text-align: right;\n",
       "    }\n",
       "</style>\n",
       "<table border=\"1\" class=\"dataframe\">\n",
       "  <thead>\n",
       "    <tr style=\"text-align: right;\">\n",
       "      <th></th>\n",
       "      <th>Name</th>\n",
       "      <th>Year</th>\n",
       "      <th>Gender</th>\n",
       "    </tr>\n",
       "  </thead>\n",
       "  <tbody>\n",
       "    <tr>\n",
       "      <th>one</th>\n",
       "      <td>Chulmin</td>\n",
       "      <td>2011</td>\n",
       "      <td>Male</td>\n",
       "    </tr>\n",
       "    <tr>\n",
       "      <th>two</th>\n",
       "      <td>Eunkyoung</td>\n",
       "      <td>2016</td>\n",
       "      <td>Female</td>\n",
       "    </tr>\n",
       "    <tr>\n",
       "      <th>three</th>\n",
       "      <td>Jiwoong</td>\n",
       "      <td>2012</td>\n",
       "      <td>Male</td>\n",
       "    </tr>\n",
       "    <tr>\n",
       "      <th>four</th>\n",
       "      <td>Soobeom</td>\n",
       "      <td>2017</td>\n",
       "      <td>Male</td>\n",
       "    </tr>\n",
       "  </tbody>\n",
       "</table>\n",
       "</div>"
      ],
      "text/plain": [
       "            Name  Year  Gender\n",
       "one      Chulmin  2011    Male\n",
       "two    Eunkyoung  2016  Female\n",
       "three    Jiwoong  2012    Male\n",
       "four     Soobeom  2017    Male"
      ]
     },
     "execution_count": 19,
     "metadata": {},
     "output_type": "execute_result"
    }
   ],
   "source": [
    "data_df"
   ]
  },
  {
   "cell_type": "code",
   "execution_count": 26,
   "id": "c4dc82c6",
   "metadata": {},
   "outputs": [
    {
     "name": "stdout",
     "output_type": "stream",
     "text": [
      "Chulmin\n",
      "Chulmin\n",
      " Soobeom\n",
      "          Name  Year\n",
      "one    Chulmin  2011\n",
      "two  Eunkyoung  2016\n",
      "            Name  Gender\n",
      "one      Chulmin    Male\n",
      "two    Eunkyoung  Female\n",
      "three    Jiwoong    Male\n",
      "four     Soobeom    Male\n",
      "           Name  Year  Gender\n",
      "two   Eunkyoung  2016  Female\n",
      "four    Soobeom  2017    Male\n"
     ]
    }
   ],
   "source": [
    "print(data_df.iloc[0,0]) # Chulmin\n",
    "print(data_df.loc['one','Name']) # Chulmin\n",
    "print(data_df.loc['four','Name']) # Soobeom\n",
    "print(data_df.iloc[0:2,[0,1]]) # Numpy에서의 Fancy indexing과 비슷\n",
    "print(data_df.loc['one':'four',['Name','Gender']]) \n",
    "print(data_df.loc[data_df['Year']>2014]) #"
   ]
  },
  {
   "cell_type": "code",
   "execution_count": null,
   "id": "efd2ea2f",
   "metadata": {},
   "outputs": [],
   "source": [
    "### 요청~1. 연습문제 복습\n",
    "### 요청~2. 통계학 질문\n",
    "### 요청~3. iloc, loc 이것을 활용하여 titanic_df에서 원하는 데이터 인덱싱 연습"
   ]
  },
  {
   "cell_type": "code",
   "execution_count": 27,
   "id": "caa4f204",
   "metadata": {},
   "outputs": [],
   "source": [
    "# end of file"
   ]
  },
  {
   "cell_type": "code",
   "execution_count": null,
   "id": "a3678ce7",
   "metadata": {},
   "outputs": [],
   "source": []
  }
 ],
 "metadata": {
  "kernelspec": {
   "display_name": "Python 3 (ipykernel)",
   "language": "python",
   "name": "python3"
  },
  "language_info": {
   "codemirror_mode": {
    "name": "ipython",
    "version": 3
   },
   "file_extension": ".py",
   "mimetype": "text/x-python",
   "name": "python",
   "nbconvert_exporter": "python",
   "pygments_lexer": "ipython3",
   "version": "3.9.7"
  }
 },
 "nbformat": 4,
 "nbformat_minor": 5
}
