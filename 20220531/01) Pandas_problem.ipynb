{
 "cells": [
  {
   "cell_type": "code",
   "execution_count": 6,
   "id": "054f1e7b",
   "metadata": {},
   "outputs": [],
   "source": [
    "import pandas as pd"
   ]
  },
  {
   "cell_type": "code",
   "execution_count": 1,
   "id": "8a85d3da",
   "metadata": {},
   "outputs": [],
   "source": [
    "# Q1. games.csv를 로딩하여 lol_df에 할당/선언해주세요."
   ]
  },
  {
   "cell_type": "code",
   "execution_count": null,
   "id": "83ff1aee",
   "metadata": {},
   "outputs": [],
   "source": []
  },
  {
   "cell_type": "code",
   "execution_count": 2,
   "id": "580f6d53",
   "metadata": {},
   "outputs": [],
   "source": [
    "# Q2. 7번째 컬럼명을 출력해보세요."
   ]
  },
  {
   "cell_type": "code",
   "execution_count": null,
   "id": "c666f2dd",
   "metadata": {},
   "outputs": [],
   "source": []
  },
  {
   "cell_type": "code",
   "execution_count": 3,
   "id": "5a749b14",
   "metadata": {},
   "outputs": [],
   "source": [
    "# Q3. 7번째 컬럼의 value의 data type을 확인해주세요(위치기반 인덱싱)"
   ]
  },
  {
   "cell_type": "code",
   "execution_count": null,
   "id": "4c93da61",
   "metadata": {},
   "outputs": [],
   "source": []
  },
  {
   "cell_type": "code",
   "execution_count": 4,
   "id": "2be0a33f",
   "metadata": {},
   "outputs": [],
   "source": [
    "# Q4. 데이터셋의 인덱스 구성은 어떻게 되어 있는지 확인해주세요."
   ]
  },
  {
   "cell_type": "code",
   "execution_count": null,
   "id": "e18d60ce",
   "metadata": {},
   "outputs": [],
   "source": []
  },
  {
   "cell_type": "code",
   "execution_count": 5,
   "id": "7d267646",
   "metadata": {},
   "outputs": [],
   "source": [
    "# Q5. 7번째 컬럼의 3번째 값은 무엇인지 확인해주세요. (Positional Indexing)"
   ]
  },
  {
   "cell_type": "code",
   "execution_count": null,
   "id": "790a23b3",
   "metadata": {},
   "outputs": [],
   "source": []
  },
  {
   "cell_type": "markdown",
   "id": "66850050",
   "metadata": {},
   "source": [
    "### 새로운 데이터프레임(이하 df)를 통한 문제"
   ]
  },
  {
   "cell_type": "code",
   "execution_count": null,
   "id": "ee909087",
   "metadata": {},
   "outputs": [],
   "source": [
    "# Q1. jeju.csv 데이터를 로딩하여 보세요."
   ]
  },
  {
   "cell_type": "code",
   "execution_count": null,
   "id": "5df1b81b",
   "metadata": {},
   "outputs": [],
   "source": []
  },
  {
   "cell_type": "code",
   "execution_count": 7,
   "id": "18af6da6",
   "metadata": {},
   "outputs": [],
   "source": [
    "# Q2. 데이터의 마지막 3개의 행을 출력해보세요."
   ]
  },
  {
   "cell_type": "code",
   "execution_count": null,
   "id": "d8ae3894",
   "metadata": {},
   "outputs": [],
   "source": []
  },
  {
   "cell_type": "code",
   "execution_count": 8,
   "id": "c384334b",
   "metadata": {},
   "outputs": [],
   "source": [
    "# Q3. 데이터의 수치형 변수를 출력해보세요."
   ]
  },
  {
   "cell_type": "code",
   "execution_count": null,
   "id": "3434f226",
   "metadata": {},
   "outputs": [],
   "source": []
  },
  {
   "cell_type": "code",
   "execution_count": 9,
   "id": "925dc4b0",
   "metadata": {},
   "outputs": [],
   "source": [
    "# Q4. 데이터의 문자형 변수를 출력해보세요"
   ]
  },
  {
   "cell_type": "code",
   "execution_count": null,
   "id": "8d4a93ed",
   "metadata": {},
   "outputs": [],
   "source": []
  },
  {
   "cell_type": "code",
   "execution_count": 10,
   "id": "ba968f63",
   "metadata": {},
   "outputs": [],
   "source": [
    "# Q5. 각 컬럼의 결측치 숫자를 파악해주세요."
   ]
  },
  {
   "cell_type": "code",
   "execution_count": null,
   "id": "418a5691",
   "metadata": {},
   "outputs": [],
   "source": []
  },
  {
   "cell_type": "code",
   "execution_count": 11,
   "id": "4391c2e8",
   "metadata": {},
   "outputs": [],
   "source": [
    "# Q6. 각 컬럼의 데이터수, 데이터 타입을 한 번에 확인하라."
   ]
  },
  {
   "cell_type": "code",
   "execution_count": null,
   "id": "1d047682",
   "metadata": {},
   "outputs": [],
   "source": []
  },
  {
   "cell_type": "code",
   "execution_count": 12,
   "id": "ea4dba9b",
   "metadata": {},
   "outputs": [],
   "source": [
    "# Q7. 각 수치형 변수의 분포(사분위, 평균, 표준편차, 최대, 최소)를 확인하라."
   ]
  },
  {
   "cell_type": "code",
   "execution_count": null,
   "id": "b60ae911",
   "metadata": {},
   "outputs": [],
   "source": []
  },
  {
   "cell_type": "code",
   "execution_count": 13,
   "id": "7b8e4ce0",
   "metadata": {},
   "outputs": [],
   "source": [
    "# Q8. 거주인구 컬럼의 값들을 출력하라. (보통 이러면 Series로 출력하게 됩니다)"
   ]
  },
  {
   "cell_type": "code",
   "execution_count": null,
   "id": "fa03fce3",
   "metadata": {},
   "outputs": [],
   "source": []
  },
  {
   "cell_type": "code",
   "execution_count": 14,
   "id": "d8f04a61",
   "metadata": {},
   "outputs": [],
   "source": [
    "# Q9. 평균속도 컬럼의 4분위 범위(IQR)값을 구하여라."
   ]
  },
  {
   "cell_type": "code",
   "execution_count": null,
   "id": "5e040dbe",
   "metadata": {},
   "outputs": [],
   "source": []
  }
 ],
 "metadata": {
  "kernelspec": {
   "display_name": "Python 3 (ipykernel)",
   "language": "python",
   "name": "python3"
  },
  "language_info": {
   "codemirror_mode": {
    "name": "ipython",
    "version": 3
   },
   "file_extension": ".py",
   "mimetype": "text/x-python",
   "name": "python",
   "nbconvert_exporter": "python",
   "pygments_lexer": "ipython3",
   "version": "3.9.7"
  }
 },
 "nbformat": 4,
 "nbformat_minor": 5
}
